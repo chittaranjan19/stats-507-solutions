{
 "cells": [
  {
   "cell_type": "markdown",
   "id": "9bd6aa85",
   "metadata": {},
   "source": [
    "## Q0 - RECS and Replicate Weights\n",
    "\n",
    "There are three primary files being used for this exercise, they are linked below:\n",
    "1. [Microdata - 2009](https://www.eia.gov/consumption/residential/data/2009/csv/recs2009_public.csv)\n",
    "2. [Replicate Weights - 2009](https://www.eia.gov/consumption/residential/data/2009/csv/recs2009_public_repweights.csv)\n",
    "3. [Microdata and Replicate Weights - 2015](https://www.eia.gov/consumption/residential/data/2015/csv/recs2015_public_v4.csv)\n",
    "\n",
    "While this dataset has a large number of variables (described in the [codebook](https://www.eia.gov/consumption/residential/data/2009/xls/recs2009_public_codebook.xlsx), this exercise uses only a small subset to address a very specfic question.\n",
    "\n",
    "These variables are:\n",
    "- DOEID: A unique ID representing a household whose power consumption has been recorded\n",
    "- REGIONC: One of four Census Regions (Midwest, Northeast, South, West)\n",
    "- HDD65: The Heating Degree Days recorded for a unique household, with 65F as base temperature\n",
    "- CDD65: The Cooling Degree Days recorded for a unique household, with 65F as base temperature\n",
    "- NWEIGHT: The final weightage provided to any one household, indicative of how many households it is representative of\n",
    "- BRRWTX, brr_weight_x: Balanced Repeated Replicate weights, there are 244, 96 of them respectively for 2009 and 2015\n",
    "\n",
    "Some details of the BRR sampling method are provided in this [PDF](https://www.eia.gov/consumption/residential/methodology/2009/pdf/using-microdata-022613.pdf). While the intricate details of the sampling procedure itself are beyond the scope of this exercise, it suffices to know how to utilize the final and BRR weights to compute the variance, standard error, and confidence intervals for population parameter estimates.\n",
    "\n",
    "The variance can be computed using the follow formula,\n",
    "\n",
    "$\\hat{V}(\\hat{\\theta}) = \\frac{1}{R(1 - \\epsilon)^2}\\sum_{r=1}^{R}(\\hat{\\theta_{r}} - \\hat{\\theta})^2$\n",
    "\n",
    "Where,\n",
    "\n",
    "$\\hat{V}(\\hat{\\theta})$ = The variance of the estimator\n",
    "\n",
    "$\\epsilon$ = Fay's Coefficient, fixed at 0.5 for both the 2009 and 2015 datasets\n",
    "\n",
    "$R$ = Number of replicate weights, R=244 for 2009, and R=96 for 2015\n",
    "\n",
    "$\\hat{\\theta_{r}}$ = An estimate of the parameter using the $r^{th}$ replicate weights\n",
    "\n",
    "$\\hat{\\theta}$ = An estimate of the parameter using the final weights (NWEIGHT) from the dataset"
   ]
  },
  {
   "cell_type": "code",
   "execution_count": 27,
   "id": "c6bbb3ca",
   "metadata": {},
   "outputs": [],
   "source": [
    "# imports\n",
    "import pandas as pd\n",
    "import numpy as np\n",
    "import scipy.stats as st\n",
    "from os.path import exists\n",
    "import matplotlib.pyplot as plt\n",
    "from IPython.core.display import display, Markdown"
   ]
  },
  {
   "cell_type": "markdown",
   "id": "f55ccb95",
   "metadata": {},
   "source": [
    "## Q1 - Data Preparation"
   ]
  },
  {
   "cell_type": "markdown",
   "id": "7a117638",
   "metadata": {},
   "source": [
    "#### Parts (a) and (b) follow in sequence, ordered by 2009 and 2015 datasets"
   ]
  },
  {
   "cell_type": "code",
   "execution_count": 28,
   "id": "d31eab29",
   "metadata": {},
   "outputs": [],
   "source": [
    "# capture all relevant URLs as variables\n",
    "EIA_BASE_URL = \"https://www.eia.gov/\"\n",
    "PATH = \"consumption/residential/data/\"\n",
    "RECS_09_CSV = \"recs2009_public.csv\"\n",
    "RECS_WTS_09_CSV = \"recs2009_public_repweights.csv\"\n",
    "RECS_15_CSV = \"recs2015_public_v4.csv\"\n",
    "MICRODATA_2009 = EIA_BASE_URL + PATH + \"2009/csv/\" + RECS_09_CSV\n",
    "REP_WTS_2009 = EIA_BASE_URL + PATH + \"2009/csv/\" + RECS_WTS_09_CSV\n",
    "MICRODATA_2015 = EIA_BASE_URL + PATH + \"2015/csv/\" + RECS_15_CSV\n",
    "CSV_URLS = {\n",
    "    RECS_09_CSV: MICRODATA_2009,\n",
    "    RECS_WTS_09_CSV: REP_WTS_2009,\n",
    "    RECS_15_CSV: MICRODATA_2015\n",
    "}\n"
   ]
  },
  {
   "cell_type": "code",
   "execution_count": 29,
   "id": "12145ce0",
   "metadata": {},
   "outputs": [],
   "source": [
    "# if csvs don't exists locally, download and save them\n",
    "for csv in CSV_URLS:\n",
    "    if not exists(csv):\n",
    "        df = pd.read_csv(CSV_URLS[csv], dtype=str)\n",
    "        df.to_csv(csv, index=False)\n",
    "recs_09_raw = pd.read_csv(RECS_09_CSV, dtype=str)\n",
    "wts_09_raw = pd.read_csv(RECS_WTS_09_CSV, dtype=str)\n",
    "recs_15_raw = pd.read_csv(RECS_15_CSV, dtype=str)"
   ]
  },
  {
   "cell_type": "markdown",
   "id": "cf7aec92",
   "metadata": {},
   "source": [
    "#### Part(a) - 2009"
   ]
  },
  {
   "cell_type": "code",
   "execution_count": 30,
   "id": "df305221",
   "metadata": {},
   "outputs": [],
   "source": [
    "# construct dataframe for '09 (with relevant cols)\n",
    "common_cols = [\"DOEID\", \"REGIONC\", \"HDD65\", \"CDD65\"]\n",
    "brr_weight_cols_09 = [\"brr_weight_\" + str(i) for i in range(1, 245)]\n",
    "weight_cols_09 = [\"DOEID\"] + brr_weight_cols_09\n",
    "brr_weight_cols_15 = [\"BRRWT\" + str(i) for i in range(1, 97)]\n",
    "weight_cols_15 = [\"DOEID\"] + brr_weight_cols_15\n",
    "\n",
    "recs_09 = recs_09_raw[common_cols].copy()\n",
    "recs_09.loc[:, \"NWEIGHT\"] = wts_09_raw[\"NWEIGHT\"].copy()\n",
    "recs_09_wts = wts_09_raw[weight_cols_09].copy()\n",
    "recs_15 = recs_15_raw[common_cols + [\"NWEIGHT\"]].copy()\n",
    "recs_15_wts = recs_15_raw[weight_cols_15].copy()"
   ]
  },
  {
   "cell_type": "code",
   "execution_count": 31,
   "id": "4f8a96f8",
   "metadata": {},
   "outputs": [
    {
     "data": {
      "text/html": [
       "<div>\n",
       "<style scoped>\n",
       "    .dataframe tbody tr th:only-of-type {\n",
       "        vertical-align: middle;\n",
       "    }\n",
       "\n",
       "    .dataframe tbody tr th {\n",
       "        vertical-align: top;\n",
       "    }\n",
       "\n",
       "    .dataframe thead th {\n",
       "        text-align: right;\n",
       "    }\n",
       "</style>\n",
       "<table border=\"1\" class=\"dataframe\">\n",
       "  <thead>\n",
       "    <tr style=\"text-align: right;\">\n",
       "      <th></th>\n",
       "      <th>DOEID</th>\n",
       "      <th>REGIONC</th>\n",
       "      <th>HDD65</th>\n",
       "      <th>CDD65</th>\n",
       "      <th>NWEIGHT</th>\n",
       "    </tr>\n",
       "  </thead>\n",
       "  <tbody>\n",
       "    <tr>\n",
       "      <th>0</th>\n",
       "      <td>1</td>\n",
       "      <td>Midwest</td>\n",
       "      <td>4742</td>\n",
       "      <td>1080</td>\n",
       "      <td>2471.679705</td>\n",
       "    </tr>\n",
       "    <tr>\n",
       "      <th>1</th>\n",
       "      <td>2</td>\n",
       "      <td>West</td>\n",
       "      <td>2662</td>\n",
       "      <td>199</td>\n",
       "      <td>8599.172010</td>\n",
       "    </tr>\n",
       "    <tr>\n",
       "      <th>2</th>\n",
       "      <td>3</td>\n",
       "      <td>Northeast</td>\n",
       "      <td>6233</td>\n",
       "      <td>505</td>\n",
       "      <td>8969.915921</td>\n",
       "    </tr>\n",
       "    <tr>\n",
       "      <th>3</th>\n",
       "      <td>4</td>\n",
       "      <td>Midwest</td>\n",
       "      <td>6034</td>\n",
       "      <td>672</td>\n",
       "      <td>18003.639600</td>\n",
       "    </tr>\n",
       "    <tr>\n",
       "      <th>4</th>\n",
       "      <td>5</td>\n",
       "      <td>Northeast</td>\n",
       "      <td>5388</td>\n",
       "      <td>702</td>\n",
       "      <td>5999.605242</td>\n",
       "    </tr>\n",
       "  </tbody>\n",
       "</table>\n",
       "</div>"
      ],
      "text/plain": [
       "   DOEID    REGIONC  HDD65  CDD65       NWEIGHT\n",
       "0      1    Midwest   4742   1080   2471.679705\n",
       "1      2       West   2662    199   8599.172010\n",
       "2      3  Northeast   6233    505   8969.915921\n",
       "3      4    Midwest   6034    672  18003.639600\n",
       "4      5  Northeast   5388    702   5999.605242"
      ]
     },
     "execution_count": 31,
     "metadata": {},
     "output_type": "execute_result"
    }
   ],
   "source": [
    "recs_09[\"REGIONC\"] = recs_09[\"REGIONC\"].replace({\n",
    "    \"1\": \"Northeast\",\n",
    "    \"2\": \"Midwest\",\n",
    "    \"3\": \"South\",\n",
    "    \"4\": \"West\"\n",
    "})\n",
    "recs_09 = recs_09.astype({\n",
    "    \"DOEID\": \"int\",\n",
    "    \"REGIONC\": \"category\",\n",
    "    \"HDD65\": \"int\",\n",
    "    \"CDD65\": \"int\",\n",
    "    \"NWEIGHT\": np.float64\n",
    "})\n",
    "recs_09.head()"
   ]
  },
  {
   "cell_type": "markdown",
   "id": "b5f4cc30",
   "metadata": {},
   "source": [
    "#### Part(b) - 2009"
   ]
  },
  {
   "cell_type": "code",
   "execution_count": 32,
   "id": "e4cafee7",
   "metadata": {
    "scrolled": true
   },
   "outputs": [],
   "source": [
    "recs_09_wts = pd.melt(\n",
    "    recs_09_wts, \n",
    "    id_vars=[\"DOEID\"],\n",
    "    var_name=\"weight_type\", \n",
    "    value_name=\"w\"\n",
    ")"
   ]
  },
  {
   "cell_type": "code",
   "execution_count": 33,
   "id": "6a480055",
   "metadata": {},
   "outputs": [
    {
     "data": {
      "text/html": [
       "<div>\n",
       "<style scoped>\n",
       "    .dataframe tbody tr th:only-of-type {\n",
       "        vertical-align: middle;\n",
       "    }\n",
       "\n",
       "    .dataframe tbody tr th {\n",
       "        vertical-align: top;\n",
       "    }\n",
       "\n",
       "    .dataframe thead th {\n",
       "        text-align: right;\n",
       "    }\n",
       "</style>\n",
       "<table border=\"1\" class=\"dataframe\">\n",
       "  <thead>\n",
       "    <tr style=\"text-align: right;\">\n",
       "      <th></th>\n",
       "      <th>DOEID</th>\n",
       "      <th>weight_type</th>\n",
       "      <th>w</th>\n",
       "    </tr>\n",
       "  </thead>\n",
       "  <tbody>\n",
       "    <tr>\n",
       "      <th>0</th>\n",
       "      <td>1</td>\n",
       "      <td>brr_weight_1</td>\n",
       "      <td>3628.305158</td>\n",
       "    </tr>\n",
       "    <tr>\n",
       "      <th>1</th>\n",
       "      <td>2</td>\n",
       "      <td>brr_weight_1</td>\n",
       "      <td>4408.308</td>\n",
       "    </tr>\n",
       "    <tr>\n",
       "      <th>2</th>\n",
       "      <td>3</td>\n",
       "      <td>brr_weight_1</td>\n",
       "      <td>13664.7321</td>\n",
       "    </tr>\n",
       "    <tr>\n",
       "      <th>3</th>\n",
       "      <td>4</td>\n",
       "      <td>brr_weight_1</td>\n",
       "      <td>9456.435434</td>\n",
       "    </tr>\n",
       "    <tr>\n",
       "      <th>4</th>\n",
       "      <td>5</td>\n",
       "      <td>brr_weight_1</td>\n",
       "      <td>8659.554041</td>\n",
       "    </tr>\n",
       "  </tbody>\n",
       "</table>\n",
       "</div>"
      ],
      "text/plain": [
       "   DOEID   weight_type            w\n",
       "0      1  brr_weight_1  3628.305158\n",
       "1      2  brr_weight_1     4408.308\n",
       "2      3  brr_weight_1   13664.7321\n",
       "3      4  brr_weight_1  9456.435434\n",
       "4      5  brr_weight_1  8659.554041"
      ]
     },
     "execution_count": 33,
     "metadata": {},
     "output_type": "execute_result"
    }
   ],
   "source": [
    "recs_09_wts = recs_09_wts.astype({\"DOEID\": \"int\"})\n",
    "recs_09_wts.head()"
   ]
  },
  {
   "cell_type": "markdown",
   "id": "ccd5467b",
   "metadata": {},
   "source": [
    "#### Part (a) - 2015"
   ]
  },
  {
   "cell_type": "code",
   "execution_count": 34,
   "id": "ef293338",
   "metadata": {},
   "outputs": [
    {
     "data": {
      "text/html": [
       "<div>\n",
       "<style scoped>\n",
       "    .dataframe tbody tr th:only-of-type {\n",
       "        vertical-align: middle;\n",
       "    }\n",
       "\n",
       "    .dataframe tbody tr th {\n",
       "        vertical-align: top;\n",
       "    }\n",
       "\n",
       "    .dataframe thead th {\n",
       "        text-align: right;\n",
       "    }\n",
       "</style>\n",
       "<table border=\"1\" class=\"dataframe\">\n",
       "  <thead>\n",
       "    <tr style=\"text-align: right;\">\n",
       "      <th></th>\n",
       "      <th>DOEID</th>\n",
       "      <th>REGIONC</th>\n",
       "      <th>HDD65</th>\n",
       "      <th>CDD65</th>\n",
       "      <th>NWEIGHT</th>\n",
       "    </tr>\n",
       "  </thead>\n",
       "  <tbody>\n",
       "    <tr>\n",
       "      <th>0</th>\n",
       "      <td>10001</td>\n",
       "      <td>West</td>\n",
       "      <td>2031</td>\n",
       "      <td>1768</td>\n",
       "      <td>12085.16227</td>\n",
       "    </tr>\n",
       "    <tr>\n",
       "      <th>1</th>\n",
       "      <td>10002</td>\n",
       "      <td>South</td>\n",
       "      <td>1915</td>\n",
       "      <td>2795</td>\n",
       "      <td>14410.19627</td>\n",
       "    </tr>\n",
       "    <tr>\n",
       "      <th>2</th>\n",
       "      <td>10003</td>\n",
       "      <td>South</td>\n",
       "      <td>2263</td>\n",
       "      <td>2235</td>\n",
       "      <td>23325.95385</td>\n",
       "    </tr>\n",
       "    <tr>\n",
       "      <th>3</th>\n",
       "      <td>10004</td>\n",
       "      <td>Midwest</td>\n",
       "      <td>3754</td>\n",
       "      <td>1374</td>\n",
       "      <td>12165.33319</td>\n",
       "    </tr>\n",
       "    <tr>\n",
       "      <th>4</th>\n",
       "      <td>10005</td>\n",
       "      <td>Northeast</td>\n",
       "      <td>5401</td>\n",
       "      <td>993</td>\n",
       "      <td>16717.67092</td>\n",
       "    </tr>\n",
       "  </tbody>\n",
       "</table>\n",
       "</div>"
      ],
      "text/plain": [
       "   DOEID    REGIONC  HDD65  CDD65      NWEIGHT\n",
       "0  10001       West   2031   1768  12085.16227\n",
       "1  10002      South   1915   2795  14410.19627\n",
       "2  10003      South   2263   2235  23325.95385\n",
       "3  10004    Midwest   3754   1374  12165.33319\n",
       "4  10005  Northeast   5401    993  16717.67092"
      ]
     },
     "execution_count": 34,
     "metadata": {},
     "output_type": "execute_result"
    }
   ],
   "source": [
    "# construct dataframe for '15\n",
    "recs_15[\"REGIONC\"] = recs_15[\"REGIONC\"].replace({\n",
    "    \"1\": \"Northeast\",\n",
    "    \"2\": \"Midwest\",\n",
    "    \"3\": \"South\",\n",
    "    \"4\": \"West\"\n",
    "})\n",
    "recs_15 = recs_15.astype({\n",
    "    \"DOEID\": \"int\",\n",
    "    \"REGIONC\": \"category\",\n",
    "    \"HDD65\": \"int\",\n",
    "    \"CDD65\": \"int\",\n",
    "    \"NWEIGHT\": np.float64\n",
    "})\n",
    "recs_15.head()"
   ]
  },
  {
   "cell_type": "markdown",
   "id": "62bd1844",
   "metadata": {},
   "source": [
    "#### Part (b) - 2015"
   ]
  },
  {
   "cell_type": "code",
   "execution_count": 35,
   "id": "3a9240bc",
   "metadata": {},
   "outputs": [],
   "source": [
    "recs_15_wts = pd.melt(\n",
    "    recs_15_wts, \n",
    "    id_vars=[\"DOEID\"],\n",
    "    var_name=\"weight_type\", \n",
    "    value_name=\"w\"\n",
    ")"
   ]
  },
  {
   "cell_type": "code",
   "execution_count": 36,
   "id": "73ce5229",
   "metadata": {},
   "outputs": [
    {
     "data": {
      "text/html": [
       "<div>\n",
       "<style scoped>\n",
       "    .dataframe tbody tr th:only-of-type {\n",
       "        vertical-align: middle;\n",
       "    }\n",
       "\n",
       "    .dataframe tbody tr th {\n",
       "        vertical-align: top;\n",
       "    }\n",
       "\n",
       "    .dataframe thead th {\n",
       "        text-align: right;\n",
       "    }\n",
       "</style>\n",
       "<table border=\"1\" class=\"dataframe\">\n",
       "  <thead>\n",
       "    <tr style=\"text-align: right;\">\n",
       "      <th></th>\n",
       "      <th>DOEID</th>\n",
       "      <th>weight_type</th>\n",
       "      <th>w</th>\n",
       "    </tr>\n",
       "  </thead>\n",
       "  <tbody>\n",
       "    <tr>\n",
       "      <th>0</th>\n",
       "      <td>10001</td>\n",
       "      <td>BRRWT1</td>\n",
       "      <td>16555.31127</td>\n",
       "    </tr>\n",
       "    <tr>\n",
       "      <th>1</th>\n",
       "      <td>10002</td>\n",
       "      <td>BRRWT1</td>\n",
       "      <td>21486.2872</td>\n",
       "    </tr>\n",
       "    <tr>\n",
       "      <th>2</th>\n",
       "      <td>10003</td>\n",
       "      <td>BRRWT1</td>\n",
       "      <td>12297.43676</td>\n",
       "    </tr>\n",
       "    <tr>\n",
       "      <th>3</th>\n",
       "      <td>10004</td>\n",
       "      <td>BRRWT1</td>\n",
       "      <td>18553.9589</td>\n",
       "    </tr>\n",
       "    <tr>\n",
       "      <th>4</th>\n",
       "      <td>10005</td>\n",
       "      <td>BRRWT1</td>\n",
       "      <td>8075.744168</td>\n",
       "    </tr>\n",
       "  </tbody>\n",
       "</table>\n",
       "</div>"
      ],
      "text/plain": [
       "   DOEID weight_type            w\n",
       "0  10001      BRRWT1  16555.31127\n",
       "1  10002      BRRWT1   21486.2872\n",
       "2  10003      BRRWT1  12297.43676\n",
       "3  10004      BRRWT1   18553.9589\n",
       "4  10005      BRRWT1  8075.744168"
      ]
     },
     "execution_count": 36,
     "metadata": {},
     "output_type": "execute_result"
    }
   ],
   "source": [
    "recs_15_wts = recs_15_wts.astype({\"DOEID\": \"int\"})\n",
    "recs_15_wts.head()"
   ]
  },
  {
   "cell_type": "markdown",
   "id": "082bb8cf",
   "metadata": {},
   "source": [
    "## Q2 - Construct and report the estimates"
   ]
  },
  {
   "cell_type": "markdown",
   "id": "0d562f4d",
   "metadata": {},
   "source": [
    "#### Part (a)"
   ]
  },
  {
   "cell_type": "code",
   "execution_count": 37,
   "id": "fe7b23e3",
   "metadata": {},
   "outputs": [],
   "source": [
    "def calc_weighted_mean(df, val, weights_col):\n",
    "    return np.average(\n",
    "        df[val].astype(np.float64), \n",
    "        weights=df[weights_col].astype(np.float64)\n",
    "    )"
   ]
  },
  {
   "cell_type": "code",
   "execution_count": 38,
   "id": "9ee43270",
   "metadata": {},
   "outputs": [],
   "source": [
    "def calc_theta_hat(df):\n",
    "    region_groups = df.groupby(\"REGIONC\")\n",
    "    return(region_groups\n",
    "                     .apply(calc_weighted_mean, \"HDD65\", \"NWEIGHT\")\n",
    "                     .to_frame(\"theta_hat_hdd65\")\n",
    "                     .reset_index()\n",
    "                     .merge(\n",
    "                         region_groups.apply(\n",
    "                             calc_weighted_mean, \"CDD65\", \"NWEIGHT\"\n",
    "                         )\n",
    "                         .to_frame(\"theta_hat_cdd65\")\n",
    "                         .reset_index(), \n",
    "                         on=\"REGIONC\")\n",
    "                    )"
   ]
  },
  {
   "cell_type": "code",
   "execution_count": 39,
   "id": "69ce9225",
   "metadata": {},
   "outputs": [],
   "source": [
    "theta_hat_15 = calc_theta_hat(recs_15)\n",
    "theta_hat_09 = calc_theta_hat(recs_09)"
   ]
  },
  {
   "cell_type": "code",
   "execution_count": 40,
   "id": "093c35c1",
   "metadata": {
    "scrolled": true
   },
   "outputs": [],
   "source": [
    "def calc_theta_rs(df_vals, df_wts):\n",
    "    merged = df_vals.merge(df_wts, on=\"DOEID\")\n",
    "    return (merged\n",
    "            .groupby([\"REGIONC\", \"weight_type\"])\n",
    "            .apply(calc_weighted_mean, \"CDD65\", \"w\")\n",
    "            .to_frame(\"theta_r_cdd65\")\n",
    "            .reset_index()\n",
    "            .merge(\n",
    "                merged\n",
    "                .groupby([\"REGIONC\", \"weight_type\"])\n",
    "                .apply(calc_weighted_mean, \"HDD65\", \"w\")\n",
    "                .to_frame(\"theta_r_hdd65\")\n",
    "                .reset_index()\n",
    "            )\n",
    "           )"
   ]
  },
  {
   "cell_type": "code",
   "execution_count": 41,
   "id": "b58309f8",
   "metadata": {},
   "outputs": [],
   "source": [
    "theta_hat_r_15 = calc_theta_rs(recs_15, recs_15_wts)\n",
    "theta_hat_r_09 = calc_theta_rs(recs_09, recs_09_wts)"
   ]
  },
  {
   "cell_type": "code",
   "execution_count": 42,
   "id": "4e2bf6f0",
   "metadata": {},
   "outputs": [],
   "source": [
    "def calc_variance(theta_rs, theta_hats, weight_cols, fay_coeff=0.5):\n",
    "    denom = (len(weight_cols) * (1 - fay_coeff) ** 2)\n",
    "    coeff = 1 / denom\n",
    "    merged = (theta_rs\n",
    "            .merge(theta_hats, on=\"REGIONC\")\n",
    "           )\n",
    "    merged[\"cdd_var\"] = (\n",
    "        (merged[\"theta_r_cdd65\"] - merged[\"theta_hat_cdd65\"]) ** 2\n",
    "    )\n",
    "    merged[\"hdd_var\"] = (\n",
    "        (merged[\"theta_r_hdd65\"] - merged[\"theta_hat_hdd65\"]) ** 2\n",
    "    )\n",
    "    variances = merged.groupby([\"REGIONC\"]).sum() * coeff\n",
    "    variances[\"cdd_se\"] = variances[\"cdd_var\"] ** 0.5\n",
    "    variances[\"hdd_se\"] = variances[\"hdd_var\"] ** 0.5\n",
    "    variances = variances.reset_index()\n",
    "    return variances[\n",
    "        [\"REGIONC\", \"cdd_var\", \"hdd_var\", \"cdd_se\", \"hdd_se\"]\n",
    "    ]"
   ]
  },
  {
   "cell_type": "code",
   "execution_count": 43,
   "id": "adcc12b1",
   "metadata": {},
   "outputs": [
    {
     "data": {
      "text/html": [
       "<div>\n",
       "<style scoped>\n",
       "    .dataframe tbody tr th:only-of-type {\n",
       "        vertical-align: middle;\n",
       "    }\n",
       "\n",
       "    .dataframe tbody tr th {\n",
       "        vertical-align: top;\n",
       "    }\n",
       "\n",
       "    .dataframe thead th {\n",
       "        text-align: right;\n",
       "    }\n",
       "</style>\n",
       "<table border=\"1\" class=\"dataframe\">\n",
       "  <thead>\n",
       "    <tr style=\"text-align: right;\">\n",
       "      <th></th>\n",
       "      <th>REGIONC</th>\n",
       "      <th>cdd_var</th>\n",
       "      <th>hdd_var</th>\n",
       "      <th>cdd_se</th>\n",
       "      <th>hdd_se</th>\n",
       "    </tr>\n",
       "  </thead>\n",
       "  <tbody>\n",
       "    <tr>\n",
       "      <th>0</th>\n",
       "      <td>Midwest</td>\n",
       "      <td>217.369244</td>\n",
       "      <td>2182.989839</td>\n",
       "      <td>14.743447</td>\n",
       "      <td>46.722477</td>\n",
       "    </tr>\n",
       "    <tr>\n",
       "      <th>1</th>\n",
       "      <td>Northeast</td>\n",
       "      <td>110.382241</td>\n",
       "      <td>1231.708756</td>\n",
       "      <td>10.506295</td>\n",
       "      <td>35.095709</td>\n",
       "    </tr>\n",
       "    <tr>\n",
       "      <th>2</th>\n",
       "      <td>South</td>\n",
       "      <td>848.161713</td>\n",
       "      <td>1706.604124</td>\n",
       "      <td>29.123216</td>\n",
       "      <td>41.311065</td>\n",
       "    </tr>\n",
       "    <tr>\n",
       "      <th>3</th>\n",
       "      <td>West</td>\n",
       "      <td>888.320417</td>\n",
       "      <td>7269.868646</td>\n",
       "      <td>29.804705</td>\n",
       "      <td>85.263525</td>\n",
       "    </tr>\n",
       "  </tbody>\n",
       "</table>\n",
       "</div>"
      ],
      "text/plain": [
       "     REGIONC     cdd_var      hdd_var     cdd_se     hdd_se\n",
       "0    Midwest  217.369244  2182.989839  14.743447  46.722477\n",
       "1  Northeast  110.382241  1231.708756  10.506295  35.095709\n",
       "2      South  848.161713  1706.604124  29.123216  41.311065\n",
       "3       West  888.320417  7269.868646  29.804705  85.263525"
      ]
     },
     "execution_count": 43,
     "metadata": {},
     "output_type": "execute_result"
    }
   ],
   "source": [
    "var_se_09 = calc_variance(\n",
    "    theta_hat_r_09, \n",
    "    theta_hat_09, \n",
    "    brr_weight_cols_09\n",
    ")\n",
    "var_se_15 = calc_variance(\n",
    "    theta_hat_r_15, \n",
    "    theta_hat_15, \n",
    "    brr_weight_cols_15\n",
    ")\n",
    "var_se_09"
   ]
  },
  {
   "cell_type": "code",
   "execution_count": 44,
   "id": "a19fa293",
   "metadata": {},
   "outputs": [],
   "source": [
    "def calc_conf_intervals(theta_hats, se, c=0.95):\n",
    "    merged = theta_hats.merge(se, on=\"REGIONC\")\n",
    "    z = abs(st.norm.ppf((1 - c) / 2))\n",
    "    merged[\"hdd_low\"] = (\n",
    "        merged[\"theta_hat_hdd65\"] - z * merged[\"hdd_se\"]\n",
    "    )\n",
    "    merged[\"hdd_high\"] = (\n",
    "        merged[\"theta_hat_hdd65\"] + z * merged[\"hdd_se\"]\n",
    "    )\n",
    "    merged[\"cdd_low\"] = (\n",
    "        merged[\"theta_hat_cdd65\"] - z * merged[\"cdd_se\"]\n",
    "    )\n",
    "    merged[\"cdd_high\"] = (\n",
    "        merged[\"theta_hat_cdd65\"] + z * merged[\"cdd_se\"]\n",
    "    ) \n",
    "    return merged[\n",
    "        [\n",
    "            \"REGIONC\", \n",
    "            \"hdd_low\", \n",
    "            \"theta_hat_hdd65\", \n",
    "            \"hdd_high\", \n",
    "            \"cdd_low\", \n",
    "            \"theta_hat_cdd65\", \n",
    "            \"cdd_high\"\n",
    "        ]\n",
    "    ]"
   ]
  },
  {
   "cell_type": "code",
   "execution_count": 45,
   "id": "ff8bbaa7",
   "metadata": {},
   "outputs": [],
   "source": [
    "def clean_table(intervals, prefix=\"\"):\n",
    "    cols = [\n",
    "        \"hdd_low\",\n",
    "        \"hdd_high\",\n",
    "        \"cdd_high\",\n",
    "        \"cdd_low\",\n",
    "        \"theta_hat_hdd65\",\n",
    "        \"theta_hat_cdd65\",\n",
    "#         \"cdd_var\",\n",
    "#         \"hdd_var\"\n",
    "    ]\n",
    "    intervals[cols] = intervals[cols].round(3)\n",
    "    intervals = intervals.rename(\n",
    "        columns={\n",
    "            \"REGIONC\": \"Census Region\",\n",
    "            \"theta_hat_cdd65\": prefix + \"Mean CDD\",\n",
    "            \"theta_hat_hdd65\": prefix + \"Mean HDD\"\n",
    "        }\n",
    "    )\n",
    "    intervals = intervals.astype(\n",
    "        {\n",
    "            \"hdd_low\": str, \n",
    "            \"hdd_high\": str,\n",
    "            \"cdd_high\": str,\n",
    "            \"cdd_low\": str\n",
    "        }\n",
    "    )\n",
    "    intervals[(prefix + \"HDD [CI (95%)]\")] = (\n",
    "        \"(\" + intervals[\"hdd_low\"] + \", \" + intervals[\"hdd_high\"] + \")\"\n",
    "    )\n",
    "    intervals[(prefix + \"CDD [CI (95%)]\")] = (\n",
    "        \"(\" + intervals[\"cdd_low\"] + \", \" + intervals[\"cdd_high\"] + \")\"\n",
    "    )\n",
    "    intervals = intervals.drop(cols, axis=1, errors=\"ignore\")\n",
    "    return intervals\n",
    "\n",
    "\n",
    "intervals_2009 = calc_conf_intervals(theta_hat_09, var_se_09)\n",
    "clean_intervals_2009 = clean_table(intervals_2009)\n",
    "intervals_2015 = calc_conf_intervals(theta_hat_15, var_se_15)\n",
    "clean_intervals_2015 = clean_table(intervals_2015)"
   ]
  },
  {
   "cell_type": "code",
   "execution_count": 46,
   "id": "c70fc537",
   "metadata": {},
   "outputs": [
    {
     "data": {
      "text/markdown": [
       "| Census Region   |   Mean HDD |   Mean CDD | HDD [CI (95%)]       | CDD [CI (95%)]       |\n",
       "|-----------------|------------|------------|----------------------|----------------------|\n",
       "| Midwest         |    6325.34 |    660.888 | (6233.763, 6416.911) | (631.992, 689.785)   |\n",
       "| Northeast       |    5700.99 |    680.715 | (5632.202, 5769.774) | (660.123, 701.307)   |\n",
       "| South           |    2696.67 |   2207.73  | (2615.699, 2777.636) | (2150.648, 2264.809) |\n",
       "| West            |    3259.64 |   1328.64  | (3092.528, 3426.755) | (1270.226, 1387.058) |"
      ],
      "text/plain": [
       "<IPython.core.display.Markdown object>"
      ]
     },
     "metadata": {},
     "output_type": "display_data"
    }
   ],
   "source": [
    "display(\n",
    "        Markdown(\n",
    "            clean_intervals_2009.to_markdown(index=False, tablefmt=\"github\")\n",
    "            )\n",
    "        )"
   ]
  },
  {
   "cell_type": "code",
   "execution_count": 47,
   "id": "dfe30194",
   "metadata": {
    "scrolled": true
   },
   "outputs": [
    {
     "data": {
      "text/markdown": [
       "| Census Region   |   Mean HDD |   Mean CDD | HDD [CI (95%)]       | CDD [CI (95%)]       |\n",
       "|-----------------|------------|------------|----------------------|----------------------|\n",
       "| Midwest         |    5785.49 |    956.074 | (5634.779, 5936.202) | (894.425, 1017.724)  |\n",
       "| Northeast       |    5695.67 |    983.92  | (5532.076, 5859.27)  | (918.911, 1048.929)  |\n",
       "| South           |    2211.88 |   2639.85  | (2056.243, 2367.517) | (2524.702, 2755.0)   |\n",
       "| West            |    2814.83 |   1576.77  | (2625.033, 3004.628) | (1377.045, 1776.504) |"
      ],
      "text/plain": [
       "<IPython.core.display.Markdown object>"
      ]
     },
     "metadata": {},
     "output_type": "display_data"
    }
   ],
   "source": [
    "display(\n",
    "        Markdown(\n",
    "            clean_intervals_2015.to_markdown(index=False, tablefmt=\"github\")\n",
    "            )\n",
    "        )"
   ]
  },
  {
   "cell_type": "markdown",
   "id": "5e3ae9e4",
   "metadata": {},
   "source": [
    "The above tables represent the Mean Heating and Cooling Degree days for each of the four census regions (from 2009 and 2015 respectively). It also represents the 95% CI for the same."
   ]
  },
  {
   "cell_type": "markdown",
   "id": "ffbe7f38",
   "metadata": {},
   "source": [
    "#### Part (b)"
   ]
  },
  {
   "cell_type": "code",
   "execution_count": 48,
   "id": "c2333bce",
   "metadata": {},
   "outputs": [],
   "source": [
    "def calc_combined_variance(theta_hats_1, theta_hats_2, var_se_1, var_se_2):\n",
    "    merged_1 = (theta_hats_1\n",
    "                .merge(\n",
    "                    var_se_1, \n",
    "                    on=\"REGIONC\"\n",
    "                )[\n",
    "                    [\n",
    "                        \"REGIONC\",\n",
    "                        \"theta_hat_cdd65\",\n",
    "                        \"theta_hat_hdd65\",\n",
    "                        \"cdd_var\",\n",
    "                        \"hdd_var\"\n",
    "                    ]\n",
    "                ])\n",
    "    merged_2 = (theta_hats_2\n",
    "                .merge(\n",
    "                    var_se_2, \n",
    "                    on=\"REGIONC\"\n",
    "                )[\n",
    "                    [\n",
    "                        \"REGIONC\",\n",
    "                        \"theta_hat_cdd65\",\n",
    "                        \"theta_hat_hdd65\",\n",
    "                        \"cdd_var\",\n",
    "                        \"hdd_var\"\n",
    "                    ]\n",
    "                ]\n",
    "               )\n",
    "    combine_years = merged_1.merge(merged_2, on=\"REGIONC\")\n",
    "    combine_years[\"theta_hat_cdd65\"] = (\n",
    "        combine_years[\"theta_hat_cdd65_y\"] - combine_years[\"theta_hat_cdd65_x\"]\n",
    "    )\n",
    "    combine_years[\"theta_hat_hdd65\"] = (\n",
    "        combine_years[\"theta_hat_hdd65_y\"] - combine_years[\"theta_hat_hdd65_x\"]\n",
    "    )\n",
    "    combine_years[\"cdd_var\"] = (\n",
    "        combine_years[\"cdd_var_x\"] + combine_years[\"cdd_var_y\"]\n",
    "    )\n",
    "    combine_years[\"cdd_se\"] = (\n",
    "        combine_years[\"cdd_var_x\"] + combine_years[\"cdd_var_y\"]\n",
    "    ) ** 0.5\n",
    "    combine_years[\"hdd_var\"] = (\n",
    "        combine_years[\"hdd_var_x\"] + combine_years[\"hdd_var_y\"]\n",
    "    )\n",
    "    combine_years[\"hdd_se\"] = (\n",
    "        combine_years[\"hdd_var_x\"] + combine_years[\"hdd_var_y\"]\n",
    "    ) ** 0.5\n",
    "    return (\n",
    "        combine_years[\n",
    "        [\n",
    "            \"REGIONC\", \n",
    "            \"theta_hat_cdd65\", \n",
    "            \"theta_hat_hdd65\"\n",
    "        ]\n",
    "    ], combine_years[\n",
    "            [\n",
    "                \"REGIONC\", \n",
    "                \"cdd_se\", \n",
    "                \"hdd_se\"\n",
    "            ]\n",
    "        ]\n",
    "    )"
   ]
  },
  {
   "cell_type": "code",
   "execution_count": 49,
   "id": "9188fb48",
   "metadata": {},
   "outputs": [],
   "source": [
    "theta_09_15, se_09_15 = calc_combined_variance(\n",
    "    theta_hat_09, \n",
    "    theta_hat_15, \n",
    "    var_se_09, \n",
    "    var_se_15\n",
    ")"
   ]
  },
  {
   "cell_type": "code",
   "execution_count": 50,
   "id": "28326de1",
   "metadata": {},
   "outputs": [
    {
     "data": {
      "text/markdown": [
       "| Census Region   |   Change In Mean HDD |   Change In Mean CDD | Change In HDD [CI (95%)]   | Change In CDD [CI (95%)]   |\n",
       "|-----------------|----------------------|----------------------|----------------------------|----------------------------|\n",
       "| Midwest         |             -539.847 |              295.186 | (-716.198, -363.496)       | (227.1, 363.272)           |\n",
       "| Northeast       |               -5.315 |              303.205 | (-182.785, 172.154)        | (235.012, 371.397)         |\n",
       "| South           |             -484.788 |              432.123 | (-660.226, -309.349)       | (303.602, 560.643)         |\n",
       "| West            |             -444.811 |              248.132 | (-697.694, -191.928)       | (40.035, 456.229)          |"
      ],
      "text/plain": [
       "<IPython.core.display.Markdown object>"
      ]
     },
     "metadata": {},
     "output_type": "display_data"
    }
   ],
   "source": [
    "diff_conf_09_15 = calc_conf_intervals(theta_09_15, se_09_15)\n",
    "clean_intervals = clean_table(diff_conf_09_15, prefix=\"Change In \")\n",
    "display(\n",
    "        Markdown(\n",
    "            clean_intervals.to_markdown(index=False, tablefmt=\"github\")\n",
    "            )\n",
    "        )"
   ]
  },
  {
   "cell_type": "markdown",
   "id": "faf676a7",
   "metadata": {},
   "source": [
    "The above table represents the Mean difference in Heating and Cooling Degree Days from 2009 to 2015. It also present a 95% confidence interval for the same."
   ]
  },
  {
   "cell_type": "markdown",
   "id": "e410d7bb",
   "metadata": {},
   "source": [
    "## Q3 - Visualization of Results"
   ]
  },
  {
   "cell_type": "code",
   "execution_count": 51,
   "id": "8459d30a",
   "metadata": {},
   "outputs": [
    {
     "data": {
      "image/png": "[encoded data removed]",
      "text/plain": [
       "<Figure size 1116x396 with 2 Axes>"
      ]
     },
     "metadata": {
      "needs_background": "light"
     },
     "output_type": "display_data"
    }
   ],
   "source": [
    "fig, axes = plt.subplots(nrows=1, ncols=2, sharey=True)\n",
    "fig.set_size_inches(15.5, 5.5)\n",
    "\n",
    "axes[0].set_ylabel(\"Degree Days\")\n",
    "axes[0].set_xlabel(\"Census Regions\")\n",
    "axes[0].set_title(\"2009\")\n",
    "_ = axes[0].errorbar(\n",
    "    [\"Midwest\", \"Northeast\", \"South\", \"West\"], \n",
    "    clean_intervals_2009[\"Mean CDD\"], \n",
    "    fmt=\"x\",\n",
    "    yerr=var_se_09[\"cdd_se\"] * 1.96,\n",
    ")\n",
    "\n",
    "_ = axes[0].errorbar(\n",
    "    [\"Midwest\", \"Northeast\", \"South\", \"West\"], \n",
    "    clean_intervals_2009[\"Mean HDD\"], \n",
    "    fmt=\"x\",\n",
    "    yerr=var_se_09[\"hdd_se\"] * 1.96,\n",
    ")\n",
    "_ = axes[0].legend([\"Cooling Degree Days\", \"Heating Degree Days\"])\n",
    "\n",
    "\n",
    "\n",
    "axes[1].set_ylabel(\"Degree Days\")\n",
    "axes[1].set_xlabel(\"Census Regions\")\n",
    "axes[1].set_title(\"2015\")\n",
    "_ = axes[1].errorbar(\n",
    "    [\"Midwest\", \"Northeast\", \"South\", \"West\"], \n",
    "    clean_intervals_2015[\"Mean CDD\"], \n",
    "    fmt=\"x\",\n",
    "    yerr=var_se_15[\"cdd_se\"] * 1.96,\n",
    ")\n",
    "\n",
    "_ = axes[1].errorbar(\n",
    "    [\"Midwest\", \"Northeast\", \"South\", \"West\"], \n",
    "    clean_intervals_2015[\"Mean HDD\"], \n",
    "    fmt=\"x\",\n",
    "    yerr=var_se_15[\"hdd_se\"] * 1.96,\n",
    ")\n",
    "\n",
    "_ = axes[1].legend([\"Cooling Degree Days\", \"Heating Degree Days\"])"
   ]
  },
  {
   "cell_type": "markdown",
   "id": "b8db283b",
   "metadata": {},
   "source": [
    "Fig1. This figure depicts the mean HDD/CDD for all the census regions, separately for 2009 and 2015"
   ]
  },
  {
   "cell_type": "markdown",
   "id": "e5f0f5af",
   "metadata": {},
   "source": [
    "It is observed that the South and West regions consistently have a smaller difference between their Heating and Cooling Degree Days, indicating they are prone to extreme temperatures on either ends."
   ]
  },
  {
   "cell_type": "code",
   "execution_count": 52,
   "id": "1958c474",
   "metadata": {},
   "outputs": [
    {
     "data": {
      "image/png": "[encoded data removed]",
      "text/plain": [
       "<Figure size 432x288 with 1 Axes>"
      ]
     },
     "metadata": {
      "needs_background": "light"
     },
     "output_type": "display_data"
    }
   ],
   "source": [
    "fig2, axes = plt.subplots(nrows=1, ncols=1)\n",
    "\n",
    "\n",
    "axes.set_ylabel(\"Degree Days\")\n",
    "axes.set_xlabel(\"Census Regions\")\n",
    "axes.set_title(\"2009 vs 2015 - Change in CDD and HDD\")\n",
    "_ = axes.errorbar(\n",
    "    [\"Midwest\", \"Northeast\", \"South\", \"West\"], \n",
    "    clean_intervals[\"Change In Mean CDD\"], \n",
    "    fmt=\"x\",\n",
    "    yerr=se_09_15[\"cdd_se\"] * 1.96,\n",
    ")\n",
    "\n",
    "_ = axes.errorbar(\n",
    "    [\"Midwest\", \"Northeast\", \"South\", \"West\"], \n",
    "    clean_intervals[\"Change In Mean HDD\"], \n",
    "    fmt=\"x\",\n",
    "    yerr=se_09_15[\"hdd_se\"] * 1.96,\n",
    ")\n",
    "_ = axes.legend([\"Cooling Degree Days\", \"Heating Degree Days\"])\n"
   ]
  },
  {
   "cell_type": "markdown",
   "id": "4ce38180",
   "metadata": {},
   "source": [
    "Fig2. This figure depicts the mean change in the Cooling/Heating degree days, from 2009 to 2015. A negative value indicates that the value went down from the years 2009 to 2015."
   ]
  },
  {
   "cell_type": "code",
   "execution_count": null,
   "id": "8ee3a527",
   "metadata": {},
   "outputs": [],
   "source": []
  }
 ],
 "metadata": {
  "jupytext": {
   "cell_metadata_filter": "-all",
   "notebook_metadata_filter": "-all"
  },
  "kernelspec": {
   "display_name": "Python 3",
   "language": "python",
   "name": "python3"
  },
  "language_info": {
   "codemirror_mode": {
    "name": "ipython",
    "version": 3
   },
   "file_extension": ".py",
   "mimetype": "text/x-python",
   "name": "python",
   "nbconvert_exporter": "python",
   "pygments_lexer": "ipython3",
   "version": "3.8.8"
  }
 },
 "nbformat": 4,
 "nbformat_minor": 5
}
