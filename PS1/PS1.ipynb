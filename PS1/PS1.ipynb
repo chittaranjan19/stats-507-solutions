{
 "cells": [
  {
   "cell_type": "markdown",
   "id": "840c4cc0",
   "metadata": {},
   "source": [
    "# Q0 - Markdown Warmup"
   ]
  },
  {
   "cell_type": "markdown",
   "id": "6d04f4d9",
   "metadata": {},
   "source": [
    "---"
   ]
  },
  {
   "cell_type": "markdown",
   "id": "a3bcbf2d",
   "metadata": {},
   "source": [
    "This is _question 0_ for [problem set 1](https://jbhender.github.io/Stats507/F21/ps/ps1.html) of [Stats 507](https://jbhender.github.io/Stats507/F21/)"
   ]
  },
  {
   "cell_type": "markdown",
   "id": "dae0a144",
   "metadata": {},
   "source": [
    "> ### Question 0 is about Markdown"
   ]
  },
  {
   "cell_type": "markdown",
   "id": "92f69bc3",
   "metadata": {},
   "source": [
    "The next question is about the **Fibonnaci sequence**, ${F_{n}=F_{n−2}+F_{n−1}}$. In part *a* we will define a Python function `fib_rec()`."
   ]
  },
  {
   "cell_type": "markdown",
   "id": "fdca0fac",
   "metadata": {},
   "source": [
    "Below is a ..."
   ]
  },
  {
   "cell_type": "markdown",
   "id": "4d70d804",
   "metadata": {},
   "source": [
    "### Level 3 Header"
   ]
  },
  {
   "cell_type": "markdown",
   "id": "d377e3e4",
   "metadata": {},
   "source": [
    "Next, we can make a bulleted list:\n",
    " - Item 1\n",
    "   - detail 1\n",
    "   - detail 2\n",
    " - Item 2"
   ]
  },
  {
   "cell_type": "markdown",
   "id": "32082dc1",
   "metadata": {},
   "source": [
    "Finally, we can make an enumerated list:\n",
    "1. Item 1\n",
    "1. Item 2\n",
    "1. Item 3"
   ]
  },
  {
   "cell_type": "markdown",
   "id": "ee640137",
   "metadata": {},
   "source": [
    "---"
   ]
  },
  {
   "cell_type": "markdown",
   "id": "25636bb4",
   "metadata": {},
   "source": [
    "```\n",
    "This is _question 0_ for [problem set 1](https://jbhender.github.io/Stats507/F21/ps/ps1.html) of [Stats 507](https://jbhender.github.io/Stats507/F21/)\n",
    "\n",
    "> ### Question 0 is about Markdown\n",
    "\n",
    "The next question is about the **Fibonnaci sequence**, ${F_{n}=F_{n−2}+F_{n−1}}$. In part *a* we will define a Python function `fib_rec()`.\n",
    "\n",
    "Below is a ...\n",
    "\n",
    "### Level 3 Header\n",
    "\n",
    "Next, we can make a bulleted list:\n",
    "  - Item 1\n",
    "    - detail 1\n",
    "    - detail 2\n",
    "  - Item 2\n",
    "\n",
    "Finally, we can make an enumerated list:\n",
    " 1. Item 1\n",
    " 1. Item 2\n",
    " 1. Item 3\n",
    "\n",
    " ---\n",
    "```"
   ]
  },
  {
   "cell_type": "markdown",
   "id": "0ab686d6",
   "metadata": {},
   "source": [
    "# Q1 - Fibonacci Sequence"
   ]
  },
  {
   "cell_type": "code",
   "execution_count": 329,
   "id": "f3b9346e",
   "metadata": {},
   "outputs": [],
   "source": [
    "import math\n",
    "import pandas as pd\n",
    "import time\n",
    "from IPython.core.display import display, Markdown"
   ]
  },
  {
   "cell_type": "code",
   "execution_count": 330,
   "id": "8397c88a",
   "metadata": {
    "lines_to_next_cell": 1
   },
   "outputs": [],
   "source": [
    "def test_fn(fib_fn):\n",
    "    \"\"\"\n",
    "    Test a variation of the fibonacci implementation against test cases.\n",
    "\n",
    "    Parameters\n",
    "    ----------\n",
    "    fib_fn : function\n",
    "        The function against which the unit tests must be run.\n",
    "\n",
    "    Returns\n",
    "    -------\n",
    "    None. Throws an assertion error in case of test failures.\n",
    "\n",
    "    \"\"\"\n",
    "    inputs = [0, 1, 2, 3, 7, 11, 13]\n",
    "    expected_outputs = [0, 1, 1, 2, 13, 89, 233]\n",
    "    for i,expected in zip(inputs, expected_outputs):\n",
    "        actual = fib_fn(i)\n",
    "        assert actual == expected\n",
    "        print(f\"fib({i}) = {actual}\") # display only for notebook purposes"
   ]
  },
  {
   "cell_type": "code",
   "execution_count": 333,
   "id": "86b53b50",
   "metadata": {},
   "outputs": [],
   "source": [
    "def fib_rec_bad(n):\n",
    "    \"\"\"\n",
    "    Compute the nth item in the Fibonacci sequence by recursion.\n",
    "    The algorithm runs in O(2^n) i.e exponential time\n",
    "\n",
    "    Parameters\n",
    "    ----------\n",
    "    n : int\n",
    "        The index for which the result has to be computed.\n",
    "\n",
    "    Returns\n",
    "    -------\n",
    "    int\n",
    "        Returns the item of the Fibonacci sequence at the nth index.\n",
    "\n",
    "    \"\"\"\n",
    "    if n < 2:\n",
    "        return n\n",
    "    return fib_rec(n-1) + fib_rec(n-2)"
   ]
  },
  {
   "cell_type": "code",
   "execution_count": 334,
   "id": "bd19973c",
   "metadata": {},
   "outputs": [
    {
     "name": "stdout",
     "output_type": "stream",
     "text": [
      "fib(0) = 0\n",
      "fib(1) = 1\n",
      "fib(2) = 1\n",
      "fib(3) = 2\n",
      "fib(7) = 13\n",
      "fib(11) = 89\n",
      "fib(13) = 233\n"
     ]
    }
   ],
   "source": [
    "test_fn(fib_rec_bad)"
   ]
  },
  {
   "cell_type": "code",
   "execution_count": 335,
   "id": "6ffe0f7a",
   "metadata": {
    "lines_to_next_cell": 1
   },
   "outputs": [],
   "source": [
    "def fib_rec(n, f0 = 0, f1 = 1):\n",
    "    \"\"\"\n",
    "    Compute the nth item in the Fibonacci sequence by recursion.\n",
    "    The algorithm runs in O(n) i.e linear time\n",
    "\n",
    "    Parameters\n",
    "    ----------\n",
    "    n : int\n",
    "        The index for which the result has to be computed.\n",
    "    f0 : int\n",
    "        The zeroth number in the sequence.\n",
    "    f1 : int\n",
    "        The first number in the sequence.        \n",
    "    Returns\n",
    "    -------\n",
    "    int\n",
    "        Returns the item of the Fibonacci sequence at the nth index.\n",
    "\n",
    "    \"\"\"\n",
    "    if n == 0:\n",
    "        return f0\n",
    "    elif n == 1:\n",
    "        return f1\n",
    "    return fib_rec(n-1, f1, f0 + f1)"
   ]
  },
  {
   "cell_type": "code",
   "execution_count": 336,
   "id": "665abe1a",
   "metadata": {
    "scrolled": true
   },
   "outputs": [
    {
     "name": "stdout",
     "output_type": "stream",
     "text": [
      "fib(0) = 0\n",
      "fib(1) = 1\n",
      "fib(2) = 1\n",
      "fib(3) = 2\n",
      "fib(7) = 13\n",
      "fib(11) = 89\n",
      "fib(13) = 233\n"
     ]
    }
   ],
   "source": [
    "test_fn(fib_rec)"
   ]
  },
  {
   "cell_type": "code",
   "execution_count": 337,
   "id": "0e93ed3b",
   "metadata": {
    "lines_to_next_cell": 1
   },
   "outputs": [],
   "source": [
    "def fib_for(n):\n",
    "    \"\"\"\n",
    "    Compute the nth item in the Fibonacci sequence with a for-loop.\n",
    "\n",
    "    Parameters\n",
    "    ----------\n",
    "    n : int\n",
    "        The index for which the result has to be computed.\n",
    "\n",
    "    Returns\n",
    "    -------\n",
    "    int\n",
    "        Returns the item of the Fibonacci sequence at the nth index.\n",
    "\n",
    "    \"\"\"\n",
    "    if n < 2:\n",
    "        return n\n",
    "    f_n_minus_1, f_n_minus_2 = 1, 0\n",
    "    f_n = f_n_minus_1 + f_n_minus_2\n",
    "    for i in range(3, n + 1):\n",
    "        f_n_minus_1, f_n_minus_2 = f_n, f_n_minus_1\n",
    "        f_n = f_n_minus_1 + f_n_minus_2\n",
    "    return f_n"
   ]
  },
  {
   "cell_type": "code",
   "execution_count": 338,
   "id": "e844b45f",
   "metadata": {
    "scrolled": true
   },
   "outputs": [
    {
     "name": "stdout",
     "output_type": "stream",
     "text": [
      "fib(0) = 0\n",
      "fib(1) = 1\n",
      "fib(2) = 1\n",
      "fib(3) = 2\n",
      "fib(7) = 13\n",
      "fib(11) = 89\n",
      "fib(13) = 233\n"
     ]
    }
   ],
   "source": [
    "test_fn(fib_for)"
   ]
  },
  {
   "cell_type": "code",
   "execution_count": 339,
   "id": "6ac9dc1e",
   "metadata": {
    "lines_to_next_cell": 1
   },
   "outputs": [],
   "source": [
    "def fib_whl(n):\n",
    "    \"\"\"\n",
    "    Compute the nth item in the Fibonacci sequence with a while loop.\n",
    "\n",
    "    Parameters\n",
    "    ----------\n",
    "    n : int\n",
    "        The index for which the result has to be computed.\n",
    "\n",
    "    Returns\n",
    "    -------\n",
    "    int\n",
    "        Returns the item of the Fibonacci sequence at the nth index.\n",
    "\n",
    "    \"\"\"\n",
    "    if n < 2:\n",
    "        return n\n",
    "    f_n_minus_1, f_n_minus_2 = 1, 0\n",
    "    f_n = f_n_minus_1 + f_n_minus_2\n",
    "    i = 3\n",
    "    while i <= n:\n",
    "        f_n_minus_1, f_n_minus_2 = f_n, f_n_minus_1\n",
    "        f_n = f_n_minus_1 + f_n_minus_2\n",
    "        i += 1\n",
    "    return f_n"
   ]
  },
  {
   "cell_type": "code",
   "execution_count": 340,
   "id": "43b65935",
   "metadata": {
    "scrolled": true
   },
   "outputs": [
    {
     "name": "stdout",
     "output_type": "stream",
     "text": [
      "fib(0) = 0\n",
      "fib(1) = 1\n",
      "fib(2) = 1\n",
      "fib(3) = 2\n",
      "fib(7) = 13\n",
      "fib(11) = 89\n",
      "fib(13) = 233\n"
     ]
    }
   ],
   "source": [
    "test_fn(fib_whl)"
   ]
  },
  {
   "cell_type": "code",
   "execution_count": 341,
   "id": "57f64c08",
   "metadata": {
    "lines_to_next_cell": 1
   },
   "outputs": [],
   "source": [
    "def fib_rnd(n):\n",
    "    \"\"\"\n",
    "    Compute the nth item in the Fibonacci sequence by the rounding method.\n",
    "    Fn = (φ ^ n) / √5 rounded to the nearest integer, \\\n",
    "    where φ is the Golden Ratio (https://en.wikipedia.org/wiki/Golden_ratio)\n",
    "\n",
    "    Parameters\n",
    "    ----------\n",
    "    n : int\n",
    "        The index for which the result has to be computed.\n",
    "\n",
    "    Returns\n",
    "    -------\n",
    "    f_n : int\n",
    "        Returns the item of the Fibonacci sequence at the nth index.\n",
    "\n",
    "    \"\"\"\n",
    "    \"\"\"\n",
    "\n",
    "    Parameters:\n",
    "    n (int): The index for which the result has to be computed.\n",
    "\n",
    "    Returns:\n",
    "    int: Returns the item of the Fibonacci sequence at the nth index\n",
    "\n",
    "    \"\"\"\n",
    "    root_5 = 5 ** 0.5\n",
    "    phi = (1 + root_5) / 2 # This is the golden ratio\n",
    "    f_n = round(phi ** n / root_5)\n",
    "    return f_n"
   ]
  },
  {
   "cell_type": "code",
   "execution_count": 342,
   "id": "665be817",
   "metadata": {
    "scrolled": true
   },
   "outputs": [
    {
     "name": "stdout",
     "output_type": "stream",
     "text": [
      "fib(0) = 0\n",
      "fib(1) = 1\n",
      "fib(2) = 1\n",
      "fib(3) = 2\n",
      "fib(7) = 13\n",
      "fib(11) = 89\n",
      "fib(13) = 233\n"
     ]
    }
   ],
   "source": [
    "test_fn(fib_rnd)"
   ]
  },
  {
   "cell_type": "code",
   "execution_count": 343,
   "id": "8720e948",
   "metadata": {
    "lines_to_next_cell": 1
   },
   "outputs": [],
   "source": [
    "def fib_flr(n):\n",
    "    \"\"\"Compute the nth item in the Fibonacci sequence by truncation.\n",
    "    Fn = (φ ^ n) / √5 + 0.5 truncated to an integer, \\\n",
    "    where φ is the Golden Ratio (https://en.wikipedia.org/wiki/Golden_ratio)\n",
    "\n",
    "    Parameters:\n",
    "    n (int): The index for which the result has to be computed.\n",
    "\n",
    "    Returns:\n",
    "    int: Returns the item of the Fibonacci sequence at the nth index\n",
    "\n",
    "    \"\"\"\n",
    "    root_5 = 5 ** 0.5\n",
    "    phi = (1 + root_5) / 2 # This is the golden ratio\n",
    "    f_n = math.floor((phi ** n / root_5) + 0.5)\n",
    "    return f_n"
   ]
  },
  {
   "cell_type": "code",
   "execution_count": 344,
   "id": "a1d32e23",
   "metadata": {
    "lines_to_next_cell": 1,
    "scrolled": true
   },
   "outputs": [
    {
     "name": "stdout",
     "output_type": "stream",
     "text": [
      "fib(0) = 0\n",
      "fib(1) = 1\n",
      "fib(2) = 1\n",
      "fib(3) = 2\n",
      "fib(7) = 13\n",
      "fib(11) = 89\n",
      "fib(13) = 233\n"
     ]
    }
   ],
   "source": [
    "test_fn(fib_flr)"
   ]
  },
  {
   "cell_type": "code",
   "execution_count": 331,
   "id": "b8ad9246",
   "metadata": {
    "lines_to_next_cell": 1
   },
   "outputs": [],
   "source": [
    "def test_computation_time(fib_fn):\n",
    "    \"\"\"\n",
    "    Compute time taken to execute the fibonacci function for a sequence \\\n",
    "    of increasing 'n'.\n",
    "\n",
    "    Parameters\n",
    "    ----------\n",
    "    fib_fn : function\n",
    "        The function for which the run times must be computed.\n",
    "\n",
    "    Returns\n",
    "    -------\n",
    "    times : dict\n",
    "        A dict with keys as values of n, and values as floats representing \\\n",
    "    computation time (in seconds).\n",
    "\n",
    "    \"\"\"\n",
    "    inputs = range(0,1000,2)\n",
    "    times = dict()\n",
    "    for n in inputs:\n",
    "        start = time.perf_counter()\n",
    "        fib_fn(n)\n",
    "        end = time.perf_counter()\n",
    "        times[n] = (end - start)\n",
    "    return times"
   ]
  },
  {
   "cell_type": "code",
   "execution_count": 332,
   "id": "0cf9e249",
   "metadata": {
    "lines_to_next_cell": 1
   },
   "outputs": [],
   "source": [
    "def find_median(computation_times):\n",
    "    \"\"\"\n",
    "    Find the median of a sequence of floats.\n",
    "\n",
    "    Parameters\n",
    "    ----------\n",
    "    computation_times : list\n",
    "        The list of floats representing running times.\n",
    "\n",
    "    Returns\n",
    "    -------\n",
    "    float\n",
    "        The median value in the sequence..\n",
    "\n",
    "    \"\"\"\n",
    "    computation_times = sorted(computation_times)\n",
    "    length = len(computation_times)\n",
    "    middle = length // 2\n",
    "    if length % 2:\n",
    "        return (computation_times[middle] + computation_times[middle - 1]) / 2\n",
    "    return computation_times[middle]"
   ]
  },
  {
   "cell_type": "code",
   "execution_count": null,
   "id": "f8f8e282",
   "metadata": {},
   "outputs": [],
   "source": [
    "# Create a dataframe with all median computation times\n",
    "dat = pd.DataFrame({\n",
    "    \"Recursion\": [find_median(test_computation_time(fib_rec_bad).values())],\n",
    "    \"Linear Recursion\": [find_median(test_computation_time(fib_rec).values())],\n",
    "    \"For-Loop\": [find_median(test_computation_time(fib_for).values())],\n",
    "    \"While-Loop\": [find_median(test_computation_time(fib_whl).values())],\n",
    "    \"Rounding\": [find_median(test_computation_time(fib_rnd).values())],\n",
    "    \"Truncation\": [find_median(test_computation_time(fib_flr).values())]\n",
    "    })"
   ]
  },
  {
   "cell_type": "code",
   "execution_count": 346,
   "id": "a82ac63b",
   "metadata": {},
   "outputs": [
    {
     "data": {
      "text/markdown": [
       "|   Non Linear Recursion |   Recursion |   For-Loop |   While-Loop |   Rounding |   Truncation |\n",
       "|------------------------|-------------|------------|--------------|------------|--------------|\n",
       "|               1.90e-04 |    8.95e-05 |   3.02e-05 |     4.30e-05 |   4.58e-07 |     4.58e-07 |"
      ],
      "text/plain": [
       "<IPython.core.display.Markdown object>"
      ]
     },
     "metadata": {},
     "output_type": "display_data"
    }
   ],
   "source": [
    "display(\n",
    "        Markdown(\n",
    "            dat.to_markdown(index=False, tablefmt=\"github\", floatfmt=\".2e\")\n",
    "            )\n",
    "        )"
   ]
  },
  {
   "cell_type": "markdown",
   "id": "bf1f2319",
   "metadata": {},
   "source": [
    "It is observed that computation time (in seconds) decreases by orders \n",
    "of magnitude, for the three general classes of algorithms.\n",
    "\n",
    "- Recursion of the exponential time complexity performs the slowest\n",
    "- Linear recursion is better by an order of magnitude\n",
    "- The loop based variations time similarly to the linear recursion, \n",
    "but they are more optimal in memory usage (not depicted here) as they \n",
    "do not use implicit stack space\n",
    "- The closed-form formulae perform the best, as they have constant time \n",
    "running complexities\n"
   ]
  },
  {
   "cell_type": "markdown",
   "id": "a06104e2",
   "metadata": {},
   "source": [
    "# Q2 - Pascal Triangle"
   ]
  },
  {
   "cell_type": "code",
   "execution_count": 26,
   "id": "ad82c83a",
   "metadata": {
    "lines_to_next_cell": 1
   },
   "outputs": [],
   "source": [
    "memo = {(0,0): 1} # global memoized table to store results\n",
    "def calculate_ncr(n, r):\n",
    "    \"\"\"\n",
    "    Computes nCr -- # ways to choose r items from n\n",
    "\n",
    "    Parameters\n",
    "    ----------\n",
    "    n : int\n",
    "        Total number of items to pick from.\n",
    "    r : int\n",
    "        Total number of items to pick.\n",
    "\n",
    "    Returns\n",
    "    -------\n",
    "    int\n",
    "        Number of ways to pick r items from n.\n",
    "\n",
    "    \"\"\"\n",
    "    if n == r or r == 0:\n",
    "        memo[(n, r)] = 1\n",
    "    if ((n, r) not in memo):\n",
    "        memo[(n, r)] = calculate_ncr(n, r-1) * (n + 1 - r) / r\n",
    "    return int(memo[(n, r)])"
   ]
  },
  {
   "cell_type": "code",
   "execution_count": 27,
   "id": "c592b62f",
   "metadata": {},
   "outputs": [],
   "source": [
    "def calculate_pascal_row(n):\n",
    "    \"\"\"\n",
    "    Compute an arbitrary row of the Pascal's triangle\n",
    "\n",
    "    Parameters\n",
    "    ----------\n",
    "    n : int\n",
    "        The index of the row to be computed.\n",
    "\n",
    "    Returns\n",
    "    -------\n",
    "    row : list\n",
    "        Sequence of numbers in the nth row of the Pascal's triangle.\n",
    "\n",
    "    \"\"\"\n",
    "    row = []\n",
    "    for r in range(n+1):\n",
    "        row.append(calculate_ncr(n, r))\n",
    "    return row"
   ]
  },
  {
   "cell_type": "code",
   "execution_count": 28,
   "id": "a33098b9",
   "metadata": {},
   "outputs": [],
   "source": [
    "def pad_outer(triangle):\n",
    "    \"\"\"\n",
    "    Adds leading and trailing space padding for each row (in-place)\n",
    "\n",
    "    Parameters\n",
    "    ----------\n",
    "    triangle : list\n",
    "        The original triangle with an arbitary number of rows.\n",
    "\n",
    "    Returns\n",
    "    -------\n",
    "    None.\n",
    "\n",
    "    \"\"\"\n",
    "    for (idx, row) in enumerate(triangle):\n",
    "        row.extend([\" \"] * (len(triangle) - idx))\n",
    "        for _ in range(len(triangle) - idx):\n",
    "            row.insert(0, \" \")"
   ]
  },
  {
   "cell_type": "code",
   "execution_count": 29,
   "id": "2180a72d",
   "metadata": {},
   "outputs": [],
   "source": [
    "def disp_pascal_triangle(depth):\n",
    "    \"\"\"\n",
    "    Compute a pascal triangle and display it with appropriate spacing\n",
    "\n",
    "    Parameters\n",
    "    ----------\n",
    "    depth : int\n",
    "        Number of rows the triangle should have.\n",
    "\n",
    "    Returns\n",
    "    -------\n",
    "    None.\n",
    "\n",
    "    \"\"\"\n",
    "\n",
    "    triangle = []\n",
    "    for i in range(depth+1):\n",
    "        row = list(\n",
    "            map(lambda s: str(s).center(3, ' '), \n",
    "                calculate_pascal_row(i)\n",
    "               )\n",
    "        )\n",
    "        triangle.append(row)\n",
    "    pad_outer(triangle)\n",
    "    for row in triangle:\n",
    "        print(\" \".join(row))"
   ]
  },
  {
   "cell_type": "code",
   "execution_count": 30,
   "id": "c0a0456d",
   "metadata": {},
   "outputs": [
    {
     "name": "stdout",
     "output_type": "stream",
     "text": [
      "                       1                       \n",
      "                     1   1                     \n",
      "                   1   2   1                   \n",
      "                 1   3   3   1                 \n",
      "               1   4   6   4   1               \n",
      "             1   5   10  10  5   1             \n",
      "           1   6   15  20  15  6   1           \n",
      "         1   7   21  35  35  21  7   1         \n",
      "       1   8   28  56  70  56  28  8   1       \n",
      "     1   9   36  84 126 126  84  36  9   1     \n",
      "   1   10  45 120 210 252 210 120  45  10  1   \n"
     ]
    }
   ],
   "source": [
    "disp_pascal_triangle(10)"
   ]
  },
  {
   "cell_type": "markdown",
   "id": "f365b2f3",
   "metadata": {},
   "source": [
    "# Q3 - Statistics 101"
   ]
  },
  {
   "cell_type": "code",
   "execution_count": 1,
   "id": "4ec09164",
   "metadata": {
    "lines_to_next_cell": 2
   },
   "outputs": [],
   "source": [
    "\"\"\"\n",
    "Created on Sat Sep 11 14:58:06 2021\n",
    "\n",
    "@author: chittaranjan\n",
    "\"\"\"\n",
    "import numpy as np\n",
    "import scipy.stats as st\n",
    "import pandas as pd\n",
    "import warnings\n",
    "import math"
   ]
  },
  {
   "cell_type": "code",
   "execution_count": 2,
   "id": "a93e1277",
   "metadata": {
    "lines_to_next_cell": 1
   },
   "outputs": [],
   "source": [
    "DIMENSION_VALUE_ERR = \"Invalid dimension={dim}; Dimension should be 1\""
   ]
  },
  {
   "cell_type": "code",
   "execution_count": 3,
   "id": "77999a78",
   "metadata": {
    "lines_to_next_cell": 1
   },
   "outputs": [],
   "source": [
    "def get_interval_estimate(data,\n",
    "                          confidence_level,\n",
    "                          method,\n",
    "                          output_format=(\n",
    "                              \"{est:.4f} [{level}% ({lwr:.2f}, {upr})]\"\n",
    "                              )\n",
    "                          ):\n",
    "    \"\"\"\n",
    "    Compute the interval estimate given the data, confidence level, and the\n",
    "    algorithm\n",
    "\n",
    "    Parameters\n",
    "    ----------\n",
    "    data : ndarray-like\n",
    "        Any 1d array, coercable to numpy ndarray with ndim=1.\n",
    "    confidence_level : float\n",
    "        Any real value between 0 and 100 describing the required level \n",
    "        of confidence (is a %age).\n",
    "    method : function\n",
    "        A function that is to be invoked to compute the interval.\n",
    "    output_format : string, optional\n",
    "        A string representing how the output should be formatted if required. \n",
    "        The string should follow conventional pythonic string specifiers, \n",
    "        and can refer to 'lwr', 'upr', 'level', 'est'\n",
    "        The default is '{est:.4f} [{level}% ({lwr:.4f}, {upr:.4f})]'\n",
    "        None can be passed in case a dict representation is desired\n",
    "\n",
    "\n",
    "    Returns\n",
    "    -------\n",
    "    string or dict\n",
    "        A string or dict representation of the following:\n",
    "            - level: The confidence level with which the estimates are made\n",
    "            - lwr: The lower bound of the range of the interval estimate\n",
    "            - upr: The upper bound of the range of the interval estimate\n",
    "            - est: The point estimate of the parameter\n",
    "\n",
    "    \"\"\"\n",
    "    try:\n",
    "        data = np.asarray(data)\n",
    "        statistic = method(data, confidence_level)\n",
    "        if output_format:\n",
    "            return str.format_map(output_format, statistic)\n",
    "        return statistic\n",
    "    except ValueError:\n",
    "        raise"
   ]
  },
  {
   "cell_type": "code",
   "execution_count": 4,
   "id": "2b70530c",
   "metadata": {
    "lines_to_next_cell": 1
   },
   "outputs": [],
   "source": [
    "def calc_interval_est_norm(data, confidence_level):\n",
    "    \"\"\"\n",
    "    Computes the interval estimate using the normal distribution theory\n",
    "\n",
    "    Parameters\n",
    "    ----------\n",
    "    data : ndarray\n",
    "        1D array depicting a collection of values whose parameters \n",
    "        are to be estimated.\n",
    "    confidence_level : float\n",
    "        Any real value between 0 and 100 describing the required level \n",
    "        of confidence (is a %age).\n",
    "\n",
    "    Raises\n",
    "    ------\n",
    "    ValueError\n",
    "        If dimension of the data is not 1D.\n",
    "\n",
    "    Returns\n",
    "    -------\n",
    "    dict\n",
    "        With statistic values of the data.\n",
    "\n",
    "    \"\"\"\n",
    "    if data.ndim != 1:\n",
    "        raise ValueError(DIMENSION_VALUE_ERR.format(dim=data.ndim))\n",
    "    mean = np.mean(data)\n",
    "    std = np.std(data)\n",
    "    alpha = (100 - confidence_level) / 100\n",
    "    se = std / math.sqrt(data.size)\n",
    "    z = abs(st.norm.ppf(alpha / 2))\n",
    "    return {\n",
    "        \"est\": mean,\n",
    "        \"lwr\": mean - z*se,\n",
    "        \"upr\": mean + z*se,\n",
    "        \"level\": confidence_level\n",
    "        }"
   ]
  },
  {
   "cell_type": "code",
   "execution_count": 5,
   "id": "4966e4fd",
   "metadata": {
    "lines_to_next_cell": 1
   },
   "outputs": [],
   "source": [
    "def calc_normal_binomial(data, confidence_level):\n",
    "    \"\"\"\n",
    "    Computes the interval estimate using the normal approximation for binomials\n",
    "\n",
    "    Parameters\n",
    "    ----------\n",
    "    data : ndarray\n",
    "        1D array depicting a collection of values whose parameters \n",
    "        are to be estimated.\n",
    "    confidence_level : float\n",
    "        Any real value between 0 and 100 describing the required level \n",
    "        of confidence (is a %age).\n",
    "\n",
    "    Raises\n",
    "    ------\n",
    "    ValueError\n",
    "        If dimension of the data is not 1D.\n",
    "\n",
    "    Returns\n",
    "    -------\n",
    "    dict\n",
    "        With statistic values of the data.\n",
    "\n",
    "    \"\"\"\n",
    "    if data.ndim != 1:\n",
    "        raise ValueError(DIMENSION_VALUE_ERR.format(dim=data.ndim))\n",
    "    n = data.size\n",
    "    phat = np.mean(data)\n",
    "    alpha = (100 - confidence_level) / 100\n",
    "    z = abs(st.norm.ppf(alpha / 2))\n",
    "    \n",
    "    threshold_value = n * min(phat, 1 - phat)\n",
    "    if not threshold_value > 12:\n",
    "        warnings.warn(\n",
    "            \"This approximation may not be adequate for the given data\"\n",
    "            )\n",
    "    \n",
    "    return {\n",
    "        \"est\": phat,\n",
    "        \"lwr\": phat - (z * (math.sqrt((phat * (1 - phat)) / n))),\n",
    "        \"upr\": phat + (z * (math.sqrt((phat * (1 - phat)) / n))),\n",
    "        \"level\": confidence_level\n",
    "    }"
   ]
  },
  {
   "cell_type": "code",
   "execution_count": 6,
   "id": "54300ab9",
   "metadata": {
    "lines_to_next_cell": 1
   },
   "outputs": [],
   "source": [
    "def calc_clopper_pearson(data, confidence_level):\n",
    "    \"\"\"\n",
    "    Computes the interval estimate using the Clopper-Pearson method.\n",
    "\n",
    "    Parameters\n",
    "    ----------\n",
    "    data : ndarray\n",
    "        1D array depicting a collection of values whose parameters \n",
    "        are to be estimated.\n",
    "    confidence_level : float\n",
    "        Any real value between 0 and 100 describing the required level \n",
    "        of confidence (is a %age).\n",
    "\n",
    "    Raises\n",
    "    ------\n",
    "    ValueError\n",
    "        If dimension of the data is not 1D.\n",
    "\n",
    "    Returns\n",
    "    -------\n",
    "    dict\n",
    "        With statistic values of the data.\n",
    "\n",
    "    \"\"\"\n",
    "    if data.ndim != 1:\n",
    "        raise ValueError(DIMENSION_VALUE_ERR.format(dim=data.ndim))\n",
    "    n = data.size\n",
    "    x = np.sum(data)\n",
    "    phat = np.mean(data)\n",
    "    alpha = (100 - confidence_level) / 100\n",
    "    return {\n",
    "        \"est\": phat,\n",
    "        \"lwr\": st.beta.ppf(alpha / 2, x, n - x + 1),\n",
    "        \"upr\": st.beta.ppf(1 - (alpha / 2), x + 1, n - x),\n",
    "        \"level\": confidence_level \n",
    "        }"
   ]
  },
  {
   "cell_type": "code",
   "execution_count": 7,
   "id": "df041c6d",
   "metadata": {
    "lines_to_next_cell": 1
   },
   "outputs": [],
   "source": [
    "def calc_jeffreys(data, confidence_level):\n",
    "    \"\"\"\n",
    "    Computes the interval estimate using Jeffrey's method.\n",
    "\n",
    "    Parameters\n",
    "    ----------\n",
    "    data : ndarray\n",
    "        1D array depicting a collection of values whose parameters \n",
    "        are to be estimated.\n",
    "    confidence_level : float\n",
    "        Any real value between 0 and 100 describing the required level \n",
    "        of confidence (is a %age).\n",
    "\n",
    "    Raises\n",
    "    ------\n",
    "    ValueError\n",
    "        If dimension of the data is not 1D.\n",
    "\n",
    "    Returns\n",
    "    -------\n",
    "    dict\n",
    "        With statistic values of the data.\n",
    "\n",
    "    \"\"\"\n",
    "    if data.ndim != 1:\n",
    "        raise ValueError(DIMENSION_VALUE_ERR.format(dim=data.ndim))\n",
    "    n = data.size\n",
    "    x = np.sum(data)\n",
    "    phat = np.mean(data)\n",
    "    alpha = (100 - confidence_level) / 100\n",
    "    return {\n",
    "        \"est\": phat,\n",
    "        \"lwr\": max(0, st.beta.ppf(alpha / 2, x + 0.5, n - x + 0.5)),\n",
    "        \"upr\": min(1, st.beta.ppf(1 - (alpha / 2), x + 0.5, n - x + 0.5)),\n",
    "        \"level\": confidence_level \n",
    "        }"
   ]
  },
  {
   "cell_type": "code",
   "execution_count": 8,
   "id": "8115d60b",
   "metadata": {
    "lines_to_next_cell": 1
   },
   "outputs": [],
   "source": [
    "def calc_agresti_coull(data, confidence_level):\n",
    "    \"\"\"\n",
    "    Computes the interval estimate using the Agresti-Coull method.\n",
    "\n",
    "    Parameters\n",
    "    ----------\n",
    "    data : ndarray\n",
    "        1D array depicting a collection of values whose parameters \n",
    "        are to be estimated.\n",
    "    confidence_level : float\n",
    "        Any real value between 0 and 100 describing the required level \n",
    "        of confidence (is a %age).\n",
    "\n",
    "    Raises\n",
    "    ------\n",
    "    ValueError\n",
    "        If dimension of the data is not 1D.\n",
    "\n",
    "    Returns\n",
    "    -------\n",
    "    dict\n",
    "        With statistic values of the data.\n",
    "\n",
    "    \"\"\"\n",
    "    if data.ndim != 1:\n",
    "        raise ValueError(DIMENSION_VALUE_ERR.format(dim=data.ndim))\n",
    "    n = data.size\n",
    "    alpha = (100 - confidence_level) / 100\n",
    "    x = np.sum(data)\n",
    "    z = abs(st.norm.ppf(alpha / 2))\n",
    "    n_bar = n + (z * z)\n",
    "    p_bar = (x + ((z * z) / 2)) / n_bar\n",
    "    return {\n",
    "         \"est\": p_bar,\n",
    "         \"lwr\": p_bar - (z * math.sqrt(p_bar * (1 - p_bar) / n_bar)),\n",
    "         \"upr\": p_bar + (z * math.sqrt(p_bar * (1 - p_bar) / n_bar)),\n",
    "         \"level\": confidence_level\n",
    "         }"
   ]
  },
  {
   "cell_type": "code",
   "execution_count": 9,
   "id": "699425d3",
   "metadata": {},
   "outputs": [],
   "source": [
    "test_bin_data = np.array(([0] * 48) + ([1] * 42))\n",
    "results = []\n",
    "for confidence_level in [90, 95, 99]:\n",
    "    vals_for_conf = []\n",
    "    for fn in [\n",
    "        calc_interval_est_norm,\n",
    "        calc_normal_binomial,\n",
    "        calc_clopper_pearson,\n",
    "        calc_jeffreys,\n",
    "        calc_agresti_coull\n",
    "    ]:        \n",
    "        statistic = get_interval_estimate(\n",
    "            test_bin_data,\n",
    "            confidence_level,\n",
    "            fn,\n",
    "            output_format=None\n",
    "            )\n",
    "        lwr = round(statistic['lwr'], 4)\n",
    "        upr = round(statistic['upr'], 4)\n",
    "        width = round(statistic['upr'] - statistic['lwr'], 4)\n",
    "        vals_for_conf.extend([str(lwr), str(upr), str(width)])\n",
    "    results.append(vals_for_conf[:])"
   ]
  },
  {
   "cell_type": "code",
   "execution_count": 10,
   "id": "bbab8021",
   "metadata": {},
   "outputs": [],
   "source": [
    "df = pd.DataFrame(\n",
    "    data = results, \n",
    "    index = [\"90%\", \"95%\", \"99%\"],\n",
    "    columns = pd.MultiIndex.from_product([\n",
    "        [\n",
    "            \"Normal\", \n",
    "            \"Normal Binomial\", \n",
    "            \"Clopper-Pearson\", \n",
    "            \"Jeffrey's\", \n",
    "            \"Agresti-Coull\"\n",
    "            ],\n",
    "        [\n",
    "            \"Lower\", \n",
    "            \"Upper\", \n",
    "            \"Width\"\n",
    "            ]\n",
    "    ])\n",
    ")\n",
    "df.index.name = \"Confidence Levels\""
   ]
  },
  {
   "cell_type": "code",
   "execution_count": 11,
   "id": "3b44c84a",
   "metadata": {
    "lines_to_next_cell": 2
   },
   "outputs": [
    {
     "data": {
      "text/html": [
       "<style type=\"text/css\">\n",
       "#T_efaab_ td {\n",
       "  text-align: center;\n",
       "  border: 1px dotted gray;\n",
       "}\n",
       "#T_efaab_ th {\n",
       "  text-align: center;\n",
       "  border: 1px dotted gray;\n",
       "}\n",
       "</style>\n",
       "<table id=\"T_efaab_\">\n",
       "  <thead>\n",
       "    <tr>\n",
       "      <th class=\"blank level0\" >&nbsp;</th>\n",
       "      <th class=\"col_heading level0 col0\" colspan=\"3\">Normal</th>\n",
       "      <th class=\"col_heading level0 col3\" colspan=\"3\">Normal Binomial</th>\n",
       "      <th class=\"col_heading level0 col6\" colspan=\"3\">Clopper-Pearson</th>\n",
       "      <th class=\"col_heading level0 col9\" colspan=\"3\">Jeffrey's</th>\n",
       "      <th class=\"col_heading level0 col12\" colspan=\"3\">Agresti-Coull</th>\n",
       "    </tr>\n",
       "    <tr>\n",
       "      <th class=\"blank level1\" >&nbsp;</th>\n",
       "      <th class=\"col_heading level1 col0\" >Lower</th>\n",
       "      <th class=\"col_heading level1 col1\" >Upper</th>\n",
       "      <th class=\"col_heading level1 col2\" >Width</th>\n",
       "      <th class=\"col_heading level1 col3\" >Lower</th>\n",
       "      <th class=\"col_heading level1 col4\" >Upper</th>\n",
       "      <th class=\"col_heading level1 col5\" >Width</th>\n",
       "      <th class=\"col_heading level1 col6\" >Lower</th>\n",
       "      <th class=\"col_heading level1 col7\" >Upper</th>\n",
       "      <th class=\"col_heading level1 col8\" >Width</th>\n",
       "      <th class=\"col_heading level1 col9\" >Lower</th>\n",
       "      <th class=\"col_heading level1 col10\" >Upper</th>\n",
       "      <th class=\"col_heading level1 col11\" >Width</th>\n",
       "      <th class=\"col_heading level1 col12\" >Lower</th>\n",
       "      <th class=\"col_heading level1 col13\" >Upper</th>\n",
       "      <th class=\"col_heading level1 col14\" >Width</th>\n",
       "    </tr>\n",
       "    <tr>\n",
       "      <th class=\"index_name level0\" >Confidence Levels</th>\n",
       "      <th class=\"blank col0\" >&nbsp;</th>\n",
       "      <th class=\"blank col1\" >&nbsp;</th>\n",
       "      <th class=\"blank col2\" >&nbsp;</th>\n",
       "      <th class=\"blank col3\" >&nbsp;</th>\n",
       "      <th class=\"blank col4\" >&nbsp;</th>\n",
       "      <th class=\"blank col5\" >&nbsp;</th>\n",
       "      <th class=\"blank col6\" >&nbsp;</th>\n",
       "      <th class=\"blank col7\" >&nbsp;</th>\n",
       "      <th class=\"blank col8\" >&nbsp;</th>\n",
       "      <th class=\"blank col9\" >&nbsp;</th>\n",
       "      <th class=\"blank col10\" >&nbsp;</th>\n",
       "      <th class=\"blank col11\" >&nbsp;</th>\n",
       "      <th class=\"blank col12\" >&nbsp;</th>\n",
       "      <th class=\"blank col13\" >&nbsp;</th>\n",
       "      <th class=\"blank col14\" >&nbsp;</th>\n",
       "    </tr>\n",
       "  </thead>\n",
       "  <tbody>\n",
       "    <tr>\n",
       "      <th id=\"T_efaab_level0_row0\" class=\"row_heading level0 row0\" >90%</th>\n",
       "      <td id=\"T_efaab_row0_col0\" class=\"data row0 col0\" >0.3802</td>\n",
       "      <td id=\"T_efaab_row0_col1\" class=\"data row0 col1\" >0.5532</td>\n",
       "      <td id=\"T_efaab_row0_col2\" class=\"data row0 col2\" >0.173</td>\n",
       "      <td id=\"T_efaab_row0_col3\" class=\"data row0 col3\" >0.3802</td>\n",
       "      <td id=\"T_efaab_row0_col4\" class=\"data row0 col4\" >0.5532</td>\n",
       "      <td id=\"T_efaab_row0_col5\" class=\"data row0 col5\" >0.173</td>\n",
       "      <td id=\"T_efaab_row0_col6\" class=\"data row0 col6\" >0.3765</td>\n",
       "      <td id=\"T_efaab_row0_col7\" class=\"data row0 col7\" >0.5586</td>\n",
       "      <td id=\"T_efaab_row0_col8\" class=\"data row0 col8\" >0.1821</td>\n",
       "      <td id=\"T_efaab_row0_col9\" class=\"data row0 col9\" >0.3818</td>\n",
       "      <td id=\"T_efaab_row0_col10\" class=\"data row0 col10\" >0.5531</td>\n",
       "      <td id=\"T_efaab_row0_col11\" class=\"data row0 col11\" >0.1712</td>\n",
       "      <td id=\"T_efaab_row0_col12\" class=\"data row0 col12\" >0.3824</td>\n",
       "      <td id=\"T_efaab_row0_col13\" class=\"data row0 col13\" >0.5529</td>\n",
       "      <td id=\"T_efaab_row0_col14\" class=\"data row0 col14\" >0.1705</td>\n",
       "    </tr>\n",
       "    <tr>\n",
       "      <th id=\"T_efaab_level0_row1\" class=\"row_heading level0 row1\" >95%</th>\n",
       "      <td id=\"T_efaab_row1_col0\" class=\"data row1 col0\" >0.3636</td>\n",
       "      <td id=\"T_efaab_row1_col1\" class=\"data row1 col1\" >0.5697</td>\n",
       "      <td id=\"T_efaab_row1_col2\" class=\"data row1 col2\" >0.2061</td>\n",
       "      <td id=\"T_efaab_row1_col3\" class=\"data row1 col3\" >0.3636</td>\n",
       "      <td id=\"T_efaab_row1_col4\" class=\"data row1 col4\" >0.5697</td>\n",
       "      <td id=\"T_efaab_row1_col5\" class=\"data row1 col5\" >0.2061</td>\n",
       "      <td id=\"T_efaab_row1_col6\" class=\"data row1 col6\" >0.3607</td>\n",
       "      <td id=\"T_efaab_row1_col7\" class=\"data row1 col7\" >0.5749</td>\n",
       "      <td id=\"T_efaab_row1_col8\" class=\"data row1 col8\" >0.2142</td>\n",
       "      <td id=\"T_efaab_row1_col9\" class=\"data row1 col9\" >0.366</td>\n",
       "      <td id=\"T_efaab_row1_col10\" class=\"data row1 col10\" >0.5694</td>\n",
       "      <td id=\"T_efaab_row1_col11\" class=\"data row1 col11\" >0.2034</td>\n",
       "      <td id=\"T_efaab_row1_col12\" class=\"data row1 col12\" >0.3671</td>\n",
       "      <td id=\"T_efaab_row1_col13\" class=\"data row1 col13\" >0.569</td>\n",
       "      <td id=\"T_efaab_row1_col14\" class=\"data row1 col14\" >0.2019</td>\n",
       "    </tr>\n",
       "    <tr>\n",
       "      <th id=\"T_efaab_level0_row2\" class=\"row_heading level0 row2\" >99%</th>\n",
       "      <td id=\"T_efaab_row2_col0\" class=\"data row2 col0\" >0.3312</td>\n",
       "      <td id=\"T_efaab_row2_col1\" class=\"data row2 col1\" >0.6021</td>\n",
       "      <td id=\"T_efaab_row2_col2\" class=\"data row2 col2\" >0.2709</td>\n",
       "      <td id=\"T_efaab_row2_col3\" class=\"data row2 col3\" >0.3312</td>\n",
       "      <td id=\"T_efaab_row2_col4\" class=\"data row2 col4\" >0.6021</td>\n",
       "      <td id=\"T_efaab_row2_col5\" class=\"data row2 col5\" >0.2709</td>\n",
       "      <td id=\"T_efaab_row2_col6\" class=\"data row2 col6\" >0.3306</td>\n",
       "      <td id=\"T_efaab_row2_col7\" class=\"data row2 col7\" >0.6064</td>\n",
       "      <td id=\"T_efaab_row2_col8\" class=\"data row2 col8\" >0.2758</td>\n",
       "      <td id=\"T_efaab_row2_col9\" class=\"data row2 col9\" >0.3357</td>\n",
       "      <td id=\"T_efaab_row2_col10\" class=\"data row2 col10\" >0.601</td>\n",
       "      <td id=\"T_efaab_row2_col11\" class=\"data row2 col11\" >0.2653</td>\n",
       "      <td id=\"T_efaab_row2_col12\" class=\"data row2 col12\" >0.3382</td>\n",
       "      <td id=\"T_efaab_row2_col13\" class=\"data row2 col13\" >0.5997</td>\n",
       "      <td id=\"T_efaab_row2_col14\" class=\"data row2 col14\" >0.2615</td>\n",
       "    </tr>\n",
       "  </tbody>\n",
       "</table>\n"
      ],
      "text/plain": [
       "<pandas.io.formats.style.Styler at 0x7fa7d2f1a430>"
      ]
     },
     "execution_count": 11,
     "metadata": {},
     "output_type": "execute_result"
    }
   ],
   "source": [
    "df.style.set_table_styles([\n",
    "    {\n",
    "        \"selector\": \"td,th\", \n",
    "        \"props\" : [\n",
    "            ('text-align', 'center'), \n",
    "            ('border','1px dotted gray')\n",
    "        ]\n",
    "    }\n",
    "])"
   ]
  },
  {
   "cell_type": "markdown",
   "id": "e6fcbd0e",
   "metadata": {},
   "source": [
    "Observations:\n",
    "- The normal and normal approximation for Binomials provide the same intervals\n",
    "- Clopper-Pearson is a more conservation method, so its interval \n",
    "widths are larger\n",
    "- While Jeffrey's and Agresti-Coull interval widths are quite close, \n",
    "the latter provides the shortest interval for all confidence levels"
   ]
  },
  {
   "cell_type": "code",
   "execution_count": null,
   "id": "16ad4705",
   "metadata": {},
   "outputs": [],
   "source": []
  }
 ],
 "metadata": {
  "kernelspec": {
   "display_name": "Python 3",
   "language": "python",
   "name": "python3"
  },
  "language_info": {
   "codemirror_mode": {
    "name": "ipython",
    "version": 3
   },
   "file_extension": ".py",
   "mimetype": "text/x-python",
   "name": "python",
   "nbconvert_exporter": "python",
   "pygments_lexer": "ipython3",
   "version": "3.8.8"
  }
 },
 "nbformat": 4,
 "nbformat_minor": 5
}
