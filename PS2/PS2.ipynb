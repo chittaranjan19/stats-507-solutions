{
 "cells": [
  {
   "cell_type": "markdown",
   "id": "46143789",
   "metadata": {},
   "source": [
    "# Stats 507 PS2 - Chittaranjan Velambur Rajan"
   ]
  },
  {
   "cell_type": "code",
   "execution_count": 1,
   "id": "04c6a6dc",
   "metadata": {},
   "outputs": [],
   "source": [
    "# imports used for this file\n",
    "from IPython.core.display import display, Markdown\n",
    "import matplotlib.pyplot as plt\n",
    "import random\n",
    "from os.path import exists\n",
    "import pandas as pd\n",
    "from collections import defaultdict\n",
    "import timeit\n",
    "import numpy as np"
   ]
  },
  {
   "cell_type": "markdown",
   "id": "8be5ba92",
   "metadata": {},
   "source": [
    "# Q0 - Code review warmup"
   ]
  },
  {
   "cell_type": "markdown",
   "id": "31d4b154",
   "metadata": {
    "lines_to_next_cell": 2
   },
   "source": [
    "## Sample Code Snippet\n",
    "```\n",
    "sample_list = [(1, 3, 5), (0, 1, 2), (1, 9, 8)]\n",
    "op = []\n",
    "for m in range(len(sample_list)):\n",
    "    li = [sample_list[m]]\n",
    "        for n in range(len(sample_list)):\n",
    "            if (sample_list[m][0] == sample_list[n][0] and\n",
    "                    sample_list[m][3] != sample_list[n][3]):\n",
    "                li.append(sample_list[n])\n",
    "        op.append(sorted(li, key=lambda dd: dd[3], reverse=True)[0])\n",
    "res = list(set(op))\n",
    "```"
   ]
  },
  {
   "cell_type": "markdown",
   "id": "344c60c9",
   "metadata": {},
   "source": [
    "## Sample Code Snippet - Modified"
   ]
  },
  {
   "cell_type": "code",
   "execution_count": 2,
   "id": "c75e1bc8",
   "metadata": {},
   "outputs": [
    {
     "name": "stdout",
     "output_type": "stream",
     "text": [
      "[(0, 1, 2), (1, 9, 8)]\n"
     ]
    }
   ],
   "source": [
    "sample_list = [(1, 3, 5), (0, 1, 2), (1, 9, 8)]\n",
    "op = []\n",
    "for m in range(len(sample_list)):\n",
    "    li = [sample_list[m]]\n",
    "    for n in range(len(sample_list)):\n",
    "        if (sample_list[m][0] == sample_list[n][0] and\n",
    "                sample_list[m][2] != sample_list[n][2]):\n",
    "            li.append(sample_list[n])\n",
    "    op.append(sorted(li, key=lambda dd: dd[2], reverse=True)[0])\n",
    "res = list(set(op))\n",
    "\n",
    "print(res)"
   ]
  },
  {
   "cell_type": "markdown",
   "id": "612597b5",
   "metadata": {},
   "source": [
    "#### Modifications\n",
    "- Removed indents on lines 5-9\n",
    "- Changed indexing of [3] to [2] to fix IndexOutOfBounds"
   ]
  },
  {
   "cell_type": "markdown",
   "id": "689224dc",
   "metadata": {},
   "source": [
    "#### Summary -- Part (a)\n",
    "This snippet, at a high level, transforms an input list of tuples\n",
    "into an output list of tuples with specific properties\n",
    "\n",
    "For each tuple of the input list, say `x`, the output has a\n",
    "corresponding$^{*}$ tuple `y` which has the largest last element among\n",
    "all tuples (including `x`) which share the first element (index=0) but\n",
    "have a different last element.\n",
    "\n",
    "$^{*}$ The output list has no duplicate tuples, so it does not\n",
    "necessarily have a 1-1 mapping to each element from the input list."
   ]
  },
  {
   "cell_type": "markdown",
   "id": "940dead3",
   "metadata": {},
   "source": [
    "#### Code Review Comments -- Part (b)\n",
    "1. Readability:\n",
    "    - When not obvious, it is helpful to leave a comment\n",
    "(or better, docstring) describing what the code does. This way,\n",
    "the reviewer is able to grasp the intent of the code without having to\n",
    "first understand it entirely.\n",
    "    - Use more meaningful variables names (and avoid\n",
    "[Hungarian Notation](https://en.wikipedia.org/wiki/Hungarian_notation))\n",
    "like `sample_list` or `li` which only give information about the type\n",
    "of a variable but not the contents itself.\n",
    "1. Performance: Make sure to not have the code do more than what is needed.\n",
    "    - To retrieve the maximum or minimum value of a list, it is overkill\n",
    "to sort the entire list. Instead make use of the `max` or `min` function.\n",
    "    - In looping constucts, use of for-each loops may be preferred over\n",
    "counting loops, i.e `for val in vals:` as opposed to\n",
    "`for i in range(len(vals)`. Of course, there will be scenarios where\n",
    "the latter is unavoidable, but it is best to try to aim for the former.\n",
    "This is because the extra dereference of `vals[i]` is slightly more\n",
    "expensive and it can add up.\n",
    "1. Testability:\n",
    "    - It is recommended to have unit tests that can describe most\n",
    "common scenarios of how this code is expected to be used, and validate\n",
    "results against them\n",
    "    - An external code review can be more fruitful after an internal\n",
    "or self-review of the code, as the trivial bugs are caught earlier and\n",
    "more time may be spent on the non-trivial details"
   ]
  },
  {
   "cell_type": "markdown",
   "id": "33fe18a3",
   "metadata": {},
   "source": [
    "# Q1 - List of Tuples"
   ]
  },
  {
   "cell_type": "code",
   "execution_count": 3,
   "id": "498743ee",
   "metadata": {},
   "outputs": [],
   "source": [
    "def generate_random_table(n, k=3, low=1, high=100):\n",
    "    \"\"\"\n",
    "    Generates a list of tuples using numbers between `low` and `high`.\n",
    "\n",
    "    Parameters\n",
    "    ----------\n",
    "    n : int\n",
    "        The number of records in the table.\n",
    "    k : int, optional\n",
    "        The number of items in each table. The default is 3.\n",
    "    low : int, optional\n",
    "        The minimum possible value of any item in the table. The default is 1.\n",
    "    high : int, optional\n",
    "        One more than the maximum value of any item in the table. \n",
    "        The default is 100.\n",
    "\n",
    "    Returns\n",
    "    -------\n",
    "    list\n",
    "        A list of n k-tuples, each bearing values between low and high.\n",
    "\n",
    "    \"\"\"\n",
    "    return [\n",
    "        tuple(row)\n",
    "        for row in np.random.randint(low, high, size=(n, k))\n",
    "    ]"
   ]
  },
  {
   "cell_type": "code",
   "execution_count": 4,
   "id": "534f2e95",
   "metadata": {},
   "outputs": [
    {
     "name": "stdout",
     "output_type": "stream",
     "text": [
      "[(42, 13, 53), (62, 51, 3), (99, 50, 83), (39, 28, 84), (93, 22, 51)]\n"
     ]
    }
   ],
   "source": [
    "data = generate_random_table(5, k=3, low=1, high=100)\n",
    "print(data)\n",
    "\n",
    "assert(isinstance(data, list))\n",
    "for record in data:\n",
    "    assert(isinstance(record, tuple))"
   ]
  },
  {
   "cell_type": "markdown",
   "id": "ac68949e",
   "metadata": {},
   "source": [
    "# Q2 - Refactor the Snippet"
   ]
  },
  {
   "cell_type": "markdown",
   "id": "7490f181",
   "metadata": {},
   "source": [
    "#### Encapsulate and Parameterize -- Part (a)"
   ]
  },
  {
   "cell_type": "code",
   "execution_count": 5,
   "id": "daef9ea8",
   "metadata": {},
   "outputs": [],
   "source": [
    "def transform_max(input_list, idx_a=0, idx_b=-1):\n",
    "    \"\"\"\n",
    "    Given a list of tuples, maps each tuple `x` to another tuple `y` belonging\n",
    "    to the input, which has the largest value at `idx_b`, and the same \n",
    "    value as `x` at `idx_a`\n",
    "\n",
    "    Runs in O(n^2) time and O(1) space\n",
    "\n",
    "    Parameters\n",
    "    ----------\n",
    "    input_list : list\n",
    "        List of tuples, can be of arbitrary (but fixed for all) length.\n",
    "    idx_a : int, optional\n",
    "        The index at which equality must be checked. The default is 0.\n",
    "    idx_b : int, optional\n",
    "        The index at which inequality must be checked. The default is -1.\n",
    "\n",
    "    Returns\n",
    "    -------\n",
    "    res : list\n",
    "        List of unique tuples which have been mapped as per above properties.\n",
    "\n",
    "    \"\"\"\n",
    "    op = []\n",
    "    for m in range(len(input_list)):\n",
    "        li = [input_list[m]]\n",
    "        for n in range(len(input_list)):\n",
    "            if (input_list[m][idx_a] == input_list[n][idx_a] and\n",
    "                    input_list[m][idx_b] != input_list[n][idx_b]):\n",
    "                li.append(input_list[n])\n",
    "        op.append(sorted(li, key=lambda dd: dd[idx_b], reverse=True)[0])\n",
    "    res = list(set(op))\n",
    "    return res"
   ]
  },
  {
   "cell_type": "code",
   "execution_count": 6,
   "id": "0a9049e3",
   "metadata": {
    "scrolled": true
   },
   "outputs": [
    {
     "name": "stdout",
     "output_type": "stream",
     "text": [
      "[(0, 1, 2), (1, 9, 8)]\n"
     ]
    }
   ],
   "source": [
    "print(transform_max([(1, 3, 5), (0, 1, 2), (1, 9, 8)], 0, 2))"
   ]
  },
  {
   "cell_type": "markdown",
   "id": "995f3218",
   "metadata": {},
   "source": [
    "#### Implement Suggestions from Code Review -- Part (b)"
   ]
  },
  {
   "cell_type": "code",
   "execution_count": 7,
   "id": "6bf23b93",
   "metadata": {},
   "outputs": [],
   "source": [
    "def test_transform(fn):\n",
    "    \"\"\"\n",
    "    Unit tests some trivial examples of the transformation operation.\n",
    "\n",
    "    Parameters\n",
    "    ----------\n",
    "    fn : function\n",
    "        A callable that takes an input list of tuples, and optionally,\n",
    "        two indices, to perform the transformation operation.\n",
    "\n",
    "    Returns\n",
    "    -------\n",
    "    None.\n",
    "\n",
    "    \"\"\"\n",
    "    inputs = [\n",
    "        [],\n",
    "        [(1, 2, 3)],\n",
    "        [(1, 2, 3), (1, 2, 5)],\n",
    "        [(1, 2, 1), (1, 2, 1)]\n",
    "    ]\n",
    "    outputs = [\n",
    "        [],\n",
    "        [(1, 2, 3)],\n",
    "        [(1, 2, 5)],\n",
    "        [(1, 2, 1)]\n",
    "    ]\n",
    "    for (inp, expected) in zip(inputs, outputs):\n",
    "        actual = fn(inp, 0, 2)\n",
    "        assert actual == expected, \\\n",
    "            f\"Actual: {actual}, Expected: {expected}, Input: {inp}\"\n",
    "\n",
    "\n",
    "def transform_max_new(input_list, idx_a=0, idx_b=-1):\n",
    "    \"\"\"\n",
    "    Given a list of tuples, maps each tuple `x` to another tuple `y` belonging\n",
    "    to the input, which has the largest value at `idx_b`, and the same \n",
    "    value as `x` at `idx_a`\n",
    "\n",
    "    Has a few optimizations as compared to `transform_max`, but still \n",
    "    runs in O(n^2) time and O(1) space\n",
    "\n",
    "    Parameters\n",
    "    ----------\n",
    "    input_list : list\n",
    "        List of tuples, can be of arbitrary (but fixed for all) length.\n",
    "    idx_a : int, optional\n",
    "        The index at which equality must be checked. The default is 0.\n",
    "    idx_b : int, optional\n",
    "        The index at which inequality must be checked. The default is -1.\n",
    "\n",
    "    Returns\n",
    "    -------\n",
    "    list\n",
    "        List of unique tuples which have been mapped as per above properties.\n",
    "\n",
    "    \"\"\"\n",
    "    mapping = set()\n",
    "    for l in input_list:\n",
    "        candidates = [l]\n",
    "        for r in input_list:\n",
    "            if l[idx_a] == r[idx_a] and l[idx_b] != r[idx_b]:\n",
    "                candidates.append(r)\n",
    "        mapping.add(max(candidates, key=lambda c: c[idx_b]))\n",
    "    return list(mapping)\n",
    "\n",
    "\n"
   ]
  },
  {
   "cell_type": "code",
   "execution_count": 8,
   "id": "012e16ff",
   "metadata": {},
   "outputs": [],
   "source": [
    "test_transform(transform_max_new)"
   ]
  },
  {
   "cell_type": "markdown",
   "id": "897f6ab3",
   "metadata": {},
   "source": [
    "#### Write function from scratch -- Part (c)"
   ]
  },
  {
   "cell_type": "code",
   "execution_count": 9,
   "id": "50a94fe3",
   "metadata": {},
   "outputs": [],
   "source": [
    "def transform_max_alternate(input_list, idx_a=0, idx_b=-1):\n",
    "    \"\"\"\n",
    "    Given a list of tuples, maps each tuple `x` to another tuple `y` belonging\n",
    "    to the input, which has the largest value at `idx_b`, and the same \n",
    "    value as `x` at `idx_a`\n",
    "\n",
    "    Runs in O(n) time and O(n) space\n",
    "\n",
    "    Parameters\n",
    "    ----------\n",
    "    input_list : list\n",
    "        List of tuples, can be of arbitrary (but fixed for all) length.\n",
    "    idx_a : int, optional\n",
    "        The index at which equality must be checked. The default is 0.\n",
    "    idx_b : int, optional\n",
    "        The index at which inequality must be checked. The default is -1.\n",
    "\n",
    "    Returns\n",
    "    -------\n",
    "    list\n",
    "        List of unique tuples which have been mapped as per above properties.\n",
    "\n",
    "    \"\"\"\n",
    "    mapping = set()\n",
    "    store = defaultdict(lambda: None)\n",
    "    for l in input_list:\n",
    "        store[l[idx_a]] = l if not (\n",
    "            store[l[idx_a]]\n",
    "        ) else max(\n",
    "            store[l[idx_a]], l, key=lambda c: c[idx_b]\n",
    "        )\n",
    "    for l in input_list:\n",
    "        candidate = store[l[idx_a]]\n",
    "        mapping.add(candidate if l[idx_b] != candidate[idx_b] else l)\n",
    "    return list(mapping)"
   ]
  },
  {
   "cell_type": "code",
   "execution_count": 10,
   "id": "5c052459",
   "metadata": {},
   "outputs": [],
   "source": [
    "test_transform(transform_max_alternate)"
   ]
  },
  {
   "cell_type": "code",
   "execution_count": 11,
   "id": "f330c1a4",
   "metadata": {},
   "outputs": [],
   "source": [
    "for _ in range(100):\n",
    "    data = generate_random_table(random.randint(1, 100), low=1, high=100)\n",
    "    # validate that each function works the same\n",
    "    one = set(transform_max(data))\n",
    "    two = set(transform_max_new(data))\n",
    "    three = set(transform_max_alternate(data))\n",
    "    assert(one == two == three)"
   ]
  },
  {
   "cell_type": "markdown",
   "id": "8f24effd",
   "metadata": {},
   "source": [
    "#### Monte Carlo Study -- Part (d)"
   ]
  },
  {
   "cell_type": "code",
   "execution_count": 12,
   "id": "31889b42",
   "metadata": {
    "scrolled": false
   },
   "outputs": [],
   "source": [
    "NUM_SIMULATIONS = 500"
   ]
  },
  {
   "cell_type": "code",
   "execution_count": 13,
   "id": "ae522d81",
   "metadata": {},
   "outputs": [],
   "source": [
    "def monte_carlo(num_simulations):\n",
    "    \"\"\"\n",
    "    Runs a Monte Carlo simulation with number of simulations as an argument.\n",
    "\n",
    "    Generates random data and feeds it to each of the transform functions\n",
    "    written above\n",
    "\n",
    "    Parameters\n",
    "    ----------\n",
    "    num_simulations : int\n",
    "        Number of simulations to run.\n",
    "\n",
    "    Returns\n",
    "    -------\n",
    "    medians : dict\n",
    "        For each function, a list of `num_simulations` medians.\n",
    "\n",
    "    \"\"\"\n",
    "    times = defaultdict(list)\n",
    "    medians = defaultdict(list)\n",
    "    for _ in range(NUM_SIMULATIONS):\n",
    "        data = generate_random_table(random.randint(1, 1000), low=1, high=100)\n",
    "        for f in [transform_max, transform_max_new, transform_max_alternate]:\n",
    "            t = timeit.timeit(\n",
    "                \"f(data)\", globals={\"f\": f, \"data\": data}, number=1\n",
    "            )\n",
    "            times[f.__name__].append(t)\n",
    "            medians[f.__name__].append(np.median(times[f.__name__]))\n",
    "    return medians"
   ]
  },
  {
   "cell_type": "code",
   "execution_count": 14,
   "id": "3a9cd181",
   "metadata": {},
   "outputs": [],
   "source": [
    "medians = monte_carlo(NUM_SIMULATIONS)"
   ]
  },
  {
   "cell_type": "code",
   "execution_count": 15,
   "id": "364161a8",
   "metadata": {},
   "outputs": [
    {
     "data": {
      "text/markdown": [
       "|   Original Snippet (s) |   Review Improvements (s) |   Re-Written (s) |\n",
       "|------------------------|---------------------------|------------------|\n",
       "|              2.467e-02 |                 1.574e-02 |        3.683e-04 |"
      ],
      "text/plain": [
       "<IPython.core.display.Markdown object>"
      ]
     },
     "metadata": {},
     "output_type": "display_data"
    }
   ],
   "source": [
    "# Create a dataframe with all median computation times\n",
    "dat = pd.DataFrame({\n",
    "    \"Original Snippet (s)\": [medians[\"transform_max\"][-1]],\n",
    "    \"Review Improvements (s)\": [medians[\"transform_max_new\"][-1]],\n",
    "    \"Re-Written (s)\": [medians[\"transform_max_alternate\"][-1]],\n",
    "})\n",
    "\n",
    "display(\n",
    "    Markdown(\n",
    "        dat.to_markdown(index=False, tablefmt=\"github\", floatfmt=\".3e\")\n",
    "    )\n",
    ")"
   ]
  },
  {
   "cell_type": "markdown",
   "id": "5c737c41",
   "metadata": {},
   "source": [
    "The table above presents the median time (in seconds) taken for the\n",
    "execution of the function across all simulations  with the\n",
    "randomly generated data."
   ]
  },
  {
   "cell_type": "code",
   "execution_count": 16,
   "id": "3e30596e",
   "metadata": {},
   "outputs": [
    {
     "data": {
      "image/png": "[encoded data removed]",
      "text/plain": [
       "<Figure size 1116x396 with 1 Axes>"
      ]
     },
     "metadata": {
      "needs_background": "light"
     },
     "output_type": "display_data"
    }
   ],
   "source": [
    "fig, axes = plt.subplots(nrows=1, ncols=1)\n",
    "\n",
    "fig.set_size_inches(15.5, 5.5)\n",
    "\n",
    "axes.set_title(\"Median computation time v/s Simulation #\")\n",
    "_ = axes.set_ylabel(\"Median time (s)\")\n",
    "_ = axes.set_xlabel(\"Simulation #\")\n",
    "_ = axes.plot(\n",
    "    range(NUM_SIMULATIONS),\n",
    "    medians[\"transform_max\"],\n",
    "    label=\"Original Snippet\"\n",
    ")\n",
    "_ = axes.plot(\n",
    "    range(NUM_SIMULATIONS),\n",
    "    medians[\"transform_max_new\"],\n",
    "    label=\"Review Improvements\"\n",
    ")\n",
    "_ = axes.plot(\n",
    "    range(NUM_SIMULATIONS),\n",
    "    medians[\"transform_max_alternate\"],\n",
    "    label=\"Re-Written\"\n",
    ")\n",
    "_ = axes.legend()"
   ]
  },
  {
   "cell_type": "markdown",
   "id": "a782c6e0",
   "metadata": {},
   "source": [
    "The above plot depicts the stabilization of the median computation\n",
    "time of each of the function, with the increase in number of simulations"
   ]
  },
  {
   "cell_type": "markdown",
   "id": "d0b7f3e7",
   "metadata": {},
   "source": [
    "### Summary\n",
    "- The re-written code only loops over the entire list twice, so it is\n",
    "computationally faster (running in O(n) time, but using O(n)\n",
    "additional space)\n",
    "- The code with slight improvements is still asymptotically O(n$^2$)\n",
    "in time and O(1) in space, but is marginally faster due to minor\n",
    "optimizations described in part Q0. b)\n",
    "- The original code snippet performs the slowest, as it is inefficient\n",
    "both in terms of asymptotic time complexity as well as minor code\n",
    "optimizations"
   ]
  },
  {
   "cell_type": "markdown",
   "id": "44e8e269",
   "metadata": {},
   "source": [
    "# Q3 - NHANES Data Clean\n"
   ]
  },
  {
   "cell_type": "markdown",
   "id": "e66a13f5",
   "metadata": {},
   "source": [
    "#### These functions are used across both part a) and b)"
   ]
  },
  {
   "cell_type": "markdown",
   "id": "5a7fb52a",
   "metadata": {},
   "source": [
    "##### Utilities"
   ]
  },
  {
   "cell_type": "code",
   "execution_count": 17,
   "id": "cc78dc8a",
   "metadata": {},
   "outputs": [],
   "source": [
    "\n",
    "def load_or_download(url):\n",
    "    \"\"\"\n",
    "    Checks if file is available as a pickle locally, and if not downloads it\n",
    "    from the provided URL (and then saves a pickle)\n",
    "\n",
    "    Parameters\n",
    "    ----------\n",
    "    url : string\n",
    "        URL to an XPT file.\n",
    "\n",
    "    Returns\n",
    "    -------\n",
    "    DataFrame\n",
    "        A df built after reading the data located at the url.\n",
    "\n",
    "    \"\"\"\n",
    "    filename = url.split(\"/\")[-1]\n",
    "    if exists(filename):\n",
    "        return pd.read_pickle(filename)\n",
    "    df = pd.read_sas(url)\n",
    "    df.to_pickle(filename)\n",
    "    return df"
   ]
  },
  {
   "cell_type": "code",
   "execution_count": 18,
   "id": "c3dcd49f",
   "metadata": {},
   "outputs": [],
   "source": [
    "def clean(config, filenames, cohorts, category_labels={}):\n",
    "    \"\"\"\n",
    "    Reads xpt files and returns a clean dataframe based on config dict\n",
    "\n",
    "    Parameters\n",
    "    ----------\n",
    "    config : dict\n",
    "        Keys are the fields from the xpt that need to be retained.\n",
    "        Values are what the column needs to be renamed to, and their dtype\n",
    "    filenames : list\n",
    "        Names of xpt files to be read.\n",
    "    cohorts : list\n",
    "        Strings representing the years which the data represents.\n",
    "\n",
    "    Returns\n",
    "    -------\n",
    "    df : DataFrame\n",
    "        Cleaned dataframe as per config.\n",
    "\n",
    "    \"\"\"\n",
    "\n",
    "    frames = []\n",
    "    for dataset, cohort_year in zip(filenames, cohorts):\n",
    "        df = load_or_download(dataset)\n",
    "        cols = config.keys()\n",
    "        df = df[df.columns.intersection(cols)]\n",
    "        df[\"cohort\"] = cohort_year\n",
    "        df[\"cohort\"] = df[\"cohort\"].astype(\"string\")\n",
    "        frames.append(df)\n",
    "\n",
    "    df = pd.concat(frames)\n",
    "    df = df.rename(columns={k: config[k][0] for k in config})\n",
    "    for k in category_labels:\n",
    "        if k in df.columns:\n",
    "            df[k] = df[k].replace(category_labels[k])\n",
    "    df = df.astype({\n",
    "        config[k][0]:\n",
    "            config[k][1] for k in config if config[k][0] in df.columns\n",
    "    })\n",
    "    return df.copy()"
   ]
  },
  {
   "cell_type": "markdown",
   "id": "6b9567ad",
   "metadata": {},
   "source": [
    "#### Demographics related configs -- Part (a)"
   ]
  },
  {
   "cell_type": "code",
   "execution_count": 19,
   "id": "31696c03",
   "metadata": {},
   "outputs": [],
   "source": [
    "cohorts = [\"2011-12\", \"2013-14\", \"2015-16\", \"2017-18\"]\n",
    "demographics_config = {\n",
    "    \"SEQN\": (\"id\", \"int64\"),\n",
    "    \"RIDAGEYR\": (\"age\", \"int8\"),\n",
    "    \"RIAGENDR\": (\"gender\", \"category\"),\n",
    "    \"RIDRETH3\": (\"race_ethnicity\", \"category\"),\n",
    "    \"DMDEDUC2\": (\"education\", \"category\"),\n",
    "    \"DMDMARTL\": (\"marital_status\", \"category\"),\n",
    "    \"RIDSTATR\": (\"exam_status\", \"category\"),\n",
    "    \"SDMVPSU\": (\"mvu_pseudo_psu\", \"float64\"),\n",
    "    \"SDMVSTRA\": (\"mvu_pseudo_stratum\", \"float64\"),\n",
    "    \"WTMEC2YR\": (\"mec_exam_weight\", \"float64\"),\n",
    "    \"WTINT2YR\": (\"interview_weight\", \"float64\")\n",
    "}\n",
    "demographics_filenames = [\n",
    "    \"https://wwwn.cdc.gov/Nchs/Nhanes/2011-2012/DEMO_G.XPT\",\n",
    "    \"https://wwwn.cdc.gov/Nchs/Nhanes/2013-2014/DEMO_H.XPT\",\n",
    "    \"https://wwwn.cdc.gov/Nchs/Nhanes/2015-2016/DEMO_I.XPT\",\n",
    "    \"https://wwwn.cdc.gov/Nchs/Nhanes/2017-2018/DEMO_J.XPT\"\n",
    "]\n",
    "\n",
    "demographics_category_labels = {\n",
    "    \"race_ethnicity\": {\n",
    "        1: \"Mexican American\",\n",
    "        2: \"Other Hispanic\",\n",
    "        3: \"Non-Hispanic White\",\n",
    "        4: \"Non-Hispanic Black\",\n",
    "        6: \"Non-Hispanic Asian\",\n",
    "        7: \"Other Race - Including Multi-Racial\",\n",
    "    },\n",
    "    \"education\": {\n",
    "        1: \"Less than 9th grade\",\n",
    "        2: \"9-11th grade (Includes 12th grade with no diploma)\",\n",
    "        3: \"High school graduate/GED or equivalent\",\n",
    "        4: \"Some college or AA degree\",\n",
    "        5: \"College graduate or above\",\n",
    "        7: \"Refused\",\n",
    "        9: \"Don't Know\",\n",
    "        \".\": \"Missing\"\n",
    "    },\n",
    "    \"marital_status\": {\n",
    "        1: \"Married\",\n",
    "        2: \"Widowed\",\n",
    "        3: \"Divorced\",\n",
    "        4: \"Separated\",\n",
    "        5: \"Never married\",\n",
    "        6: \"Living with partner\",\n",
    "        77: \"Refused\",\n",
    "        99: \"Don't Know\",\n",
    "        \".\": \"Missing\"\n",
    "    },\n",
    "    \"exam_status\": {\n",
    "        1: \"Interviewed only\",\n",
    "        2: \"Both interviewed and MEC examined\"\n",
    "    },\n",
    "    \"gender\": {\n",
    "        1: \"Male\",\n",
    "        2: \"Female\"\n",
    "    }\n",
    "}"
   ]
  },
  {
   "cell_type": "markdown",
   "id": "f7cb52f4",
   "metadata": {},
   "source": [
    "#### Dentition Related Config -- Part (b)"
   ]
  },
  {
   "cell_type": "code",
   "execution_count": 20,
   "id": "d287cd41",
   "metadata": {},
   "outputs": [],
   "source": [
    "dentition_config = {\n",
    "    \"SEQN\": (\"id\", \"int64\"),\n",
    "    \"OHDDESTS\": (\"ohx_status\", \"category\")\n",
    "}\n",
    "\n",
    "dentition_category_labels = {\n",
    "    \"ohx_status\": {\n",
    "        1: \"Complete\",\n",
    "        2: \"Partial\",\n",
    "        3: \"Not Done\"\n",
    "    }\n",
    "}\n",
    "\n",
    "generic_labels_TC = {\n",
    "    1: \"Primary tooth (deciduous) present\",\n",
    "    2: \"Permanent tooth present\",\n",
    "    3: \"Dental implant\",\n",
    "    4: \"Tooth not present\",\n",
    "    5: \"Permanent dental root fragment present\",\n",
    "    9: \"Could not assess\",\n",
    "    \".\": \"Missing\"\n",
    "}\n",
    "for i in map(str, range(1, 33)):\n",
    "    num = str.rjust(i, 2, \"0\")\n",
    "    col_name = \"OHX\" + num + \"TC\"\n",
    "    dentition_config[col_name] = (\"tooth_count_\" + num, \"category\")\n",
    "    dentition_category_labels[\"tooth_count_\" + num] = generic_labels_TC\n",
    "\n",
    "generic_labels_CTC = {\n",
    "    \"A\": \"Primary tooth with a restored surface condition\",\n",
    "    \"D\": \"Sound primary tooth\",\n",
    "    \"E\": \"Missing due to dental disease\",\n",
    "    \"F\": \"Permanent tooth with a restored surface condition\",\n",
    "    \"J\": \"Permanent root tip is present but no restorative \\\n",
    "        replacement is present\",\n",
    "    \"K\": \"Primary tooth with a dental carious surface condition\",\n",
    "    \"M\": \"Missing due to other causes\",\n",
    "    \"P\": \"Missing due to dental disease but replaced by a removable \\\n",
    "        restoration\",\n",
    "    \"Q\": \"Missing due to other causes but replaced by a removable \\\n",
    "        restoration\",\n",
    "    \"R\": \"Missing due to dental disease but replaced by a fixed restoration\",\n",
    "    \"S\": \"Sound permanent tooth\",\n",
    "    \"T\": \"Permanent root tip is present but a restorative replacement \\\n",
    "        is present\",\n",
    "    \"U\": \"Unerupted\",\n",
    "    \"X\": \"Missing due to other causes but replaced by a fixed restoration\",\n",
    "    \"Y\": \"Tooth present, condition cannot be assessed\",\n",
    "    \"Z\": \"Permanent tooth with a dental carious surface condition\",\n",
    "    \"\": \"Missing\"\n",
    "}\n",
    "\n",
    "for i in map(str, range(2, 32)):\n",
    "    num = str.rjust(i, 2, \"0\")\n",
    "    col_name = \"OHX\" + num + \"CTC\"\n",
    "    dentition_config[col_name] = (\"coronal_caries_\" + num, \"category\")\n",
    "    dentition_category_labels[\"coronal_caries_\" + num] = generic_labels_CTC\n",
    "\n",
    "dentition_filenames = [\n",
    "    \"https://wwwn.cdc.gov/Nchs/Nhanes/2011-2012/OHXDEN_G.XPT\",\n",
    "    \"https://wwwn.cdc.gov/Nchs/Nhanes/2013-2014/OHXDEN_H.XPT\",\n",
    "    \"https://wwwn.cdc.gov/Nchs/Nhanes/2015-2016/OHXDEN_I.XPT\",\n",
    "    \"https://wwwn.cdc.gov/Nchs/Nhanes/2017-2018/OHXDEN_J.XPT\"\n",
    "]"
   ]
  },
  {
   "cell_type": "markdown",
   "id": "4242820d",
   "metadata": {},
   "source": [
    "#### Shape of dataframes -- Part (c)"
   ]
  },
  {
   "cell_type": "code",
   "execution_count": 21,
   "id": "45312113",
   "metadata": {
    "scrolled": true
   },
   "outputs": [
    {
     "name": "stdout",
     "output_type": "stream",
     "text": [
      "count      39156\n",
      "unique         2\n",
      "top       Female\n",
      "freq       19848\n",
      "Name: gender, dtype: object\n",
      "SHAPE: (39156, 12)\n"
     ]
    }
   ],
   "source": [
    "df = clean(\n",
    "    demographics_config,\n",
    "    demographics_filenames,\n",
    "    cohorts,\n",
    "    category_labels=demographics_category_labels\n",
    ")\n",
    "print(df[\"gender\"].describe())\n",
    "print(\"SHAPE:\", df.shape)\n",
    "df.to_pickle(\"demographics.pickle\")"
   ]
  },
  {
   "cell_type": "code",
   "execution_count": 22,
   "id": "80407422",
   "metadata": {},
   "outputs": [
    {
     "name": "stdout",
     "output_type": "stream",
     "text": [
      "SHAPE: (35909, 63)\n"
     ]
    }
   ],
   "source": [
    "df = clean(\n",
    "    dentition_config,\n",
    "    dentition_filenames,\n",
    "    cohorts,\n",
    "    category_labels=dentition_category_labels\n",
    ")\n",
    "print(\"SHAPE:\", df.shape)\n",
    "df.to_pickle(\"dentition.pickle\")"
   ]
  }
 ],
 "metadata": {
  "jupytext": {
   "cell_metadata_filter": "-all",
   "encoding": "# -*- coding: utf-8 -*-",
   "executable": "/usr/bin/env python3",
   "formats": "ipynb,auto:light",
   "main_language": "python",
   "notebook_metadata_filter": "-all"
  },
  "kernelspec": {
   "display_name": "Python 3",
   "language": "python",
   "name": "python3"
  },
  "language_info": {
   "codemirror_mode": {
    "name": "ipython",
    "version": 3
   },
   "file_extension": ".py",
   "mimetype": "text/x-python",
   "name": "python",
   "nbconvert_exporter": "python",
   "pygments_lexer": "ipython3",
   "version": "3.8.8"
  }
 },
 "nbformat": 4,
 "nbformat_minor": 5
}
