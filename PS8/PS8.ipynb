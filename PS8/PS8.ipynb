{
 "cells": [
  {
   "cell_type": "markdown",
   "id": "69970b21",
   "metadata": {},
   "source": [
    "# PS8"
   ]
  },
  {
   "cell_type": "code",
   "execution_count": 1,
   "id": "4ceb1869",
   "metadata": {},
   "outputs": [
    {
     "data": {
      "text/plain": [
       "'\\nAuthor: Chittaranjan\\nEmail: chitt@umich.edu\\n'"
      ]
     },
     "execution_count": 1,
     "metadata": {},
     "output_type": "execute_result"
    }
   ],
   "source": [
    "\"\"\"\n",
    "Author: Chittaranjan\n",
    "Email: chitt@umich.edu\n",
    "\"\"\""
   ]
  },
  {
   "cell_type": "code",
   "execution_count": 2,
   "id": "b05370af",
   "metadata": {},
   "outputs": [],
   "source": [
    "import pandas as pd\n",
    "from sklearn.metrics import mean_squared_error\n",
    "from sklearn.model_selection import GroupShuffleSplit\n",
    "import tensorflow as tf\n",
    "from tensorflow.keras import layers"
   ]
  },
  {
   "cell_type": "markdown",
   "id": "42bbe675",
   "metadata": {},
   "source": [
    "## Q0 - Slurm"
   ]
  },
  {
   "cell_type": "markdown",
   "id": "12e0dcb9",
   "metadata": {},
   "source": [
    "### Job Statistics Output"
   ]
  },
  {
   "cell_type": "markdown",
   "id": "0e241b02",
   "metadata": {},
   "source": [
    "```\n",
    "[chitt@gl-login2 logs]$ sacct --format=\"JobID,NCPUS,Elapsed,CPUTime,TotalCPU\"\n",
    "       JobID      NCPUS    Elapsed    CPUTime   TotalCPU\n",
    "------------ ---------- ---------- ---------- ----------\n",
    "29748671              5   00:09:22   00:46:50  37:10.743\n",
    "```"
   ]
  },
  {
   "cell_type": "markdown",
   "id": "daf85c02",
   "metadata": {},
   "source": [
    "### Execution Logs"
   ]
  },
  {
   "cell_type": "markdown",
   "id": "786509bc",
   "metadata": {},
   "source": [
    "```\n",
    "[chitt@gl-login2 logs]$ cat superconduct-chitt-6-12-29748671.log\n",
    "Mon Dec  6 00:27:02 EST 2021\n",
    "[<Process name='Process-4' pid=88440 parent=88392 started>, <Process name='Process-1' pid=88436 parent=88392 started>, <Process name='Process-5' pid=88441 parent=88392 started>, <Process name='Process-2' pid=88438 parent=88392 started>, <Process name='Process-3' pid=88439 parent=88392 started>]\n",
    "[('rf_fold1', 106.41390980365682), ('rf_fold4', 106.75332069887826), ('rf_fold2', 92.31671151882448), ('rf_fold0', 93.59101150017862), ('rf_fold3', 93.90551985631339), ('rf_fold5', 102.874885396315), ('rf_fold7', 91.82756354836837), ('rf_fold6', 99.54484369888097), ('rf_fold8', 105.07271273405858), ('rf_fold9', 109.70729285419108)]\n",
    "100.20077716096657\n",
    "Mon Dec  6 00:36:23 EST 2021\n",
    "Done.\n",
    "```"
   ]
  },
  {
   "cell_type": "markdown",
   "id": "ea5181a3",
   "metadata": {},
   "source": [
    "Note: Batch mode python script `superconductivity.py` submitted separately."
   ]
  },
  {
   "cell_type": "markdown",
   "id": "b24a537a",
   "metadata": {},
   "source": [
    "## Q1 - Tensorflow and Keras"
   ]
  },
  {
   "cell_type": "markdown",
   "id": "d2342a4f",
   "metadata": {},
   "source": [
    "#### Part (a)"
   ]
  },
  {
   "cell_type": "code",
   "execution_count": 3,
   "id": "c8a446d5",
   "metadata": {},
   "outputs": [],
   "source": [
    "def train_test_validation_split(data,\n",
    "                                train_size,\n",
    "                                test_size,\n",
    "                                validation_size,\n",
    "                                groups_col\n",
    "                                ):\n",
    "    \"\"\"\n",
    "    Split a dataset into training, testing, and validation sets\n",
    "\n",
    "    Parameters\n",
    "    ----------\n",
    "    data : DataFrame\n",
    "        The complete data which needs to be split.\n",
    "    train_size : float\n",
    "        Proportion of training data.\n",
    "    test_size : float\n",
    "        Proportion of testing data.\n",
    "    validation_size : float\n",
    "        Proportion of validation data.\n",
    "    groups_col: str\n",
    "        Name of column in data that contains group labels\n",
    "\n",
    "    Returns\n",
    "    -------\n",
    "    tuple\n",
    "        Three dataframes for train, test, validation as per proportions.\n",
    "\n",
    "    \"\"\"\n",
    "    gss = GroupShuffleSplit(n_splits=1,\n",
    "                            train_size=train_size,\n",
    "                            random_state=12052021\n",
    "                            )\n",
    "    train_idx, test_and_valid_idx = next(gss.split(data,\n",
    "                                                   groups=data[groups_col]\n",
    "                                                   )\n",
    "                                         )\n",
    "    ts = (validation_size / (test_size + validation_size))\n",
    "    gss = GroupShuffleSplit(n_splits=1,\n",
    "                            train_size=ts,\n",
    "                            random_state=12052021\n",
    "                            )\n",
    "    validation_idx, test_idx = next(\n",
    "        gss.split(\n",
    "            data.iloc[test_and_valid_idx],\n",
    "            groups=data[groups_col].iloc[test_and_valid_idx]\n",
    "        )\n",
    "    )\n",
    "    return (\n",
    "        data.iloc[train_idx].reset_index(drop=True),\n",
    "        data.iloc[test_idx].reset_index(drop=True),\n",
    "        data.iloc[validation_idx].reset_index(drop=True)\n",
    "    )"
   ]
  },
  {
   "cell_type": "code",
   "execution_count": 4,
   "id": "4ce76ca0",
   "metadata": {},
   "outputs": [],
   "source": [
    "def split_x_y(data, y_col):\n",
    "    \"\"\"\n",
    "    Splits a dataset in X and y as per regular definition of predictors \n",
    "    and response \n",
    "\n",
    "    Parameters\n",
    "    ----------\n",
    "    data : DataFrame\n",
    "        The dataset which needs to be split into X and y.\n",
    "    y_col : str\n",
    "        Name of response column in `data`.\n",
    "\n",
    "    Returns\n",
    "    -------\n",
    "    list\n",
    "        X and y dataframes, split based on `y_col`.\n",
    "\n",
    "    \"\"\"\n",
    "    return [data[y_col], data.drop(y_col, axis=1)][::-1]"
   ]
  },
  {
   "cell_type": "code",
   "execution_count": 5,
   "id": "c7ea9fce",
   "metadata": {},
   "outputs": [],
   "source": [
    "def score(model, x, y):\n",
    "    \"\"\"\n",
    "    Compute Mean Squared Error for a model \n",
    "\n",
    "    Parameters\n",
    "    ----------\n",
    "    model : object\n",
    "        A model object which supports a predict method.\n",
    "    x : DataFrame\n",
    "        Predictor values for the model.\n",
    "    y: DataFrame\n",
    "        Response values for the model.\n",
    "\n",
    "    Returns\n",
    "    -------\n",
    "    float\n",
    "        MSE for the model based on x and y\n",
    "\n",
    "    \"\"\"\n",
    "    return mean_squared_error(y, model.predict(x))"
   ]
  },
  {
   "cell_type": "code",
   "execution_count": 6,
   "id": "5b55e335",
   "metadata": {},
   "outputs": [],
   "source": [
    "def train_neural_network(model, X, y, val_X=None, val_y=None):\n",
    "    \"\"\"\n",
    "    Trains a neural network model by fitting the X and y\n",
    "\n",
    "    Parameters\n",
    "    ----------\n",
    "    model : KerasModel\n",
    "        Neural network model with any number of hidden layers\n",
    "    X : DataFrame\n",
    "        The predictor values to train with\n",
    "    y : DataFrame\n",
    "        The response values to train with\n",
    "    val_X : DataFrame\n",
    "        The predictor values to validate with\n",
    "    val_y : DataFrame\n",
    "        The response values to validate with\n",
    "    Returns\n",
    "    -------\n",
    "    KerasModel, float\n",
    "        Trained model, and its MSE value against the validation fold\n",
    "    \"\"\"\n",
    "    model.compile(loss='mse',\n",
    "                  optimizer='adam',\n",
    "                  metrics=[\n",
    "                       tf.keras.metrics.MeanSquaredError()\n",
    "                  ]\n",
    "                  )\n",
    "    model.fit(X, y, epochs=15, batch_size=10, verbose=0)\n",
    "    return model, (\n",
    "        model.evaluate(\n",
    "            val_X,\n",
    "            val_y,\n",
    "            verbose=0)[0] if val_X is not None and val_y is not None else 0\n",
    "    )"
   ]
  },
  {
   "cell_type": "code",
   "execution_count": 7,
   "id": "bbdcf303",
   "metadata": {},
   "outputs": [],
   "source": [
    "def evaluate_cv(model, train_X, train_y, k=10):\n",
    "    \"\"\"\n",
    "    Compute Cross Validated MSE for a neural network model\n",
    "\n",
    "    Parameters\n",
    "    ----------\n",
    "    model : KerasModel\n",
    "        Neural network model with any number of hidden layers\n",
    "    train_X : DataFrame\n",
    "        The predictor values to train with\n",
    "    train_y : DataFrame\n",
    "        The response values to train with\n",
    "    k: int\n",
    "        The number of folds with which to perform CV\n",
    "    Returns\n",
    "    -------\n",
    "    float\n",
    "        MSE value against the validation folds\n",
    "    \"\"\"\n",
    "    gss = GroupShuffleSplit(n_splits=k)\n",
    "    cv_mses = []\n",
    "    for idx_train, idx_val in gss.split(train_X, groups=train_X[\"material\"]):\n",
    "        X = train_X.iloc[idx_train]\n",
    "        y = train_y.iloc[idx_train]\n",
    "        val_X = train_X.iloc[idx_val]\n",
    "        val_y = train_y.iloc[idx_val]\n",
    "        model, cv_mse = train_neural_network(model,\n",
    "                                             X.drop(\"material\", axis=1),\n",
    "                                             y,\n",
    "                                             val_X.drop(\"material\", axis=1),\n",
    "                                             val_y\n",
    "                                             )\n",
    "        cv_mses.append(cv_mse)\n",
    "    kfold_mse = sum(cv_mses) / len(cv_mses)\n",
    "    return kfold_mse"
   ]
  },
  {
   "cell_type": "code",
   "execution_count": 8,
   "id": "e03242af",
   "metadata": {},
   "outputs": [],
   "source": [
    "def evaluate(model, train_X, train_y, val_X, val_y):\n",
    "    \"\"\"\n",
    "    Compute MSE for a neural network model against a validation set\n",
    "\n",
    "    Parameters\n",
    "    ----------\n",
    "    model : KerasModel\n",
    "        Neural network model with any number of hidden layers\n",
    "    train_X : DataFrame\n",
    "        The predictor values to train with\n",
    "    train_y : DataFrame\n",
    "        The response values to train with\n",
    "    val_X : DataFrame\n",
    "        The predictor values to validate against\n",
    "    val_y : DataFrame\n",
    "        The response values to validate against\n",
    "    Returns\n",
    "    -------\n",
    "    float\n",
    "        MSE value against the validation data\n",
    "    \"\"\"\n",
    "    full_model, _ = train_neural_network(\n",
    "        model,\n",
    "        train_X.drop(\"material\", axis=1),\n",
    "        train_y\n",
    "    )\n",
    "    return full_model.evaluate(\n",
    "        val_X.drop(\"material\", axis=1),\n",
    "        val_y, verbose=0\n",
    "    )[0]"
   ]
  },
  {
   "cell_type": "code",
   "execution_count": 9,
   "id": "8b8eceff",
   "metadata": {},
   "outputs": [],
   "source": [
    "superconduct_df = pd.read_csv(\"./superconduct/train.csv\")\n",
    "superconduct_df[\"material\"] = pd.read_csv(\n",
    "    \"./superconduct/unique_m.csv\"\n",
    ")[\"material\"]\n",
    "train, test, validation = train_test_validation_split(\n",
    "    superconduct_df,\n",
    "    0.8,\n",
    "    0.1,\n",
    "    0.1,\n",
    "    \"material\"\n",
    ")\n",
    "train_X, train_y = split_x_y(train, \"critical_temp\")\n",
    "test_X, test_y = split_x_y(test, \"critical_temp\")\n",
    "validation_X, validation_y = split_x_y(validation, \"critical_temp\")"
   ]
  },
  {
   "cell_type": "code",
   "execution_count": 10,
   "id": "23f6e841",
   "metadata": {},
   "outputs": [
    {
     "name": "stderr",
     "output_type": "stream",
     "text": [
      "2021-12-07 10:55:05.016761: I tensorflow/core/platform/cpu_feature_guard.cc:142] This TensorFlow binary is optimized with oneAPI Deep Neural Network Library (oneDNN) to use the following CPU instructions in performance-critical operations:  SSE4.1 SSE4.2\n",
      "To enable them in other operations, rebuild TensorFlow with the appropriate compiler flags.\n"
     ]
    }
   ],
   "source": [
    "model1 = tf.keras.Sequential(\n",
    "    [\n",
    "        layers.Dense(65,\n",
    "                     kernel_regularizer=tf.keras.regularizers.l2(0.001)\n",
    "                     ),\n",
    "        layers.Dense(40),\n",
    "        layers.Dense(1),\n",
    "    ]\n",
    ")\n",
    "\n",
    "model2 = tf.keras.Sequential([\n",
    "    layers.Dense(128, activation='relu'),\n",
    "    layers.Dropout(0.1),\n",
    "    layers.Dense(1),\n",
    "])\n",
    "\n",
    "model3 = tf.keras.Sequential([\n",
    "    layers.Dense(128, activation='relu', kernel_regularizer='l1'),\n",
    "    layers.Dropout(0.3),\n",
    "    layers.Dense(64, activation='relu'),\n",
    "    layers.Dense(32, activation='relu'),\n",
    "    layers.Dense(1),\n",
    "])\n",
    "\n",
    "model4 = tf.keras.Sequential([\n",
    "    layers.Dense(64, activation='relu'),\n",
    "    layers.Dense(64, activation='relu'),\n",
    "    layers.Dense(64, activation='relu'),\n",
    "    layers.Dense(1),\n",
    "])\n",
    "\n",
    "model5 = tf.keras.Sequential([\n",
    "    layers.Dense(64, activation='relu'),\n",
    "    layers.Dense(1),\n",
    "])"
   ]
  },
  {
   "cell_type": "code",
   "execution_count": 11,
   "id": "ca30a6c6",
   "metadata": {},
   "outputs": [
    {
     "name": "stderr",
     "output_type": "stream",
     "text": [
      "2021-12-07 10:55:05.147531: I tensorflow/compiler/mlir/mlir_graph_optimization_pass.cc:116] None of the MLIR optimization passes are enabled (registered 2)\n"
     ]
    }
   ],
   "source": [
    "nn_summary = pd.DataFrame({\n",
    "    \"MSE (Validation)\": [\n",
    "        evaluate(model1, train_X, train_y, validation_X, validation_y),\n",
    "        evaluate(model2, train_X, train_y, validation_X, validation_y),\n",
    "        evaluate(model3, train_X, train_y, validation_X, validation_y),\n",
    "        evaluate(model4, train_X, train_y, validation_X, validation_y),\n",
    "        evaluate(model5, train_X, train_y, validation_X, validation_y)\n",
    "    ],\n",
    "    \"Cross Validated MSE\": [\n",
    "        evaluate_cv(model1, train_X, train_y),\n",
    "        evaluate_cv(model2, train_X, train_y),\n",
    "        evaluate_cv(model3, train_X, train_y),\n",
    "        evaluate_cv(model4, train_X, train_y),\n",
    "        evaluate_cv(model5, train_X, train_y)\n",
    "    ]\n",
    "}, index=[\"Model-1\", \"Model-2\", \"Model-3\", \"Model-4\", \"Model-5\"])"
   ]
  },
  {
   "cell_type": "code",
   "execution_count": 12,
   "id": "933ed3b8",
   "metadata": {
    "scrolled": true
   },
   "outputs": [
    {
     "data": {
      "text/html": [
       "<div>\n",
       "<style scoped>\n",
       "    .dataframe tbody tr th:only-of-type {\n",
       "        vertical-align: middle;\n",
       "    }\n",
       "\n",
       "    .dataframe tbody tr th {\n",
       "        vertical-align: top;\n",
       "    }\n",
       "\n",
       "    .dataframe thead th {\n",
       "        text-align: right;\n",
       "    }\n",
       "</style>\n",
       "<table border=\"1\" class=\"dataframe\">\n",
       "  <thead>\n",
       "    <tr style=\"text-align: right;\">\n",
       "      <th></th>\n",
       "      <th>MSE (Validation)</th>\n",
       "      <th>Cross Validated MSE</th>\n",
       "    </tr>\n",
       "  </thead>\n",
       "  <tbody>\n",
       "    <tr>\n",
       "      <th>Model-1</th>\n",
       "      <td>645.68</td>\n",
       "      <td>376.89</td>\n",
       "    </tr>\n",
       "    <tr>\n",
       "      <th>Model-2</th>\n",
       "      <td>460.69</td>\n",
       "      <td>255.90</td>\n",
       "    </tr>\n",
       "    <tr>\n",
       "      <th>Model-3</th>\n",
       "      <td>918.58</td>\n",
       "      <td>456.28</td>\n",
       "    </tr>\n",
       "    <tr>\n",
       "      <th>Model-4</th>\n",
       "      <td>497.13</td>\n",
       "      <td>225.13</td>\n",
       "    </tr>\n",
       "    <tr>\n",
       "      <th>Model-5</th>\n",
       "      <td>509.64</td>\n",
       "      <td>255.20</td>\n",
       "    </tr>\n",
       "  </tbody>\n",
       "</table>\n",
       "</div>"
      ],
      "text/plain": [
       "         MSE (Validation)  Cross Validated MSE\n",
       "Model-1            645.68               376.89\n",
       "Model-2            460.69               255.90\n",
       "Model-3            918.58               456.28\n",
       "Model-4            497.13               225.13\n",
       "Model-5            509.64               255.20"
      ]
     },
     "execution_count": 12,
     "metadata": {},
     "output_type": "execute_result"
    }
   ],
   "source": [
    "nn_summary.round(2)"
   ]
  },
  {
   "cell_type": "markdown",
   "id": "ecff5d69",
   "metadata": {},
   "source": [
    "Model-2, with three hidden layers of 64 nodes each performs best in terms of MSE"
   ]
  },
  {
   "cell_type": "markdown",
   "id": "58e8f217",
   "metadata": {},
   "source": [
    "#### Part (b)"
   ]
  },
  {
   "cell_type": "code",
   "execution_count": 15,
   "id": "b3e45ecf",
   "metadata": {
    "scrolled": true
   },
   "outputs": [
    {
     "data": {
      "text/plain": [
       "446.99"
      ]
     },
     "execution_count": 15,
     "metadata": {},
     "output_type": "execute_result"
    }
   ],
   "source": [
    "round(evaluate(model2, train_X, train_y, test_X, test_y), 2)"
   ]
  },
  {
   "cell_type": "markdown",
   "id": "b902dead",
   "metadata": {},
   "source": [
    "The best model has an MSE of `446.99` on the test data"
   ]
  },
  {
   "cell_type": "markdown",
   "id": "1394a055",
   "metadata": {},
   "source": [
    "## Q2 - PySpark and hdfs"
   ]
  },
  {
   "cell_type": "markdown",
   "id": "3577b8b5",
   "metadata": {},
   "source": [
    "Note: Script that computes these values is submitted separately as `q2.py`"
   ]
  },
  {
   "cell_type": "code",
   "execution_count": 14,
   "id": "aed18230",
   "metadata": {},
   "outputs": [
    {
     "data": {
      "text/html": [
       "<div>\n",
       "<style scoped>\n",
       "    .dataframe tbody tr th:only-of-type {\n",
       "        vertical-align: middle;\n",
       "    }\n",
       "\n",
       "    .dataframe tbody tr th {\n",
       "        vertical-align: top;\n",
       "    }\n",
       "\n",
       "    .dataframe thead th {\n",
       "        text-align: right;\n",
       "    }\n",
       "</style>\n",
       "<table border=\"1\" class=\"dataframe\">\n",
       "  <thead>\n",
       "    <tr style=\"text-align: right;\">\n",
       "      <th></th>\n",
       "      <th>Shape</th>\n",
       "      <th>Total</th>\n",
       "      <th>Area Sum</th>\n",
       "      <th>Median</th>\n",
       "      <th>Mean</th>\n",
       "    </tr>\n",
       "  </thead>\n",
       "  <tbody>\n",
       "    <tr>\n",
       "      <th>0</th>\n",
       "      <td>Triangle</td>\n",
       "      <td>8451</td>\n",
       "      <td>33961384.47</td>\n",
       "      <td>2653.58</td>\n",
       "      <td>4018.62</td>\n",
       "    </tr>\n",
       "    <tr>\n",
       "      <th>1</th>\n",
       "      <td>Rectangle</td>\n",
       "      <td>8431</td>\n",
       "      <td>17478227.44</td>\n",
       "      <td>1668.51</td>\n",
       "      <td>2073.09</td>\n",
       "    </tr>\n",
       "  </tbody>\n",
       "</table>\n",
       "</div>"
      ],
      "text/plain": [
       "       Shape   Total    Area Sum   Median    Mean\n",
       "0   Triangle    8451 33961384.47  2653.58 4018.62\n",
       "1  Rectangle    8431 17478227.44  1668.51 2073.09"
      ]
     },
     "execution_count": 14,
     "metadata": {},
     "output_type": "execute_result"
    }
   ],
   "source": [
    "pd.options.display.float_format = '{:.2f}'.format\n",
    "pd.read_csv(\"./ps8_q2_chitt_results.csv\")"
   ]
  }
 ],
 "metadata": {
  "jupytext": {
   "text_representation": {
    "extension": ".py",
    "format_name": "light",
    "format_version": "1.5",
    "jupytext_version": "1.12.0"
   }
  },
  "kernelspec": {
   "display_name": "Python 3 (ipykernel)",
   "language": "python",
   "name": "python3"
  },
  "language_info": {
   "codemirror_mode": {
    "name": "ipython",
    "version": 3
   },
   "file_extension": ".py",
   "mimetype": "text/x-python",
   "name": "python",
   "nbconvert_exporter": "python",
   "pygments_lexer": "ipython3",
   "version": "3.9.6"
  }
 },
 "nbformat": 4,
 "nbformat_minor": 5
}
