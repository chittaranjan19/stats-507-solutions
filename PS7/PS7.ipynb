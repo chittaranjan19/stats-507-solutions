{
 "cells": [
  {
   "cell_type": "markdown",
   "id": "b4038815",
   "metadata": {},
   "source": [
    "# PS7"
   ]
  },
  {
   "cell_type": "code",
   "execution_count": 159,
   "id": "8894d9a3",
   "metadata": {},
   "outputs": [
    {
     "data": {
      "text/plain": [
       "'\\nAuthor: Chittaranjan\\nEmail: chitt@umich.edu\\n'"
      ]
     },
     "execution_count": 159,
     "metadata": {},
     "output_type": "execute_result"
    }
   ],
   "source": [
    "\"\"\"\n",
    "Author: Chittaranjan\n",
    "Email: chitt@umich.edu\n",
    "\"\"\""
   ]
  },
  {
   "cell_type": "code",
   "execution_count": 3,
   "id": "adb6bda3",
   "metadata": {},
   "outputs": [],
   "source": [
    "import pandas as pd\n",
    "import matplotlib.pyplot as plt\n",
    "from sklearn.model_selection import train_test_split\n",
    "from sklearn.linear_model import ElasticNet\n",
    "from sklearn.ensemble import RandomForestRegressor\n",
    "from sklearn.ensemble import GradientBoostingRegressor\n",
    "from sklearn.model_selection import GridSearchCV\n",
    "from sklearn.metrics import mean_squared_error"
   ]
  },
  {
   "cell_type": "markdown",
   "id": "2e8b3241",
   "metadata": {},
   "source": [
    "## Question 0 - Data Prep"
   ]
  },
  {
   "cell_type": "code",
   "execution_count": 4,
   "id": "12b32f00",
   "metadata": {},
   "outputs": [],
   "source": [
    "superconduct_df = pd.read_csv(\"./superconduct/train.csv\")"
   ]
  },
  {
   "cell_type": "code",
   "execution_count": 35,
   "id": "4fd36898",
   "metadata": {},
   "outputs": [],
   "source": [
    "superconduct_df[\"material\"] = pd.read_csv(\"./superconduct/unique_m.csv\")[\"material\"]"
   ]
  },
  {
   "cell_type": "code",
   "execution_count": 25,
   "id": "58e157db",
   "metadata": {
    "scrolled": true
   },
   "outputs": [],
   "source": [
    "uniq_m = pd.read_csv(\"./superconduct/unique_m.csv\")[\"material\"]"
   ]
  },
  {
   "cell_type": "code",
   "execution_count": 19,
   "id": "cd661577",
   "metadata": {},
   "outputs": [],
   "source": [
    "from sklearn.model_selection import GroupShuffleSplit"
   ]
  },
  {
   "cell_type": "code",
   "execution_count": 37,
   "id": "efa2183d",
   "metadata": {},
   "outputs": [],
   "source": [
    "X, y = split_x_y(superconduct_df, \"critical_temp\")\n",
    "gss = GroupShuffleSplit(n_splits=1, train_size=.8, random_state=42)\n",
    "tr, te = next(gss.split(X, y, superconduct_df[\"material\"]))"
   ]
  },
  {
   "cell_type": "code",
   "execution_count": 41,
   "id": "f4a6e010",
   "metadata": {
    "scrolled": true
   },
   "outputs": [
    {
     "data": {
      "text/html": [
       "<div>\n",
       "<style scoped>\n",
       "    .dataframe tbody tr th:only-of-type {\n",
       "        vertical-align: middle;\n",
       "    }\n",
       "\n",
       "    .dataframe tbody tr th {\n",
       "        vertical-align: top;\n",
       "    }\n",
       "\n",
       "    .dataframe thead th {\n",
       "        text-align: right;\n",
       "    }\n",
       "</style>\n",
       "<table border=\"1\" class=\"dataframe\">\n",
       "  <thead>\n",
       "    <tr style=\"text-align: right;\">\n",
       "      <th></th>\n",
       "      <th>number_of_elements</th>\n",
       "      <th>mean_atomic_mass</th>\n",
       "      <th>wtd_mean_atomic_mass</th>\n",
       "      <th>gmean_atomic_mass</th>\n",
       "      <th>wtd_gmean_atomic_mass</th>\n",
       "      <th>entropy_atomic_mass</th>\n",
       "      <th>wtd_entropy_atomic_mass</th>\n",
       "      <th>range_atomic_mass</th>\n",
       "      <th>wtd_range_atomic_mass</th>\n",
       "      <th>std_atomic_mass</th>\n",
       "      <th>...</th>\n",
       "      <th>gmean_Valence</th>\n",
       "      <th>wtd_gmean_Valence</th>\n",
       "      <th>entropy_Valence</th>\n",
       "      <th>wtd_entropy_Valence</th>\n",
       "      <th>range_Valence</th>\n",
       "      <th>wtd_range_Valence</th>\n",
       "      <th>std_Valence</th>\n",
       "      <th>wtd_std_Valence</th>\n",
       "      <th>critical_temp</th>\n",
       "      <th>material</th>\n",
       "    </tr>\n",
       "  </thead>\n",
       "  <tbody>\n",
       "    <tr>\n",
       "      <th>0</th>\n",
       "      <td>4</td>\n",
       "      <td>88.944468</td>\n",
       "      <td>57.862692</td>\n",
       "      <td>66.361592</td>\n",
       "      <td>36.116612</td>\n",
       "      <td>1.181795</td>\n",
       "      <td>1.062396</td>\n",
       "      <td>122.90607</td>\n",
       "      <td>31.794921</td>\n",
       "      <td>51.968828</td>\n",
       "      <td>...</td>\n",
       "      <td>2.213364</td>\n",
       "      <td>2.219783</td>\n",
       "      <td>1.368922</td>\n",
       "      <td>1.066221</td>\n",
       "      <td>1</td>\n",
       "      <td>1.085714</td>\n",
       "      <td>0.433013</td>\n",
       "      <td>0.437059</td>\n",
       "      <td>29.00</td>\n",
       "      <td>Ba0.2La1.8Cu1O4</td>\n",
       "    </tr>\n",
       "    <tr>\n",
       "      <th>1</th>\n",
       "      <td>5</td>\n",
       "      <td>92.729214</td>\n",
       "      <td>58.518416</td>\n",
       "      <td>73.132787</td>\n",
       "      <td>36.396602</td>\n",
       "      <td>1.449309</td>\n",
       "      <td>1.057755</td>\n",
       "      <td>122.90607</td>\n",
       "      <td>36.161939</td>\n",
       "      <td>47.094633</td>\n",
       "      <td>...</td>\n",
       "      <td>1.888175</td>\n",
       "      <td>2.210679</td>\n",
       "      <td>1.557113</td>\n",
       "      <td>1.047221</td>\n",
       "      <td>2</td>\n",
       "      <td>1.128571</td>\n",
       "      <td>0.632456</td>\n",
       "      <td>0.468606</td>\n",
       "      <td>26.00</td>\n",
       "      <td>Ba0.1La1.9Ag0.1Cu0.9O4</td>\n",
       "    </tr>\n",
       "    <tr>\n",
       "      <th>2</th>\n",
       "      <td>4</td>\n",
       "      <td>88.944468</td>\n",
       "      <td>57.885242</td>\n",
       "      <td>66.361592</td>\n",
       "      <td>36.122509</td>\n",
       "      <td>1.181795</td>\n",
       "      <td>0.975980</td>\n",
       "      <td>122.90607</td>\n",
       "      <td>35.741099</td>\n",
       "      <td>51.968828</td>\n",
       "      <td>...</td>\n",
       "      <td>2.213364</td>\n",
       "      <td>2.232679</td>\n",
       "      <td>1.368922</td>\n",
       "      <td>1.029175</td>\n",
       "      <td>1</td>\n",
       "      <td>1.114286</td>\n",
       "      <td>0.433013</td>\n",
       "      <td>0.444697</td>\n",
       "      <td>19.00</td>\n",
       "      <td>Ba0.1La1.9Cu1O4</td>\n",
       "    </tr>\n",
       "    <tr>\n",
       "      <th>3</th>\n",
       "      <td>4</td>\n",
       "      <td>88.944468</td>\n",
       "      <td>57.873967</td>\n",
       "      <td>66.361592</td>\n",
       "      <td>36.119560</td>\n",
       "      <td>1.181795</td>\n",
       "      <td>1.022291</td>\n",
       "      <td>122.90607</td>\n",
       "      <td>33.768010</td>\n",
       "      <td>51.968828</td>\n",
       "      <td>...</td>\n",
       "      <td>2.213364</td>\n",
       "      <td>2.226222</td>\n",
       "      <td>1.368922</td>\n",
       "      <td>1.048834</td>\n",
       "      <td>1</td>\n",
       "      <td>1.100000</td>\n",
       "      <td>0.433013</td>\n",
       "      <td>0.440952</td>\n",
       "      <td>22.00</td>\n",
       "      <td>Ba0.15La1.85Cu1O4</td>\n",
       "    </tr>\n",
       "    <tr>\n",
       "      <th>4</th>\n",
       "      <td>4</td>\n",
       "      <td>88.944468</td>\n",
       "      <td>57.840143</td>\n",
       "      <td>66.361592</td>\n",
       "      <td>36.110716</td>\n",
       "      <td>1.181795</td>\n",
       "      <td>1.129224</td>\n",
       "      <td>122.90607</td>\n",
       "      <td>27.848743</td>\n",
       "      <td>51.968828</td>\n",
       "      <td>...</td>\n",
       "      <td>2.213364</td>\n",
       "      <td>2.206963</td>\n",
       "      <td>1.368922</td>\n",
       "      <td>1.096052</td>\n",
       "      <td>1</td>\n",
       "      <td>1.057143</td>\n",
       "      <td>0.433013</td>\n",
       "      <td>0.428809</td>\n",
       "      <td>23.00</td>\n",
       "      <td>Ba0.3La1.7Cu1O4</td>\n",
       "    </tr>\n",
       "    <tr>\n",
       "      <th>...</th>\n",
       "      <td>...</td>\n",
       "      <td>...</td>\n",
       "      <td>...</td>\n",
       "      <td>...</td>\n",
       "      <td>...</td>\n",
       "      <td>...</td>\n",
       "      <td>...</td>\n",
       "      <td>...</td>\n",
       "      <td>...</td>\n",
       "      <td>...</td>\n",
       "      <td>...</td>\n",
       "      <td>...</td>\n",
       "      <td>...</td>\n",
       "      <td>...</td>\n",
       "      <td>...</td>\n",
       "      <td>...</td>\n",
       "      <td>...</td>\n",
       "      <td>...</td>\n",
       "      <td>...</td>\n",
       "      <td>...</td>\n",
       "      <td>...</td>\n",
       "    </tr>\n",
       "    <tr>\n",
       "      <th>21258</th>\n",
       "      <td>4</td>\n",
       "      <td>106.957877</td>\n",
       "      <td>53.095769</td>\n",
       "      <td>82.515384</td>\n",
       "      <td>43.135565</td>\n",
       "      <td>1.177145</td>\n",
       "      <td>1.254119</td>\n",
       "      <td>146.88130</td>\n",
       "      <td>15.504479</td>\n",
       "      <td>65.764081</td>\n",
       "      <td>...</td>\n",
       "      <td>3.223710</td>\n",
       "      <td>3.519911</td>\n",
       "      <td>1.377820</td>\n",
       "      <td>0.913658</td>\n",
       "      <td>1</td>\n",
       "      <td>2.168889</td>\n",
       "      <td>0.433013</td>\n",
       "      <td>0.496904</td>\n",
       "      <td>2.44</td>\n",
       "      <td>Tm0.84Lu0.16Fe3Si5</td>\n",
       "    </tr>\n",
       "    <tr>\n",
       "      <th>21259</th>\n",
       "      <td>5</td>\n",
       "      <td>92.266740</td>\n",
       "      <td>49.021367</td>\n",
       "      <td>64.812662</td>\n",
       "      <td>32.867748</td>\n",
       "      <td>1.323287</td>\n",
       "      <td>1.571630</td>\n",
       "      <td>188.38390</td>\n",
       "      <td>7.353333</td>\n",
       "      <td>69.232655</td>\n",
       "      <td>...</td>\n",
       "      <td>2.168944</td>\n",
       "      <td>2.038991</td>\n",
       "      <td>1.594167</td>\n",
       "      <td>1.337246</td>\n",
       "      <td>1</td>\n",
       "      <td>0.904762</td>\n",
       "      <td>0.400000</td>\n",
       "      <td>0.212959</td>\n",
       "      <td>122.10</td>\n",
       "      <td>Tl1Ba2Ca3Cu4O11</td>\n",
       "    </tr>\n",
       "    <tr>\n",
       "      <th>21260</th>\n",
       "      <td>2</td>\n",
       "      <td>99.663190</td>\n",
       "      <td>95.609104</td>\n",
       "      <td>99.433882</td>\n",
       "      <td>95.464320</td>\n",
       "      <td>0.690847</td>\n",
       "      <td>0.530198</td>\n",
       "      <td>13.51362</td>\n",
       "      <td>53.041104</td>\n",
       "      <td>6.756810</td>\n",
       "      <td>...</td>\n",
       "      <td>4.472136</td>\n",
       "      <td>4.781762</td>\n",
       "      <td>0.686962</td>\n",
       "      <td>0.450561</td>\n",
       "      <td>1</td>\n",
       "      <td>3.200000</td>\n",
       "      <td>0.500000</td>\n",
       "      <td>0.400000</td>\n",
       "      <td>1.98</td>\n",
       "      <td>Nb0.8Pd0.2</td>\n",
       "    </tr>\n",
       "    <tr>\n",
       "      <th>21261</th>\n",
       "      <td>2</td>\n",
       "      <td>99.663190</td>\n",
       "      <td>97.095602</td>\n",
       "      <td>99.433882</td>\n",
       "      <td>96.901083</td>\n",
       "      <td>0.690847</td>\n",
       "      <td>0.640883</td>\n",
       "      <td>13.51362</td>\n",
       "      <td>31.115202</td>\n",
       "      <td>6.756810</td>\n",
       "      <td>...</td>\n",
       "      <td>4.472136</td>\n",
       "      <td>4.665819</td>\n",
       "      <td>0.686962</td>\n",
       "      <td>0.577601</td>\n",
       "      <td>1</td>\n",
       "      <td>2.210000</td>\n",
       "      <td>0.500000</td>\n",
       "      <td>0.462493</td>\n",
       "      <td>1.84</td>\n",
       "      <td>Nb0.69Pd0.31</td>\n",
       "    </tr>\n",
       "    <tr>\n",
       "      <th>21262</th>\n",
       "      <td>3</td>\n",
       "      <td>87.468333</td>\n",
       "      <td>86.858500</td>\n",
       "      <td>82.555758</td>\n",
       "      <td>80.458722</td>\n",
       "      <td>1.041270</td>\n",
       "      <td>0.895229</td>\n",
       "      <td>71.75500</td>\n",
       "      <td>43.144000</td>\n",
       "      <td>29.905282</td>\n",
       "      <td>...</td>\n",
       "      <td>4.762203</td>\n",
       "      <td>4.242641</td>\n",
       "      <td>1.054920</td>\n",
       "      <td>0.970116</td>\n",
       "      <td>3</td>\n",
       "      <td>1.800000</td>\n",
       "      <td>1.414214</td>\n",
       "      <td>1.500000</td>\n",
       "      <td>12.80</td>\n",
       "      <td>Fe1Se0.2Te0.8</td>\n",
       "    </tr>\n",
       "  </tbody>\n",
       "</table>\n",
       "<p>21263 rows × 83 columns</p>\n",
       "</div>"
      ],
      "text/plain": [
       "       number_of_elements  mean_atomic_mass  wtd_mean_atomic_mass  \\\n",
       "0                       4         88.944468             57.862692   \n",
       "1                       5         92.729214             58.518416   \n",
       "2                       4         88.944468             57.885242   \n",
       "3                       4         88.944468             57.873967   \n",
       "4                       4         88.944468             57.840143   \n",
       "...                   ...               ...                   ...   \n",
       "21258                   4        106.957877             53.095769   \n",
       "21259                   5         92.266740             49.021367   \n",
       "21260                   2         99.663190             95.609104   \n",
       "21261                   2         99.663190             97.095602   \n",
       "21262                   3         87.468333             86.858500   \n",
       "\n",
       "       gmean_atomic_mass  wtd_gmean_atomic_mass  entropy_atomic_mass  \\\n",
       "0              66.361592              36.116612             1.181795   \n",
       "1              73.132787              36.396602             1.449309   \n",
       "2              66.361592              36.122509             1.181795   \n",
       "3              66.361592              36.119560             1.181795   \n",
       "4              66.361592              36.110716             1.181795   \n",
       "...                  ...                    ...                  ...   \n",
       "21258          82.515384              43.135565             1.177145   \n",
       "21259          64.812662              32.867748             1.323287   \n",
       "21260          99.433882              95.464320             0.690847   \n",
       "21261          99.433882              96.901083             0.690847   \n",
       "21262          82.555758              80.458722             1.041270   \n",
       "\n",
       "       wtd_entropy_atomic_mass  range_atomic_mass  wtd_range_atomic_mass  \\\n",
       "0                     1.062396          122.90607              31.794921   \n",
       "1                     1.057755          122.90607              36.161939   \n",
       "2                     0.975980          122.90607              35.741099   \n",
       "3                     1.022291          122.90607              33.768010   \n",
       "4                     1.129224          122.90607              27.848743   \n",
       "...                        ...                ...                    ...   \n",
       "21258                 1.254119          146.88130              15.504479   \n",
       "21259                 1.571630          188.38390               7.353333   \n",
       "21260                 0.530198           13.51362              53.041104   \n",
       "21261                 0.640883           13.51362              31.115202   \n",
       "21262                 0.895229           71.75500              43.144000   \n",
       "\n",
       "       std_atomic_mass  ...  gmean_Valence  wtd_gmean_Valence  \\\n",
       "0            51.968828  ...       2.213364           2.219783   \n",
       "1            47.094633  ...       1.888175           2.210679   \n",
       "2            51.968828  ...       2.213364           2.232679   \n",
       "3            51.968828  ...       2.213364           2.226222   \n",
       "4            51.968828  ...       2.213364           2.206963   \n",
       "...                ...  ...            ...                ...   \n",
       "21258        65.764081  ...       3.223710           3.519911   \n",
       "21259        69.232655  ...       2.168944           2.038991   \n",
       "21260         6.756810  ...       4.472136           4.781762   \n",
       "21261         6.756810  ...       4.472136           4.665819   \n",
       "21262        29.905282  ...       4.762203           4.242641   \n",
       "\n",
       "       entropy_Valence  wtd_entropy_Valence  range_Valence  wtd_range_Valence  \\\n",
       "0             1.368922             1.066221              1           1.085714   \n",
       "1             1.557113             1.047221              2           1.128571   \n",
       "2             1.368922             1.029175              1           1.114286   \n",
       "3             1.368922             1.048834              1           1.100000   \n",
       "4             1.368922             1.096052              1           1.057143   \n",
       "...                ...                  ...            ...                ...   \n",
       "21258         1.377820             0.913658              1           2.168889   \n",
       "21259         1.594167             1.337246              1           0.904762   \n",
       "21260         0.686962             0.450561              1           3.200000   \n",
       "21261         0.686962             0.577601              1           2.210000   \n",
       "21262         1.054920             0.970116              3           1.800000   \n",
       "\n",
       "       std_Valence  wtd_std_Valence  critical_temp                material  \n",
       "0         0.433013         0.437059          29.00         Ba0.2La1.8Cu1O4  \n",
       "1         0.632456         0.468606          26.00  Ba0.1La1.9Ag0.1Cu0.9O4  \n",
       "2         0.433013         0.444697          19.00         Ba0.1La1.9Cu1O4  \n",
       "3         0.433013         0.440952          22.00       Ba0.15La1.85Cu1O4  \n",
       "4         0.433013         0.428809          23.00         Ba0.3La1.7Cu1O4  \n",
       "...            ...              ...            ...                     ...  \n",
       "21258     0.433013         0.496904           2.44      Tm0.84Lu0.16Fe3Si5  \n",
       "21259     0.400000         0.212959         122.10         Tl1Ba2Ca3Cu4O11  \n",
       "21260     0.500000         0.400000           1.98              Nb0.8Pd0.2  \n",
       "21261     0.500000         0.462493           1.84            Nb0.69Pd0.31  \n",
       "21262     1.414214         1.500000          12.80           Fe1Se0.2Te0.8  \n",
       "\n",
       "[21263 rows x 83 columns]"
      ]
     },
     "execution_count": 41,
     "metadata": {},
     "output_type": "execute_result"
    }
   ],
   "source": [
    "superconduct_df"
   ]
  },
  {
   "cell_type": "code",
   "execution_count": 42,
   "id": "4795691b",
   "metadata": {},
   "outputs": [
    {
     "data": {
      "text/plain": [
       "0               Ba0.2La1.8Cu1O4\n",
       "1        Ba0.1La1.9Ag0.1Cu0.9O4\n",
       "2               Ba0.1La1.9Cu1O4\n",
       "3             Ba0.15La1.85Cu1O4\n",
       "4               Ba0.3La1.7Cu1O4\n",
       "                  ...          \n",
       "21258        Tm0.84Lu0.16Fe3Si5\n",
       "21259           Tl1Ba2Ca3Cu4O11\n",
       "21260                Nb0.8Pd0.2\n",
       "21261              Nb0.69Pd0.31\n",
       "21262             Fe1Se0.2Te0.8\n",
       "Name: material, Length: 21263, dtype: object"
      ]
     },
     "execution_count": 42,
     "metadata": {},
     "output_type": "execute_result"
    }
   ],
   "source": [
    "uniq_m"
   ]
  },
  {
   "cell_type": "code",
   "execution_count": 34,
   "id": "1b8520aa",
   "metadata": {},
   "outputs": [
    {
     "data": {
      "text/plain": [
       "0         29.00\n",
       "1         26.00\n",
       "3         22.00\n",
       "4         23.00\n",
       "5         23.00\n",
       "          ...  \n",
       "21254      3.00\n",
       "21259    122.10\n",
       "21260      1.98\n",
       "21261      1.84\n",
       "21262     12.80\n",
       "Name: critical_temp, Length: 16989, dtype: float64"
      ]
     },
     "execution_count": 34,
     "metadata": {},
     "output_type": "execute_result"
    }
   ],
   "source": [
    "y.iloc[tr]"
   ]
  },
  {
   "cell_type": "code",
   "execution_count": 162,
   "id": "4d6a7e02",
   "metadata": {},
   "outputs": [],
   "source": [
    "TRAIN_SIZE = 0.8\n",
    "TEST_SIZE = 0.1\n",
    "VALIDATION_SIZE = 0.1"
   ]
  },
  {
   "cell_type": "code",
   "execution_count": 163,
   "id": "c7392976",
   "metadata": {},
   "outputs": [],
   "source": [
    "def train_test_validation_split(data,\n",
    "                                train_size,\n",
    "                                test_size,\n",
    "                                validation_size\n",
    "                                ):\n",
    "    \"\"\"\n",
    "    Split a dataset into training, testing, and validation sets\n",
    "\n",
    "    Parameters\n",
    "    ----------\n",
    "    data : DataFrame\n",
    "        The complete data which needs to be split.\n",
    "    train_size : float\n",
    "        Proportion of training data.\n",
    "    test_size : float\n",
    "        Proportion of testing data.\n",
    "    validation_size : float\n",
    "        Proportion of validation data.\n",
    "\n",
    "    Returns\n",
    "    -------\n",
    "    tuple\n",
    "        Three dataframes for train, test, validation as per proportions.\n",
    "\n",
    "    \"\"\"\n",
    "    train, test_and_valid = train_test_split(\n",
    "        superconduct_df,\n",
    "        train_size=train_size,\n",
    "        test_size=test_size + validation_size\n",
    "    )\n",
    "    validation, test = train_test_split(\n",
    "        test_and_valid,\n",
    "        train_size=validation_size / (test_size + validation_size),\n",
    "        test_size=test_size / (test_size + validation_size)\n",
    "    )\n",
    "    return (\n",
    "        train.reset_index(drop=True),\n",
    "        test.reset_index(drop=True),\n",
    "        validation.reset_index(drop=True)\n",
    "    )"
   ]
  },
  {
   "cell_type": "code",
   "execution_count": 164,
   "id": "5298d312",
   "metadata": {},
   "outputs": [],
   "source": [
    "train, test, validation = train_test_validation_split(\n",
    "    superconduct_df,\n",
    "    TRAIN_SIZE,\n",
    "    TEST_SIZE,\n",
    "    VALIDATION_SIZE\n",
    ")"
   ]
  },
  {
   "cell_type": "code",
   "execution_count": 165,
   "id": "f971b650",
   "metadata": {},
   "outputs": [],
   "source": [
    "assert superconduct_df.shape[0] == (\n",
    "    train.shape[0] +\n",
    "    test.shape[0] +\n",
    "    validation.shape[0]\n",
    ")"
   ]
  },
  {
   "cell_type": "code",
   "execution_count": 21,
   "id": "7caddcc0",
   "metadata": {},
   "outputs": [],
   "source": [
    "def split_x_y(data, y_col):\n",
    "    \"\"\"\n",
    "    Splits a dataset in X and y as per regular definition of predictors \n",
    "    and response \n",
    "\n",
    "    Parameters\n",
    "    ----------\n",
    "    data : DataFrame\n",
    "        The dataset which needs to be split into X and y.\n",
    "    y_col : str\n",
    "        Name of response column in `data`.\n",
    "\n",
    "    Returns\n",
    "    -------\n",
    "    list\n",
    "        X and y dataframes, split based on `y_col`.\n",
    "\n",
    "    \"\"\"\n",
    "    return [data[y_col], data.drop(y_col, axis=1)][::-1]"
   ]
  },
  {
   "cell_type": "code",
   "execution_count": 167,
   "id": "7d650603",
   "metadata": {},
   "outputs": [],
   "source": [
    "train_X, train_y = split_x_y(train, \"critical_temp\")\n",
    "test_X, test_y = split_x_y(test, \"critical_temp\")\n",
    "validation_X, validation_y = split_x_y(validation, \"critical_temp\")"
   ]
  },
  {
   "cell_type": "markdown",
   "id": "d5d0ced5",
   "metadata": {},
   "source": [
    "## Question 1 - Training and Tuning Models"
   ]
  },
  {
   "cell_type": "markdown",
   "id": "98044495",
   "metadata": {
    "lines_to_next_cell": 2
   },
   "source": [
    "#### Utility Functions"
   ]
  },
  {
   "cell_type": "code",
   "execution_count": 168,
   "id": "47355247",
   "metadata": {},
   "outputs": [],
   "source": [
    "def clean_text(p): return \" \".join(\n",
    "    p.split(\"param_\")[1].split(\"_\")).capitalize()"
   ]
  },
  {
   "cell_type": "code",
   "execution_count": 169,
   "id": "f3980360",
   "metadata": {},
   "outputs": [],
   "source": [
    "def make_mse_summary(metrics, param1, param2):\n",
    "    \"\"\"\n",
    "    Utility function to build summary table of MSE values across all values\n",
    "    of two hyperparameters\n",
    "\n",
    "    Parameters\n",
    "    ----------\n",
    "    metrics : DataFrame\n",
    "        MSE values across all hyperparameters in long format.\n",
    "    param1, param2 : str\n",
    "        Names of hyperparameters, should be prefixed with \"param_\".\n",
    "\n",
    "    Returns\n",
    "    -------\n",
    "    DataFrame\n",
    "        Grid with param1 values as row index and param2 values as column index.\n",
    "        Each cell contains the MSE value corresponding to hyperparameter values\n",
    "\n",
    "    \"\"\"\n",
    "    mse_summary = metrics[\n",
    "        [param1, param2, \"mean_test_score\"]\n",
    "    ].pivot(index=param1, columns=[param2])\n",
    "    mse_summary.columns = list(map(lambda x: x[1], mse_summary.columns))\n",
    "    mse_summary.index.name = clean_text(param1)\n",
    "    mse_summary.columns.name = clean_text(param2)\n",
    "    return abs(mse_summary.round(2))"
   ]
  },
  {
   "cell_type": "code",
   "execution_count": 170,
   "id": "f1b15061",
   "metadata": {
    "lines_to_next_cell": 2
   },
   "outputs": [],
   "source": [
    "def make_scatter(metrics, param1, param2, xlog=False):\n",
    "    \"\"\"\n",
    "    Utility function to plot variation of MSE values across all values of \n",
    "    two hyperparameters\n",
    "\n",
    "    Parameters\n",
    "    ----------\n",
    "    metrics : DataFrame\n",
    "        MSE values across all hyperparameters in long format.\n",
    "    param1, param2 : str\n",
    "        Names of hyperparameters, should be prefixed with \"param_\".\n",
    "    xlog : boolean, optional\n",
    "        Sets x-axis scale as 'log' (linear by default). The default is False.\n",
    "\n",
    "    Returns\n",
    "    -------\n",
    "    None.\n",
    "\n",
    "    \"\"\"\n",
    "    plt.scatter(\n",
    "        metrics[param1],\n",
    "        metrics[param2],\n",
    "        c=abs(metrics.mean_test_score)\n",
    "    )\n",
    "    if xlog:\n",
    "        plt.xscale('log')\n",
    "    cbar = plt.colorbar()\n",
    "    cbar.ax.get_yaxis().labelpad = 15\n",
    "    cbar.ax.set_ylabel(\"MSE Color Mapping\", rotation=270)\n",
    "    plt.xlabel(clean_text(param1))\n",
    "    plt.ylabel(clean_text(param2))\n",
    "    plt.title(\"MSE values for Grid Search\")"
   ]
  },
  {
   "cell_type": "markdown",
   "id": "89ac54a8",
   "metadata": {
    "lines_to_next_cell": 2
   },
   "source": [
    "#### Grid Search with 10-Fold Cross Validation"
   ]
  },
  {
   "cell_type": "code",
   "execution_count": 171,
   "id": "0bac7471",
   "metadata": {},
   "outputs": [],
   "source": [
    "en = ElasticNet(max_iter=100000)\n",
    "rf = RandomForestRegressor()\n",
    "gb = GradientBoostingRegressor()"
   ]
  },
  {
   "cell_type": "code",
   "execution_count": 172,
   "id": "e746c684",
   "metadata": {},
   "outputs": [],
   "source": [
    "en_parameters = {\n",
    "    \"alpha\": (1e-04, 1e-03, 1e-02, 1e-01),\n",
    "    \"l1_ratio\": [.1, .5, .7, .9, .95, .99, 1]\n",
    "}\n",
    "en_grid_search = GridSearchCV(en,\n",
    "                              en_parameters,\n",
    "                              cv=10,\n",
    "                              scoring=\"neg_mean_squared_error\",\n",
    "                              n_jobs=-1,\n",
    "                              verbose=0\n",
    "                              )"
   ]
  },
  {
   "cell_type": "code",
   "execution_count": 173,
   "id": "29002553",
   "metadata": {},
   "outputs": [],
   "source": [
    "rf_parameters = {\n",
    "    \"n_estimators\": (100, 200, 300, 400, 500),\n",
    "    \"max_depth\": [6, 8, 10, 12, 14, 16]\n",
    "}\n",
    "rf_grid_search = GridSearchCV(rf,\n",
    "                              rf_parameters,\n",
    "                              cv=10,\n",
    "                              scoring=\"neg_mean_squared_error\",\n",
    "                              n_jobs=-1,\n",
    "                              verbose=0\n",
    "                              )"
   ]
  },
  {
   "cell_type": "code",
   "execution_count": 174,
   "id": "05e93e0f",
   "metadata": {},
   "outputs": [],
   "source": [
    "gb_parameters = {\n",
    "    \"n_estimators\": (100, 200, 300, 400, 500),\n",
    "    \"learning_rate\": [0.2, 0.35, 0.37, 0.4, 0.42, 0.45, 0.6]\n",
    "}\n",
    "gb_grid_search = GridSearchCV(gb,\n",
    "                              gb_parameters,\n",
    "                              cv=10,\n",
    "                              scoring=\"neg_mean_squared_error\",\n",
    "                              n_jobs=-1,\n",
    "                              verbose=0\n",
    "                              )"
   ]
  },
  {
   "cell_type": "markdown",
   "id": "280ac85c",
   "metadata": {},
   "source": [
    "### Elastic Net"
   ]
  },
  {
   "cell_type": "code",
   "execution_count": 175,
   "id": "19ad7e1e",
   "metadata": {
    "scrolled": true
   },
   "outputs": [
    {
     "name": "stderr",
     "output_type": "stream",
     "text": [
      "/opt/anaconda3/envs/507b/lib/python3.9/site-packages/sklearn/linear_model/_coordinate_descent.py:647: ConvergenceWarning: Objective did not converge. You might want to increase the number of iterations, check the scale of the features or consider increasing regularisation. Duality gap: 8.203e+04, tolerance: 1.802e+03\n",
      "  model = cd_fast.enet_coordinate_descent(\n",
      "/opt/anaconda3/envs/507b/lib/python3.9/site-packages/sklearn/linear_model/_coordinate_descent.py:647: ConvergenceWarning: Objective did not converge. You might want to increase the number of iterations, check the scale of the features or consider increasing regularisation. Duality gap: 1.047e+05, tolerance: 1.802e+03\n",
      "  model = cd_fast.enet_coordinate_descent(\n",
      "/opt/anaconda3/envs/507b/lib/python3.9/site-packages/sklearn/linear_model/_coordinate_descent.py:647: ConvergenceWarning: Objective did not converge. You might want to increase the number of iterations, check the scale of the features or consider increasing regularisation. Duality gap: 7.893e+04, tolerance: 1.798e+03\n",
      "  model = cd_fast.enet_coordinate_descent(\n",
      "/opt/anaconda3/envs/507b/lib/python3.9/site-packages/sklearn/linear_model/_coordinate_descent.py:647: ConvergenceWarning: Objective did not converge. You might want to increase the number of iterations, check the scale of the features or consider increasing regularisation. Duality gap: 8.387e+04, tolerance: 1.801e+03\n",
      "  model = cd_fast.enet_coordinate_descent(\n",
      "/opt/anaconda3/envs/507b/lib/python3.9/site-packages/sklearn/linear_model/_coordinate_descent.py:647: ConvergenceWarning: Objective did not converge. You might want to increase the number of iterations, check the scale of the features or consider increasing regularisation. Duality gap: 8.358e+04, tolerance: 1.796e+03\n",
      "  model = cd_fast.enet_coordinate_descent(\n",
      "/opt/anaconda3/envs/507b/lib/python3.9/site-packages/sklearn/linear_model/_coordinate_descent.py:647: ConvergenceWarning: Objective did not converge. You might want to increase the number of iterations, check the scale of the features or consider increasing regularisation. Duality gap: 8.106e+04, tolerance: 1.802e+03\n",
      "  model = cd_fast.enet_coordinate_descent(\n",
      "/opt/anaconda3/envs/507b/lib/python3.9/site-packages/sklearn/linear_model/_coordinate_descent.py:647: ConvergenceWarning: Objective did not converge. You might want to increase the number of iterations, check the scale of the features or consider increasing regularisation. Duality gap: 8.585e+04, tolerance: 1.794e+03\n",
      "  model = cd_fast.enet_coordinate_descent(\n",
      "/opt/anaconda3/envs/507b/lib/python3.9/site-packages/sklearn/linear_model/_coordinate_descent.py:647: ConvergenceWarning: Objective did not converge. You might want to increase the number of iterations, check the scale of the features or consider increasing regularisation. Duality gap: 8.291e+04, tolerance: 1.796e+03\n",
      "  model = cd_fast.enet_coordinate_descent(\n",
      "/opt/anaconda3/envs/507b/lib/python3.9/site-packages/sklearn/linear_model/_coordinate_descent.py:647: ConvergenceWarning: Objective did not converge. You might want to increase the number of iterations, check the scale of the features or consider increasing regularisation. Duality gap: 1.183e+04, tolerance: 1.802e+03\n",
      "  model = cd_fast.enet_coordinate_descent(\n",
      "/opt/anaconda3/envs/507b/lib/python3.9/site-packages/sklearn/linear_model/_coordinate_descent.py:647: ConvergenceWarning: Objective did not converge. You might want to increase the number of iterations, check the scale of the features or consider increasing regularisation. Duality gap: 5.085e+04, tolerance: 1.809e+03\n",
      "  model = cd_fast.enet_coordinate_descent(\n",
      "/opt/anaconda3/envs/507b/lib/python3.9/site-packages/sklearn/linear_model/_coordinate_descent.py:647: ConvergenceWarning: Objective did not converge. You might want to increase the number of iterations, check the scale of the features or consider increasing regularisation. Duality gap: 1.096e+05, tolerance: 1.797e+03\n",
      "  model = cd_fast.enet_coordinate_descent(\n",
      "/opt/anaconda3/envs/507b/lib/python3.9/site-packages/sklearn/linear_model/_coordinate_descent.py:647: ConvergenceWarning: Objective did not converge. You might want to increase the number of iterations, check the scale of the features or consider increasing regularisation. Duality gap: 1.174e+04, tolerance: 1.798e+03\n",
      "  model = cd_fast.enet_coordinate_descent(\n",
      "/opt/anaconda3/envs/507b/lib/python3.9/site-packages/sklearn/linear_model/_coordinate_descent.py:647: ConvergenceWarning: Objective did not converge. You might want to increase the number of iterations, check the scale of the features or consider increasing regularisation. Duality gap: 1.241e+04, tolerance: 1.796e+03\n",
      "  model = cd_fast.enet_coordinate_descent(\n",
      "/opt/anaconda3/envs/507b/lib/python3.9/site-packages/sklearn/linear_model/_coordinate_descent.py:647: ConvergenceWarning: Objective did not converge. You might want to increase the number of iterations, check the scale of the features or consider increasing regularisation. Duality gap: 1.255e+04, tolerance: 1.796e+03\n",
      "  model = cd_fast.enet_coordinate_descent(\n",
      "/opt/anaconda3/envs/507b/lib/python3.9/site-packages/sklearn/linear_model/_coordinate_descent.py:647: ConvergenceWarning: Objective did not converge. You might want to increase the number of iterations, check the scale of the features or consider increasing regularisation. Duality gap: 1.138e+04, tolerance: 1.801e+03\n",
      "  model = cd_fast.enet_coordinate_descent(\n",
      "/opt/anaconda3/envs/507b/lib/python3.9/site-packages/sklearn/linear_model/_coordinate_descent.py:647: ConvergenceWarning: Objective did not converge. You might want to increase the number of iterations, check the scale of the features or consider increasing regularisation. Duality gap: 1.293e+04, tolerance: 1.802e+03\n",
      "  model = cd_fast.enet_coordinate_descent(\n",
      "/opt/anaconda3/envs/507b/lib/python3.9/site-packages/sklearn/linear_model/_coordinate_descent.py:647: ConvergenceWarning: Objective did not converge. You might want to increase the number of iterations, check the scale of the features or consider increasing regularisation. Duality gap: 1.464e+04, tolerance: 1.802e+03\n",
      "  model = cd_fast.enet_coordinate_descent(\n",
      "/opt/anaconda3/envs/507b/lib/python3.9/site-packages/sklearn/linear_model/_coordinate_descent.py:647: ConvergenceWarning: Objective did not converge. You might want to increase the number of iterations, check the scale of the features or consider increasing regularisation. Duality gap: 9.047e+03, tolerance: 1.809e+03\n",
      "  model = cd_fast.enet_coordinate_descent(\n",
      "/opt/anaconda3/envs/507b/lib/python3.9/site-packages/sklearn/linear_model/_coordinate_descent.py:647: ConvergenceWarning: Objective did not converge. You might want to increase the number of iterations, check the scale of the features or consider increasing regularisation. Duality gap: 1.779e+04, tolerance: 1.798e+03\n",
      "  model = cd_fast.enet_coordinate_descent(\n",
      "/opt/anaconda3/envs/507b/lib/python3.9/site-packages/sklearn/linear_model/_coordinate_descent.py:647: ConvergenceWarning: Objective did not converge. You might want to increase the number of iterations, check the scale of the features or consider increasing regularisation. Duality gap: 1.854e+04, tolerance: 1.802e+03\n",
      "  model = cd_fast.enet_coordinate_descent(\n",
      "/opt/anaconda3/envs/507b/lib/python3.9/site-packages/sklearn/linear_model/_coordinate_descent.py:647: ConvergenceWarning: Objective did not converge. You might want to increase the number of iterations, check the scale of the features or consider increasing regularisation. Duality gap: 1.987e+04, tolerance: 1.796e+03\n",
      "  model = cd_fast.enet_coordinate_descent(\n",
      "/opt/anaconda3/envs/507b/lib/python3.9/site-packages/sklearn/linear_model/_coordinate_descent.py:647: ConvergenceWarning: Objective did not converge. You might want to increase the number of iterations, check the scale of the features or consider increasing regularisation. Duality gap: 1.522e+04, tolerance: 1.797e+03\n",
      "  model = cd_fast.enet_coordinate_descent(\n",
      "/opt/anaconda3/envs/507b/lib/python3.9/site-packages/sklearn/linear_model/_coordinate_descent.py:647: ConvergenceWarning: Objective did not converge. You might want to increase the number of iterations, check the scale of the features or consider increasing regularisation. Duality gap: 1.356e+04, tolerance: 1.794e+03\n",
      "  model = cd_fast.enet_coordinate_descent(\n"
     ]
    },
    {
     "name": "stderr",
     "output_type": "stream",
     "text": [
      "/opt/anaconda3/envs/507b/lib/python3.9/site-packages/sklearn/linear_model/_coordinate_descent.py:647: ConvergenceWarning: Objective did not converge. You might want to increase the number of iterations, check the scale of the features or consider increasing regularisation. Duality gap: 1.805e+04, tolerance: 1.801e+03\n",
      "  model = cd_fast.enet_coordinate_descent(\n",
      "/opt/anaconda3/envs/507b/lib/python3.9/site-packages/sklearn/linear_model/_coordinate_descent.py:647: ConvergenceWarning: Objective did not converge. You might want to increase the number of iterations, check the scale of the features or consider increasing regularisation. Duality gap: 1.968e+04, tolerance: 1.802e+03\n",
      "  model = cd_fast.enet_coordinate_descent(\n",
      "/opt/anaconda3/envs/507b/lib/python3.9/site-packages/sklearn/linear_model/_coordinate_descent.py:647: ConvergenceWarning: Objective did not converge. You might want to increase the number of iterations, check the scale of the features or consider increasing regularisation. Duality gap: 2.187e+04, tolerance: 1.802e+03\n",
      "  model = cd_fast.enet_coordinate_descent(\n",
      "/opt/anaconda3/envs/507b/lib/python3.9/site-packages/sklearn/linear_model/_coordinate_descent.py:647: ConvergenceWarning: Objective did not converge. You might want to increase the number of iterations, check the scale of the features or consider increasing regularisation. Duality gap: 1.895e+04, tolerance: 1.796e+03\n",
      "  model = cd_fast.enet_coordinate_descent(\n",
      "/opt/anaconda3/envs/507b/lib/python3.9/site-packages/sklearn/linear_model/_coordinate_descent.py:647: ConvergenceWarning: Objective did not converge. You might want to increase the number of iterations, check the scale of the features or consider increasing regularisation. Duality gap: 2.003e+04, tolerance: 1.794e+03\n",
      "  model = cd_fast.enet_coordinate_descent(\n",
      "/opt/anaconda3/envs/507b/lib/python3.9/site-packages/sklearn/linear_model/_coordinate_descent.py:647: ConvergenceWarning: Objective did not converge. You might want to increase the number of iterations, check the scale of the features or consider increasing regularisation. Duality gap: 1.373e+04, tolerance: 1.809e+03\n",
      "  model = cd_fast.enet_coordinate_descent(\n",
      "/opt/anaconda3/envs/507b/lib/python3.9/site-packages/sklearn/linear_model/_coordinate_descent.py:647: ConvergenceWarning: Objective did not converge. You might want to increase the number of iterations, check the scale of the features or consider increasing regularisation. Duality gap: 8.613e+04, tolerance: 1.802e+03\n",
      "  model = cd_fast.enet_coordinate_descent(\n",
      "/opt/anaconda3/envs/507b/lib/python3.9/site-packages/sklearn/linear_model/_coordinate_descent.py:647: ConvergenceWarning: Objective did not converge. You might want to increase the number of iterations, check the scale of the features or consider increasing regularisation. Duality gap: 2.299e+04, tolerance: 1.797e+03\n",
      "  model = cd_fast.enet_coordinate_descent(\n",
      "/opt/anaconda3/envs/507b/lib/python3.9/site-packages/sklearn/linear_model/_coordinate_descent.py:647: ConvergenceWarning: Objective did not converge. You might want to increase the number of iterations, check the scale of the features or consider increasing regularisation. Duality gap: 7.890e+04, tolerance: 1.798e+03\n",
      "  model = cd_fast.enet_coordinate_descent(\n",
      "/opt/anaconda3/envs/507b/lib/python3.9/site-packages/sklearn/linear_model/_coordinate_descent.py:647: ConvergenceWarning: Objective did not converge. You might want to increase the number of iterations, check the scale of the features or consider increasing regularisation. Duality gap: 9.334e+04, tolerance: 1.796e+03\n",
      "  model = cd_fast.enet_coordinate_descent(\n",
      "/opt/anaconda3/envs/507b/lib/python3.9/site-packages/sklearn/linear_model/_coordinate_descent.py:647: ConvergenceWarning: Objective did not converge. You might want to increase the number of iterations, check the scale of the features or consider increasing regularisation. Duality gap: 8.441e+04, tolerance: 1.796e+03\n",
      "  model = cd_fast.enet_coordinate_descent(\n",
      "/opt/anaconda3/envs/507b/lib/python3.9/site-packages/sklearn/linear_model/_coordinate_descent.py:647: ConvergenceWarning: Objective did not converge. You might want to increase the number of iterations, check the scale of the features or consider increasing regularisation. Duality gap: 8.708e+04, tolerance: 1.801e+03\n",
      "  model = cd_fast.enet_coordinate_descent(\n",
      "/opt/anaconda3/envs/507b/lib/python3.9/site-packages/sklearn/linear_model/_coordinate_descent.py:647: ConvergenceWarning: Objective did not converge. You might want to increase the number of iterations, check the scale of the features or consider increasing regularisation. Duality gap: 8.548e+04, tolerance: 1.802e+03\n",
      "  model = cd_fast.enet_coordinate_descent(\n",
      "/opt/anaconda3/envs/507b/lib/python3.9/site-packages/sklearn/linear_model/_coordinate_descent.py:647: ConvergenceWarning: Objective did not converge. You might want to increase the number of iterations, check the scale of the features or consider increasing regularisation. Duality gap: 8.255e+04, tolerance: 1.794e+03\n",
      "  model = cd_fast.enet_coordinate_descent(\n",
      "/opt/anaconda3/envs/507b/lib/python3.9/site-packages/sklearn/linear_model/_coordinate_descent.py:647: ConvergenceWarning: Objective did not converge. You might want to increase the number of iterations, check the scale of the features or consider increasing regularisation. Duality gap: 9.735e+04, tolerance: 1.797e+03\n",
      "  model = cd_fast.enet_coordinate_descent(\n",
      "/opt/anaconda3/envs/507b/lib/python3.9/site-packages/sklearn/linear_model/_coordinate_descent.py:647: ConvergenceWarning: Objective did not converge. You might want to increase the number of iterations, check the scale of the features or consider increasing regularisation. Duality gap: 9.367e+04, tolerance: 1.802e+03\n",
      "  model = cd_fast.enet_coordinate_descent(\n",
      "/opt/anaconda3/envs/507b/lib/python3.9/site-packages/sklearn/linear_model/_coordinate_descent.py:647: ConvergenceWarning: Objective did not converge. You might want to increase the number of iterations, check the scale of the features or consider increasing regularisation. Duality gap: 7.208e+04, tolerance: 1.809e+03\n",
      "  model = cd_fast.enet_coordinate_descent(\n",
      "/opt/anaconda3/envs/507b/lib/python3.9/site-packages/sklearn/linear_model/_coordinate_descent.py:647: ConvergenceWarning: Objective did not converge. You might want to increase the number of iterations, check the scale of the features or consider increasing regularisation. Duality gap: 1.717e+05, tolerance: 1.802e+03\n",
      "  model = cd_fast.enet_coordinate_descent(\n",
      "/opt/anaconda3/envs/507b/lib/python3.9/site-packages/sklearn/linear_model/_coordinate_descent.py:647: ConvergenceWarning: Objective did not converge. You might want to increase the number of iterations, check the scale of the features or consider increasing regularisation. Duality gap: 1.560e+05, tolerance: 1.798e+03\n",
      "  model = cd_fast.enet_coordinate_descent(\n",
      "/opt/anaconda3/envs/507b/lib/python3.9/site-packages/sklearn/linear_model/_coordinate_descent.py:647: ConvergenceWarning: Objective did not converge. You might want to increase the number of iterations, check the scale of the features or consider increasing regularisation. Duality gap: 1.861e+05, tolerance: 1.796e+03\n",
      "  model = cd_fast.enet_coordinate_descent(\n",
      "/opt/anaconda3/envs/507b/lib/python3.9/site-packages/sklearn/linear_model/_coordinate_descent.py:647: ConvergenceWarning: Objective did not converge. You might want to increase the number of iterations, check the scale of the features or consider increasing regularisation. Duality gap: 1.771e+05, tolerance: 1.801e+03\n",
      "  model = cd_fast.enet_coordinate_descent(\n",
      "/opt/anaconda3/envs/507b/lib/python3.9/site-packages/sklearn/linear_model/_coordinate_descent.py:647: ConvergenceWarning: Objective did not converge. You might want to increase the number of iterations, check the scale of the features or consider increasing regularisation. Duality gap: 1.663e+05, tolerance: 1.802e+03\n",
      "  model = cd_fast.enet_coordinate_descent(\n",
      "/opt/anaconda3/envs/507b/lib/python3.9/site-packages/sklearn/linear_model/_coordinate_descent.py:647: ConvergenceWarning: Objective did not converge. You might want to increase the number of iterations, check the scale of the features or consider increasing regularisation. Duality gap: 1.659e+05, tolerance: 1.796e+03\n",
      "  model = cd_fast.enet_coordinate_descent(\n",
      "/opt/anaconda3/envs/507b/lib/python3.9/site-packages/sklearn/linear_model/_coordinate_descent.py:647: ConvergenceWarning: Objective did not converge. You might want to increase the number of iterations, check the scale of the features or consider increasing regularisation. Duality gap: 1.807e+05, tolerance: 1.802e+03\n",
      "  model = cd_fast.enet_coordinate_descent(\n",
      "/opt/anaconda3/envs/507b/lib/python3.9/site-packages/sklearn/linear_model/_coordinate_descent.py:647: ConvergenceWarning: Objective did not converge. You might want to increase the number of iterations, check the scale of the features or consider increasing regularisation. Duality gap: 1.579e+05, tolerance: 1.794e+03\n",
      "  model = cd_fast.enet_coordinate_descent(\n"
     ]
    },
    {
     "name": "stderr",
     "output_type": "stream",
     "text": [
      "/opt/anaconda3/envs/507b/lib/python3.9/site-packages/sklearn/linear_model/_coordinate_descent.py:647: ConvergenceWarning: Objective did not converge. You might want to increase the number of iterations, check the scale of the features or consider increasing regularisation. Duality gap: 1.472e+05, tolerance: 1.809e+03\n",
      "  model = cd_fast.enet_coordinate_descent(\n",
      "/opt/anaconda3/envs/507b/lib/python3.9/site-packages/sklearn/linear_model/_coordinate_descent.py:647: ConvergenceWarning: Objective did not converge. You might want to increase the number of iterations, check the scale of the features or consider increasing regularisation. Duality gap: 1.858e+05, tolerance: 1.797e+03\n",
      "  model = cd_fast.enet_coordinate_descent(\n",
      "/opt/anaconda3/envs/507b/lib/python3.9/site-packages/sklearn/linear_model/_coordinate_descent.py:647: ConvergenceWarning: Objective did not converge. You might want to increase the number of iterations, check the scale of the features or consider increasing regularisation. Duality gap: 3.297e+05, tolerance: 1.802e+03\n",
      "  model = cd_fast.enet_coordinate_descent(\n",
      "/opt/anaconda3/envs/507b/lib/python3.9/site-packages/sklearn/linear_model/_coordinate_descent.py:647: ConvergenceWarning: Objective did not converge. You might want to increase the number of iterations, check the scale of the features or consider increasing regularisation. Duality gap: 3.041e+05, tolerance: 1.798e+03\n",
      "  model = cd_fast.enet_coordinate_descent(\n",
      "/opt/anaconda3/envs/507b/lib/python3.9/site-packages/sklearn/linear_model/_coordinate_descent.py:647: ConvergenceWarning: Objective did not converge. You might want to increase the number of iterations, check the scale of the features or consider increasing regularisation. Duality gap: 3.543e+05, tolerance: 1.796e+03\n",
      "  model = cd_fast.enet_coordinate_descent(\n",
      "/opt/anaconda3/envs/507b/lib/python3.9/site-packages/sklearn/linear_model/_coordinate_descent.py:647: ConvergenceWarning: Objective did not converge. You might want to increase the number of iterations, check the scale of the features or consider increasing regularisation. Duality gap: 3.196e+05, tolerance: 1.796e+03\n",
      "  model = cd_fast.enet_coordinate_descent(\n",
      "/opt/anaconda3/envs/507b/lib/python3.9/site-packages/sklearn/linear_model/_coordinate_descent.py:647: ConvergenceWarning: Objective did not converge. You might want to increase the number of iterations, check the scale of the features or consider increasing regularisation. Duality gap: 3.514e+05, tolerance: 1.801e+03\n",
      "  model = cd_fast.enet_coordinate_descent(\n",
      "/opt/anaconda3/envs/507b/lib/python3.9/site-packages/sklearn/linear_model/_coordinate_descent.py:647: ConvergenceWarning: Objective did not converge. You might want to increase the number of iterations, check the scale of the features or consider increasing regularisation. Duality gap: 3.181e+05, tolerance: 1.802e+03\n",
      "  model = cd_fast.enet_coordinate_descent(\n",
      "/opt/anaconda3/envs/507b/lib/python3.9/site-packages/sklearn/linear_model/_coordinate_descent.py:647: ConvergenceWarning: Objective did not converge. You might want to increase the number of iterations, check the scale of the features or consider increasing regularisation. Duality gap: 2.990e+05, tolerance: 1.794e+03\n",
      "  model = cd_fast.enet_coordinate_descent(\n",
      "/opt/anaconda3/envs/507b/lib/python3.9/site-packages/sklearn/linear_model/_coordinate_descent.py:647: ConvergenceWarning: Objective did not converge. You might want to increase the number of iterations, check the scale of the features or consider increasing regularisation. Duality gap: 3.414e+05, tolerance: 1.802e+03\n",
      "  model = cd_fast.enet_coordinate_descent(\n",
      "/opt/anaconda3/envs/507b/lib/python3.9/site-packages/sklearn/linear_model/_coordinate_descent.py:647: ConvergenceWarning: Objective did not converge. You might want to increase the number of iterations, check the scale of the features or consider increasing regularisation. Duality gap: 3.471e+05, tolerance: 1.797e+03\n",
      "  model = cd_fast.enet_coordinate_descent(\n",
      "/opt/anaconda3/envs/507b/lib/python3.9/site-packages/sklearn/linear_model/_coordinate_descent.py:647: ConvergenceWarning: Objective did not converge. You might want to increase the number of iterations, check the scale of the features or consider increasing regularisation. Duality gap: 2.942e+05, tolerance: 1.809e+03\n",
      "  model = cd_fast.enet_coordinate_descent(\n",
      "/opt/anaconda3/envs/507b/lib/python3.9/site-packages/sklearn/linear_model/_coordinate_descent.py:647: ConvergenceWarning: Objective did not converge. You might want to increase the number of iterations, check the scale of the features or consider increasing regularisation. Duality gap: 4.267e+05, tolerance: 1.796e+03\n",
      "  model = cd_fast.enet_coordinate_descent(\n",
      "/opt/anaconda3/envs/507b/lib/python3.9/site-packages/sklearn/linear_model/_coordinate_descent.py:647: ConvergenceWarning: Objective did not converge. You might want to increase the number of iterations, check the scale of the features or consider increasing regularisation. Duality gap: 3.648e+05, tolerance: 1.798e+03\n",
      "  model = cd_fast.enet_coordinate_descent(\n",
      "/opt/anaconda3/envs/507b/lib/python3.9/site-packages/sklearn/linear_model/_coordinate_descent.py:647: ConvergenceWarning: Objective did not converge. You might want to increase the number of iterations, check the scale of the features or consider increasing regularisation. Duality gap: 3.966e+05, tolerance: 1.802e+03\n",
      "  model = cd_fast.enet_coordinate_descent(\n",
      "/opt/anaconda3/envs/507b/lib/python3.9/site-packages/sklearn/linear_model/_coordinate_descent.py:647: ConvergenceWarning: Objective did not converge. You might want to increase the number of iterations, check the scale of the features or consider increasing regularisation. Duality gap: 4.225e+05, tolerance: 1.801e+03\n",
      "  model = cd_fast.enet_coordinate_descent(\n",
      "/opt/anaconda3/envs/507b/lib/python3.9/site-packages/sklearn/linear_model/_coordinate_descent.py:647: ConvergenceWarning: Objective did not converge. You might want to increase the number of iterations, check the scale of the features or consider increasing regularisation. Duality gap: 3.817e+05, tolerance: 1.796e+03\n",
      "  model = cd_fast.enet_coordinate_descent(\n",
      "/opt/anaconda3/envs/507b/lib/python3.9/site-packages/sklearn/linear_model/_coordinate_descent.py:647: ConvergenceWarning: Objective did not converge. You might want to increase the number of iterations, check the scale of the features or consider increasing regularisation. Duality gap: 3.794e+05, tolerance: 1.802e+03\n",
      "  model = cd_fast.enet_coordinate_descent(\n",
      "/opt/anaconda3/envs/507b/lib/python3.9/site-packages/sklearn/linear_model/_coordinate_descent.py:647: ConvergenceWarning: Objective did not converge. You might want to increase the number of iterations, check the scale of the features or consider increasing regularisation. Duality gap: 3.549e+05, tolerance: 1.809e+03\n",
      "  model = cd_fast.enet_coordinate_descent(\n",
      "/opt/anaconda3/envs/507b/lib/python3.9/site-packages/sklearn/linear_model/_coordinate_descent.py:647: ConvergenceWarning: Objective did not converge. You might want to increase the number of iterations, check the scale of the features or consider increasing regularisation. Duality gap: 4.055e+05, tolerance: 1.802e+03\n",
      "  model = cd_fast.enet_coordinate_descent(\n",
      "/opt/anaconda3/envs/507b/lib/python3.9/site-packages/sklearn/linear_model/_coordinate_descent.py:647: ConvergenceWarning: Objective did not converge. You might want to increase the number of iterations, check the scale of the features or consider increasing regularisation. Duality gap: 4.110e+05, tolerance: 1.797e+03\n",
      "  model = cd_fast.enet_coordinate_descent(\n",
      "/opt/anaconda3/envs/507b/lib/python3.9/site-packages/sklearn/linear_model/_coordinate_descent.py:647: ConvergenceWarning: Objective did not converge. You might want to increase the number of iterations, check the scale of the features or consider increasing regularisation. Duality gap: 3.563e+05, tolerance: 1.794e+03\n",
      "  model = cd_fast.enet_coordinate_descent(\n",
      "/opt/anaconda3/envs/507b/lib/python3.9/site-packages/sklearn/linear_model/_coordinate_descent.py:647: ConvergenceWarning: Objective did not converge. You might want to increase the number of iterations, check the scale of the features or consider increasing regularisation. Duality gap: 3.938e+03, tolerance: 1.802e+03\n",
      "  model = cd_fast.enet_coordinate_descent(\n"
     ]
    },
    {
     "name": "stderr",
     "output_type": "stream",
     "text": [
      "/opt/anaconda3/envs/507b/lib/python3.9/site-packages/sklearn/linear_model/_coordinate_descent.py:647: ConvergenceWarning: Objective did not converge. You might want to increase the number of iterations, check the scale of the features or consider increasing regularisation. Duality gap: 3.986e+03, tolerance: 1.798e+03\n",
      "  model = cd_fast.enet_coordinate_descent(\n",
      "/opt/anaconda3/envs/507b/lib/python3.9/site-packages/sklearn/linear_model/_coordinate_descent.py:647: ConvergenceWarning: Objective did not converge. You might want to increase the number of iterations, check the scale of the features or consider increasing regularisation. Duality gap: 5.114e+03, tolerance: 1.796e+03\n",
      "  model = cd_fast.enet_coordinate_descent(\n",
      "/opt/anaconda3/envs/507b/lib/python3.9/site-packages/sklearn/linear_model/_coordinate_descent.py:647: ConvergenceWarning: Objective did not converge. You might want to increase the number of iterations, check the scale of the features or consider increasing regularisation. Duality gap: 3.513e+03, tolerance: 1.801e+03\n",
      "  model = cd_fast.enet_coordinate_descent(\n",
      "/opt/anaconda3/envs/507b/lib/python3.9/site-packages/sklearn/linear_model/_coordinate_descent.py:647: ConvergenceWarning: Objective did not converge. You might want to increase the number of iterations, check the scale of the features or consider increasing regularisation. Duality gap: 4.541e+03, tolerance: 1.796e+03\n",
      "  model = cd_fast.enet_coordinate_descent(\n",
      "/opt/anaconda3/envs/507b/lib/python3.9/site-packages/sklearn/linear_model/_coordinate_descent.py:647: ConvergenceWarning: Objective did not converge. You might want to increase the number of iterations, check the scale of the features or consider increasing regularisation. Duality gap: 4.544e+03, tolerance: 1.802e+03\n",
      "  model = cd_fast.enet_coordinate_descent(\n",
      "/opt/anaconda3/envs/507b/lib/python3.9/site-packages/sklearn/linear_model/_coordinate_descent.py:647: ConvergenceWarning: Objective did not converge. You might want to increase the number of iterations, check the scale of the features or consider increasing regularisation. Duality gap: 4.556e+03, tolerance: 1.802e+03\n",
      "  model = cd_fast.enet_coordinate_descent(\n",
      "/opt/anaconda3/envs/507b/lib/python3.9/site-packages/sklearn/linear_model/_coordinate_descent.py:647: ConvergenceWarning: Objective did not converge. You might want to increase the number of iterations, check the scale of the features or consider increasing regularisation. Duality gap: 3.795e+03, tolerance: 1.809e+03\n",
      "  model = cd_fast.enet_coordinate_descent(\n"
     ]
    }
   ],
   "source": [
    "en_res = en_grid_search.fit(train_X, train_y)"
   ]
  },
  {
   "cell_type": "code",
   "execution_count": 176,
   "id": "a0db704b",
   "metadata": {
    "scrolled": true
   },
   "outputs": [
    {
     "data": {
      "text/plain": [
       "ElasticNet(alpha=0.0001, l1_ratio=0.99, max_iter=100000)"
      ]
     },
     "execution_count": 176,
     "metadata": {},
     "output_type": "execute_result"
    }
   ],
   "source": [
    "en_res.best_estimator_"
   ]
  },
  {
   "cell_type": "markdown",
   "id": "cd903946",
   "metadata": {},
   "source": [
    "The best Elastic Net Regressor identified as per cross validated MSE\n",
    "has `alpha=0.0001` and `l1_ratio=0.99`"
   ]
  },
  {
   "cell_type": "markdown",
   "id": "f532c787",
   "metadata": {},
   "source": [
    "#### Summary of MSE values across `l1_ratio` and `alpha`"
   ]
  },
  {
   "cell_type": "code",
   "execution_count": 177,
   "id": "1628cf81",
   "metadata": {
    "scrolled": true
   },
   "outputs": [
    {
     "data": {
      "image/png": "[encoded data removed]",
      "text/plain": [
       "<Figure size 432x288 with 2 Axes>"
      ]
     },
     "metadata": {
      "needs_background": "light"
     },
     "output_type": "display_data"
    }
   ],
   "source": [
    "en_df = pd.DataFrame(en_res.cv_results_)\n",
    "make_scatter(en_df, \"param_alpha\", \"param_l1_ratio\", xlog=True)"
   ]
  },
  {
   "cell_type": "code",
   "execution_count": 178,
   "id": "abcdacb0",
   "metadata": {},
   "outputs": [
    {
     "data": {
      "text/html": [
       "<div>\n",
       "<style scoped>\n",
       "    .dataframe tbody tr th:only-of-type {\n",
       "        vertical-align: middle;\n",
       "    }\n",
       "\n",
       "    .dataframe tbody tr th {\n",
       "        vertical-align: top;\n",
       "    }\n",
       "\n",
       "    .dataframe thead th {\n",
       "        text-align: right;\n",
       "    }\n",
       "</style>\n",
       "<table border=\"1\" class=\"dataframe\">\n",
       "  <thead>\n",
       "    <tr style=\"text-align: right;\">\n",
       "      <th>Alpha</th>\n",
       "      <th>0.0001</th>\n",
       "      <th>0.0010</th>\n",
       "      <th>0.0100</th>\n",
       "      <th>0.1000</th>\n",
       "    </tr>\n",
       "    <tr>\n",
       "      <th>L1 ratio</th>\n",
       "      <th></th>\n",
       "      <th></th>\n",
       "      <th></th>\n",
       "      <th></th>\n",
       "    </tr>\n",
       "  </thead>\n",
       "  <tbody>\n",
       "    <tr>\n",
       "      <th>0.10</th>\n",
       "      <td>311.74</td>\n",
       "      <td>314.37</td>\n",
       "      <td>319.70</td>\n",
       "      <td>326.74</td>\n",
       "    </tr>\n",
       "    <tr>\n",
       "      <th>0.50</th>\n",
       "      <td>311.60</td>\n",
       "      <td>313.38</td>\n",
       "      <td>318.58</td>\n",
       "      <td>326.24</td>\n",
       "    </tr>\n",
       "    <tr>\n",
       "      <th>0.70</th>\n",
       "      <td>311.53</td>\n",
       "      <td>312.71</td>\n",
       "      <td>317.72</td>\n",
       "      <td>325.74</td>\n",
       "    </tr>\n",
       "    <tr>\n",
       "      <th>0.90</th>\n",
       "      <td>311.45</td>\n",
       "      <td>311.95</td>\n",
       "      <td>316.23</td>\n",
       "      <td>324.80</td>\n",
       "    </tr>\n",
       "    <tr>\n",
       "      <th>0.95</th>\n",
       "      <td>311.44</td>\n",
       "      <td>311.77</td>\n",
       "      <td>315.40</td>\n",
       "      <td>324.39</td>\n",
       "    </tr>\n",
       "    <tr>\n",
       "      <th>0.99</th>\n",
       "      <td>311.44</td>\n",
       "      <td>311.63</td>\n",
       "      <td>313.97</td>\n",
       "      <td>323.88</td>\n",
       "    </tr>\n",
       "    <tr>\n",
       "      <th>1.00</th>\n",
       "      <td>311.44</td>\n",
       "      <td>311.59</td>\n",
       "      <td>313.39</td>\n",
       "      <td>323.74</td>\n",
       "    </tr>\n",
       "  </tbody>\n",
       "</table>\n",
       "</div>"
      ],
      "text/plain": [
       "Alpha     0.0001  0.0010  0.0100  0.1000\n",
       "L1 ratio                                \n",
       "0.10      311.74  314.37  319.70  326.74\n",
       "0.50      311.60  313.38  318.58  326.24\n",
       "0.70      311.53  312.71  317.72  325.74\n",
       "0.90      311.45  311.95  316.23  324.80\n",
       "0.95      311.44  311.77  315.40  324.39\n",
       "0.99      311.44  311.63  313.97  323.88\n",
       "1.00      311.44  311.59  313.39  323.74"
      ]
     },
     "execution_count": 178,
     "metadata": {},
     "output_type": "execute_result"
    }
   ],
   "source": [
    "make_mse_summary(en_df, \"param_l1_ratio\", \"param_alpha\")"
   ]
  },
  {
   "cell_type": "markdown",
   "id": "8ce57471",
   "metadata": {},
   "source": [
    "### Random Forest"
   ]
  },
  {
   "cell_type": "code",
   "execution_count": 179,
   "id": "53bbe487",
   "metadata": {
    "scrolled": true
   },
   "outputs": [],
   "source": [
    "rf_res = rf_grid_search.fit(train_X, train_y)"
   ]
  },
  {
   "cell_type": "code",
   "execution_count": 180,
   "id": "91382d56",
   "metadata": {
    "scrolled": true
   },
   "outputs": [
    {
     "data": {
      "text/plain": [
       "RandomForestRegressor(max_depth=16, n_estimators=500)"
      ]
     },
     "execution_count": 180,
     "metadata": {},
     "output_type": "execute_result"
    }
   ],
   "source": [
    "rf_res.best_estimator_"
   ]
  },
  {
   "cell_type": "markdown",
   "id": "0765bec2",
   "metadata": {},
   "source": [
    "The best Random Forest Regressor identified as per cross validated\n",
    "MSE has `max_depth=16` and `n_estimators=500`"
   ]
  },
  {
   "cell_type": "markdown",
   "id": "5fd9208f",
   "metadata": {},
   "source": [
    "#### Summary of MSE values across `n_estimators` and `max_depth`"
   ]
  },
  {
   "cell_type": "code",
   "execution_count": 181,
   "id": "232b0375",
   "metadata": {
    "scrolled": true
   },
   "outputs": [
    {
     "data": {
      "image/png": "[encoded data removed]",
      "text/plain": [
       "<Figure size 432x288 with 2 Axes>"
      ]
     },
     "metadata": {
      "needs_background": "light"
     },
     "output_type": "display_data"
    }
   ],
   "source": [
    "rf_df = pd.DataFrame(rf_res.cv_results_)\n",
    "make_scatter(rf_df, \"param_n_estimators\", \"param_max_depth\")"
   ]
  },
  {
   "cell_type": "code",
   "execution_count": 182,
   "id": "fea94eef",
   "metadata": {},
   "outputs": [
    {
     "data": {
      "text/html": [
       "<div>\n",
       "<style scoped>\n",
       "    .dataframe tbody tr th:only-of-type {\n",
       "        vertical-align: middle;\n",
       "    }\n",
       "\n",
       "    .dataframe tbody tr th {\n",
       "        vertical-align: top;\n",
       "    }\n",
       "\n",
       "    .dataframe thead th {\n",
       "        text-align: right;\n",
       "    }\n",
       "</style>\n",
       "<table border=\"1\" class=\"dataframe\">\n",
       "  <thead>\n",
       "    <tr style=\"text-align: right;\">\n",
       "      <th>Max depth</th>\n",
       "      <th>6</th>\n",
       "      <th>8</th>\n",
       "      <th>10</th>\n",
       "      <th>12</th>\n",
       "      <th>14</th>\n",
       "      <th>16</th>\n",
       "    </tr>\n",
       "    <tr>\n",
       "      <th>N estimators</th>\n",
       "      <th></th>\n",
       "      <th></th>\n",
       "      <th></th>\n",
       "      <th></th>\n",
       "      <th></th>\n",
       "      <th></th>\n",
       "    </tr>\n",
       "  </thead>\n",
       "  <tbody>\n",
       "    <tr>\n",
       "      <th>100</th>\n",
       "      <td>200.96</td>\n",
       "      <td>148.52</td>\n",
       "      <td>117.61</td>\n",
       "      <td>101.71</td>\n",
       "      <td>94.17</td>\n",
       "      <td>91.58</td>\n",
       "    </tr>\n",
       "    <tr>\n",
       "      <th>200</th>\n",
       "      <td>199.67</td>\n",
       "      <td>147.92</td>\n",
       "      <td>117.88</td>\n",
       "      <td>101.03</td>\n",
       "      <td>93.80</td>\n",
       "      <td>90.61</td>\n",
       "    </tr>\n",
       "    <tr>\n",
       "      <th>300</th>\n",
       "      <td>199.75</td>\n",
       "      <td>147.89</td>\n",
       "      <td>117.87</td>\n",
       "      <td>101.20</td>\n",
       "      <td>93.69</td>\n",
       "      <td>90.52</td>\n",
       "    </tr>\n",
       "    <tr>\n",
       "      <th>400</th>\n",
       "      <td>199.44</td>\n",
       "      <td>147.94</td>\n",
       "      <td>117.33</td>\n",
       "      <td>100.98</td>\n",
       "      <td>93.27</td>\n",
       "      <td>90.70</td>\n",
       "    </tr>\n",
       "    <tr>\n",
       "      <th>500</th>\n",
       "      <td>199.66</td>\n",
       "      <td>147.80</td>\n",
       "      <td>117.41</td>\n",
       "      <td>101.28</td>\n",
       "      <td>93.48</td>\n",
       "      <td>90.14</td>\n",
       "    </tr>\n",
       "  </tbody>\n",
       "</table>\n",
       "</div>"
      ],
      "text/plain": [
       "Max depth         6       8       10      12     14     16\n",
       "N estimators                                              \n",
       "100           200.96  148.52  117.61  101.71  94.17  91.58\n",
       "200           199.67  147.92  117.88  101.03  93.80  90.61\n",
       "300           199.75  147.89  117.87  101.20  93.69  90.52\n",
       "400           199.44  147.94  117.33  100.98  93.27  90.70\n",
       "500           199.66  147.80  117.41  101.28  93.48  90.14"
      ]
     },
     "execution_count": 182,
     "metadata": {},
     "output_type": "execute_result"
    }
   ],
   "source": [
    "make_mse_summary(rf_df, \"param_n_estimators\", \"param_max_depth\")"
   ]
  },
  {
   "cell_type": "markdown",
   "id": "dff76baf",
   "metadata": {},
   "source": [
    "### Gradient Boosted Trees"
   ]
  },
  {
   "cell_type": "code",
   "execution_count": 183,
   "id": "c33ecae5",
   "metadata": {},
   "outputs": [],
   "source": [
    "gb_res = gb_grid_search.fit(train_X, train_y)"
   ]
  },
  {
   "cell_type": "code",
   "execution_count": 184,
   "id": "959c3a69",
   "metadata": {},
   "outputs": [
    {
     "data": {
      "text/plain": [
       "GradientBoostingRegressor(learning_rate=0.2, n_estimators=500)"
      ]
     },
     "execution_count": 184,
     "metadata": {},
     "output_type": "execute_result"
    }
   ],
   "source": [
    "gb_res.best_estimator_"
   ]
  },
  {
   "cell_type": "markdown",
   "id": "52963497",
   "metadata": {},
   "source": [
    "The best Gradient Boosted Regressor identified as per cross\n",
    "validated MSE has `learning_rate=0.2` and `n_estimators=500`"
   ]
  },
  {
   "cell_type": "markdown",
   "id": "ee7c14fc",
   "metadata": {},
   "source": [
    "#### Summary of MSE values across `n_estimators` and `learning_rate`"
   ]
  },
  {
   "cell_type": "code",
   "execution_count": 185,
   "id": "017cfdff",
   "metadata": {},
   "outputs": [
    {
     "data": {
      "image/png": "[encoded data removed]",
      "text/plain": [
       "<Figure size 432x288 with 2 Axes>"
      ]
     },
     "metadata": {
      "needs_background": "light"
     },
     "output_type": "display_data"
    }
   ],
   "source": [
    "gb_df = pd.DataFrame(gb_res.cv_results_)\n",
    "make_scatter(gb_df, \"param_n_estimators\", \"param_learning_rate\")"
   ]
  },
  {
   "cell_type": "code",
   "execution_count": 186,
   "id": "3a2a0bac",
   "metadata": {},
   "outputs": [
    {
     "data": {
      "text/html": [
       "<div>\n",
       "<style scoped>\n",
       "    .dataframe tbody tr th:only-of-type {\n",
       "        vertical-align: middle;\n",
       "    }\n",
       "\n",
       "    .dataframe tbody tr th {\n",
       "        vertical-align: top;\n",
       "    }\n",
       "\n",
       "    .dataframe thead th {\n",
       "        text-align: right;\n",
       "    }\n",
       "</style>\n",
       "<table border=\"1\" class=\"dataframe\">\n",
       "  <thead>\n",
       "    <tr style=\"text-align: right;\">\n",
       "      <th>Learning rate</th>\n",
       "      <th>0.20</th>\n",
       "      <th>0.35</th>\n",
       "      <th>0.37</th>\n",
       "      <th>0.40</th>\n",
       "      <th>0.42</th>\n",
       "      <th>0.45</th>\n",
       "      <th>0.60</th>\n",
       "    </tr>\n",
       "    <tr>\n",
       "      <th>N estimators</th>\n",
       "      <th></th>\n",
       "      <th></th>\n",
       "      <th></th>\n",
       "      <th></th>\n",
       "      <th></th>\n",
       "      <th></th>\n",
       "      <th></th>\n",
       "    </tr>\n",
       "  </thead>\n",
       "  <tbody>\n",
       "    <tr>\n",
       "      <th>100</th>\n",
       "      <td>139.24</td>\n",
       "      <td>129.63</td>\n",
       "      <td>129.80</td>\n",
       "      <td>127.68</td>\n",
       "      <td>129.44</td>\n",
       "      <td>127.29</td>\n",
       "      <td>131.16</td>\n",
       "    </tr>\n",
       "    <tr>\n",
       "      <th>200</th>\n",
       "      <td>122.39</td>\n",
       "      <td>116.42</td>\n",
       "      <td>116.15</td>\n",
       "      <td>114.96</td>\n",
       "      <td>116.59</td>\n",
       "      <td>116.12</td>\n",
       "      <td>122.10</td>\n",
       "    </tr>\n",
       "    <tr>\n",
       "      <th>300</th>\n",
       "      <td>113.72</td>\n",
       "      <td>110.57</td>\n",
       "      <td>110.40</td>\n",
       "      <td>110.22</td>\n",
       "      <td>112.15</td>\n",
       "      <td>111.89</td>\n",
       "      <td>118.72</td>\n",
       "    </tr>\n",
       "    <tr>\n",
       "      <th>400</th>\n",
       "      <td>109.18</td>\n",
       "      <td>107.46</td>\n",
       "      <td>107.94</td>\n",
       "      <td>108.31</td>\n",
       "      <td>110.14</td>\n",
       "      <td>110.36</td>\n",
       "      <td>118.24</td>\n",
       "    </tr>\n",
       "    <tr>\n",
       "      <th>500</th>\n",
       "      <td>106.26</td>\n",
       "      <td>106.28</td>\n",
       "      <td>106.29</td>\n",
       "      <td>106.70</td>\n",
       "      <td>109.15</td>\n",
       "      <td>109.02</td>\n",
       "      <td>117.91</td>\n",
       "    </tr>\n",
       "  </tbody>\n",
       "</table>\n",
       "</div>"
      ],
      "text/plain": [
       "Learning rate    0.20    0.35    0.37    0.40    0.42    0.45    0.60\n",
       "N estimators                                                         \n",
       "100            139.24  129.63  129.80  127.68  129.44  127.29  131.16\n",
       "200            122.39  116.42  116.15  114.96  116.59  116.12  122.10\n",
       "300            113.72  110.57  110.40  110.22  112.15  111.89  118.72\n",
       "400            109.18  107.46  107.94  108.31  110.14  110.36  118.24\n",
       "500            106.26  106.28  106.29  106.70  109.15  109.02  117.91"
      ]
     },
     "execution_count": 186,
     "metadata": {},
     "output_type": "execute_result"
    }
   ],
   "source": [
    "make_mse_summary(gb_df, \"param_n_estimators\", \"param_learning_rate\")"
   ]
  },
  {
   "cell_type": "markdown",
   "id": "007fc05b",
   "metadata": {},
   "source": [
    "## Q2 - Validation and Testing"
   ]
  },
  {
   "cell_type": "code",
   "execution_count": 187,
   "id": "bfe76f8d",
   "metadata": {
    "scrolled": false
   },
   "outputs": [],
   "source": [
    "def train_best(cve, X, y):\n",
    "    \"\"\"\n",
    "    Trains the best estimator (as per 10-fold CV using MSE) against X and y\n",
    "\n",
    "    Parameters\n",
    "    ----------\n",
    "    cve : GridSearchCV\n",
    "        object which has info about best estimator and corresponding \n",
    "        hyperparameter values.\n",
    "    X : DataFrame\n",
    "        Predictor column values of dataset.\n",
    "    y : DataFrame\n",
    "        Response column values of dataset corresponding to X.\n",
    "\n",
    "    Returns\n",
    "    -------\n",
    "    Estimator\n",
    "        object fitted with X and y, using best estimator hyperparameter values.\n",
    "\n",
    "    \"\"\"\n",
    "    return cve.best_estimator_.fit(X, y)"
   ]
  },
  {
   "cell_type": "code",
   "execution_count": 188,
   "id": "941e7f5d",
   "metadata": {},
   "outputs": [],
   "source": [
    "en_final = train_best(en_res, train_X, train_y)\n",
    "rf_final = train_best(rf_res, train_X, train_y)\n",
    "gb_final = train_best(gb_res, train_X, train_y)"
   ]
  },
  {
   "cell_type": "markdown",
   "id": "51f36213",
   "metadata": {},
   "source": [
    "### Validation"
   ]
  },
  {
   "cell_type": "code",
   "execution_count": 189,
   "id": "b8ccffaf",
   "metadata": {},
   "outputs": [],
   "source": [
    "validation_summary = pd.DataFrame({\n",
    "    \"MSE\": [\n",
    "        mean_squared_error(en_final.predict(validation_X), validation_y),\n",
    "        mean_squared_error(rf_final.predict(validation_X), validation_y),\n",
    "        mean_squared_error(gb_final.predict(validation_X), validation_y)\n",
    "    ],\n",
    "    \"R^2\": [\n",
    "        en_final.score(validation_X, validation_y),\n",
    "        rf_final.score(validation_X, validation_y),\n",
    "        gb_final.score(validation_X, validation_y)\n",
    "    ]\n",
    "}, index=[\"Elastic Net\", \"Random Forest\", \"Gradient Boosted Trees\"])"
   ]
  },
  {
   "cell_type": "code",
   "execution_count": 190,
   "id": "a5e25803",
   "metadata": {
    "scrolled": false
   },
   "outputs": [
    {
     "data": {
      "text/html": [
       "<div>\n",
       "<style scoped>\n",
       "    .dataframe tbody tr th:only-of-type {\n",
       "        vertical-align: middle;\n",
       "    }\n",
       "\n",
       "    .dataframe tbody tr th {\n",
       "        vertical-align: top;\n",
       "    }\n",
       "\n",
       "    .dataframe thead th {\n",
       "        text-align: right;\n",
       "    }\n",
       "</style>\n",
       "<table border=\"1\" class=\"dataframe\">\n",
       "  <thead>\n",
       "    <tr style=\"text-align: right;\">\n",
       "      <th></th>\n",
       "      <th>MSE</th>\n",
       "      <th>R^2</th>\n",
       "    </tr>\n",
       "  </thead>\n",
       "  <tbody>\n",
       "    <tr>\n",
       "      <th>Elastic Net</th>\n",
       "      <td>321.801</td>\n",
       "      <td>0.727</td>\n",
       "    </tr>\n",
       "    <tr>\n",
       "      <th>Random Forest</th>\n",
       "      <td>87.733</td>\n",
       "      <td>0.926</td>\n",
       "    </tr>\n",
       "    <tr>\n",
       "      <th>Gradient Boosted Trees</th>\n",
       "      <td>103.542</td>\n",
       "      <td>0.912</td>\n",
       "    </tr>\n",
       "  </tbody>\n",
       "</table>\n",
       "</div>"
      ],
      "text/plain": [
       "                            MSE    R^2\n",
       "Elastic Net             321.801  0.727\n",
       "Random Forest            87.733  0.926\n",
       "Gradient Boosted Trees  103.542  0.912"
      ]
     },
     "execution_count": 190,
     "metadata": {},
     "output_type": "execute_result"
    }
   ],
   "source": [
    "validation_summary.round(3)"
   ]
  },
  {
   "cell_type": "code",
   "execution_count": 191,
   "id": "3250cae1",
   "metadata": {},
   "outputs": [
    {
     "data": {
      "text/plain": [
       "RandomForestRegressor(max_depth=16, n_estimators=500)"
      ]
     },
     "execution_count": 191,
     "metadata": {},
     "output_type": "execute_result"
    }
   ],
   "source": [
    "rf_res.best_estimator_"
   ]
  },
  {
   "cell_type": "markdown",
   "id": "8d4aae9f",
   "metadata": {},
   "source": [
    "Random Forest (with `max_depth=16`, `n_estimators=500`)\n",
    "performs the best on the validation set"
   ]
  },
  {
   "cell_type": "markdown",
   "id": "df1fb0e6",
   "metadata": {},
   "source": [
    "### Test"
   ]
  },
  {
   "cell_type": "code",
   "execution_count": 192,
   "id": "60bcb865",
   "metadata": {},
   "outputs": [],
   "source": [
    "test_summary = pd.DataFrame({\n",
    "    \"MSE\": [\n",
    "        mean_squared_error(rf_final.predict(test_X), test_y),\n",
    "    ],\n",
    "    \"R^2\": [\n",
    "        rf_final.score(test_X, test_y),\n",
    "    ]\n",
    "}, index=[\"Random Forest\"])"
   ]
  },
  {
   "cell_type": "code",
   "execution_count": 193,
   "id": "28091379",
   "metadata": {
    "scrolled": true
   },
   "outputs": [
    {
     "data": {
      "text/html": [
       "<div>\n",
       "<style scoped>\n",
       "    .dataframe tbody tr th:only-of-type {\n",
       "        vertical-align: middle;\n",
       "    }\n",
       "\n",
       "    .dataframe tbody tr th {\n",
       "        vertical-align: top;\n",
       "    }\n",
       "\n",
       "    .dataframe thead th {\n",
       "        text-align: right;\n",
       "    }\n",
       "</style>\n",
       "<table border=\"1\" class=\"dataframe\">\n",
       "  <thead>\n",
       "    <tr style=\"text-align: right;\">\n",
       "      <th></th>\n",
       "      <th>MSE</th>\n",
       "      <th>R^2</th>\n",
       "    </tr>\n",
       "  </thead>\n",
       "  <tbody>\n",
       "    <tr>\n",
       "      <th>Random Forest</th>\n",
       "      <td>85.74</td>\n",
       "      <td>0.93</td>\n",
       "    </tr>\n",
       "  </tbody>\n",
       "</table>\n",
       "</div>"
      ],
      "text/plain": [
       "                 MSE   R^2\n",
       "Random Forest  85.74  0.93"
      ]
     },
     "execution_count": 193,
     "metadata": {},
     "output_type": "execute_result"
    }
   ],
   "source": [
    "test_summary.round(2)"
   ]
  },
  {
   "cell_type": "markdown",
   "id": "d3f4d693",
   "metadata": {},
   "source": [
    " It is observed that the Random Forest model has an MSE of\n",
    "`85.74` on the test set, and an $R^2$ of `0.93`"
   ]
  }
 ],
 "metadata": {
  "jupytext": {
   "formats": "ipynb,py:light"
  },
  "kernelspec": {
   "display_name": "Python 3 (ipykernel)",
   "language": "python",
   "name": "python3"
  },
  "language_info": {
   "codemirror_mode": {
    "name": "ipython",
    "version": 3
   },
   "file_extension": ".py",
   "mimetype": "text/x-python",
   "name": "python",
   "nbconvert_exporter": "python",
   "pygments_lexer": "ipython3",
   "version": "3.9.6"
  }
 },
 "nbformat": 4,
 "nbformat_minor": 5
}
